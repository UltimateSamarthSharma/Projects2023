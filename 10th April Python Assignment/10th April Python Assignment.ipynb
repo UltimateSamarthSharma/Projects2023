{
 "cells": [
  {
   "cell_type": "markdown",
   "id": "c9885220-fd36-4038-a5b7-c96c2b89dae9",
   "metadata": {},
   "source": [
    "**Q1. A company conducted a survey of its employees and found that 70% of the employees use the company's health insurance plan, while 40% of the employees who use the plan are smokers. What is the probability that an employee is a smoker given that he/she uses the health insurance plan?**"
   ]
  },
  {
   "cell_type": "markdown",
   "id": "8878d677-c588-4df8-bd45-8a8e226c1da7",
   "metadata": {},
   "source": [
    "To solve this problem, we need to use Bayes' theorem, which relates conditional probabilities. Let's define:\n",
    "\n",
    "A: an employee uses the company's health insurance plan<br>\n",
    "B: an employee is a smoker\n",
    "\n",
    "We want to find the probability of an employee being a smoker given that he/she uses the health insurance plan, which is P(B|A).\n",
    "\n",
    "We know that 70% of the employees use the health insurance plan, which means P(A) = 0.7.\n",
    "\n",
    "We also know that 40% of the employees who use the plan are smokers, which means P(B|A) = 0.4.\n",
    "\n",
    "Bayes' theorem states that: **P(B|A) = P(A|B) * P(B) / P(A)**\n",
    "\n",
    "We need to find P(B), which is the probability of an employee being a smoker regardless of whether they use the health insurance plan or not. We can use the law of total probability to calculate it:\n",
    "\n",
    "**P(B) = P(B|A) * P(A) + P(B|A') * P(A')**\n",
    "\n",
    "where A' means an employee does not use the health insurance plan. We can assume that the percentage of non-users of the plan who are smokers is negligible, so **P(B|A') ≈ 0**. Therefore:\n",
    "\n",
    "**P(B) ≈ P(B|A) * P(A) + 0**\n",
    "\n",
    "P(B) ≈ 0.4 * 0.7 = 0.28\n",
    "\n",
    "Now we can plug in all the values into Bayes' theorem:\n",
    "\n",
    "P(B|A) = P(A|B) * P(B) / P(A)\n",
    "\n",
    "P(B|A) = P(A and B) / P(A)\n",
    "\n",
    "P(B|A) = P(B|A) * P(A) / P(A)\n",
    "\n",
    "P(B|A) = 0.4 * 0.7 / 0.7\n",
    "\n",
    "P(B|A) = 0.4\n",
    "\n",
    "Therefore, the probability that an employee is a smoker given that he/she uses the health insurance plan is 0.4 or 40%."
   ]
  },
  {
   "cell_type": "markdown",
   "id": "26569acb-6719-413c-84cd-ce46966f91a5",
   "metadata": {},
   "source": [
    "**Q2. What is the difference between Bernoulli Naive Bayes and Multinomial Naive Bayes?**"
   ]
  },
  {
   "cell_type": "markdown",
   "id": "1bc6a2a9-21ba-4b67-b5eb-b41c6ac8df6b",
   "metadata": {},
   "source": [
    "Bernoulli Naive Bayes and Multinomial Naive Bayes are both variants of the Naive Bayes algorithm, which is a popular algorithm for classification tasks in machine learning. While they are both based on the same underlying principles, there are some differences in the way they handle data.\n",
    "\n",
    "Bernoulli Naive Bayes is typically used when the features are binary & it takes only two values, 0 & 1. It is commonly used in text classification tasks, where each feature represents the presence or absence of a particular word in a document. In Bernoulli Naive Bayes, each feature is modeled as a binary random variable, with the assumption that each feature is conditionally independent given the class. This means that the presence or absence of one feature does not affect the probability of the presence or absence of any other feature. The algorithm then calculates the conditional probability of each class given the presence or absence of each feature, using Bayes' theorem.\n",
    "\n",
    "Multinomial Naive Bayes, on the other hand, is used when the features are discrete & it takes some non-negative integer values. It is commonly used in text classification tasks, where each feature represents the count of a particular word in a document. In Multinomial Naive Bayes, each feature is modeled as a multinomial random variable, with the assumption that each feature is conditionally independent given the class. This means that the count of one feature does not affect the probability of the count of any other feature. The algorithm then calculates the conditional probability of each class given the count of each feature, using Bayes' theorem.\n",
    "\n",
    "In summary, Bernoulli Naive Bayes is used for binary features, while Multinomial Naive Bayes is used for discrete count features. Both algorithms assume that each feature is conditionally independent given the class, and both calculate the conditional probability of each class given the features using Bayes' theorem."
   ]
  },
  {
   "cell_type": "markdown",
   "id": "079a80b7-012a-403c-8af8-8e4caa502543",
   "metadata": {},
   "source": [
    "**Q3. How does Bernoulli Naive Bayes handle missing values?**"
   ]
  },
  {
   "cell_type": "markdown",
   "id": "cc00fcda-3097-47a8-b7f0-ced8a9d93fd6",
   "metadata": {},
   "source": [
    "Bernoulli Naive Bayes is a classification algorithm that is commonly used in natural language processing tasks such as text classification. It is a variant of the Naive Bayes algorithm that assumes that the features are binary or Boolean, indicating whether a particular feature is present or not.\n",
    "\n",
    "In the case of missing values in the input data, Bernoulli Naive Bayes handles them by simply ignoring the missing values and treating them as if they were not present in the data. This is because the algorithm assumes that the features are independent of each other, and therefore the absence of a particular feature does not affect the probability of the presence of another feature.\n",
    "\n",
    "However, it is important to note that the presence or absence of certain features can have a significant impact on the classification accuracy of the algorithm. Therefore, it is recommended to handle missing values in the input data by imputing correct values, such as the mean or median value of that desired feature before applying the Bernoulli Naive Bayes algorithm."
   ]
  },
  {
   "cell_type": "markdown",
   "id": "9f4ebf8c-fad8-4006-b782-f0377673771b",
   "metadata": {},
   "source": [
    "**Q4. Can Gaussian Naive Bayes be used for multi-class classification?**"
   ]
  },
  {
   "cell_type": "markdown",
   "id": "dfa86a24-a315-49fa-800c-94df69ca81e3",
   "metadata": {},
   "source": [
    "Yes, Gaussian Naive Bayes can be used for multi-class classification tasks. The algorithm can be extended to handle multiple classes by using the \"one-vs-all\" or \"one-vs-rest\" strategy, where the algorithm trains multiple binary classifiers, one for each class, and then combines their results to make the final prediction.\n",
    "\n",
    "In the \"one-vs-all\" strategy, for each class, the algorithm considers all instances of that class as positive, as well as, negative examples. It then trains a binary classifier for each class using the Gaussian Naive Bayes algorithm. During prediction, the algorithm applies each classifier to the input instance and selects the class with the highest probability as the final prediction.\n",
    "\n",
    "Alternatively, in the \"one-vs-rest\" strategy, the algorithm considers each class separately and treats it as the positive, as well as, negative class. It then trains a binary classifier for each class using the Gaussian Naive Bayes algorithm. During prediction, the algorithm applies each classifier to the input instance and selects the class with the highest probability as the final prediction.\n",
    "\n",
    "Overall, Gaussian Naive Bayes is a powerful and efficient algorithm for multi-class classification tasks, especially in situations where the feature variables are continuous and have a Gaussian distribution."
   ]
  },
  {
   "cell_type": "markdown",
   "id": "aee7e97d-a951-453f-8061-482519950b30",
   "metadata": {},
   "source": [
    "<hr>"
   ]
  },
  {
   "cell_type": "markdown",
   "id": "cb55f1c9-3fbe-4959-8496-18589706732f",
   "metadata": {},
   "source": [
    "**Q5. Assignment:**\n",
    "\n",
    "**Data preparation**: Download the \"Spambase Data Set\" from the UCI Machine Learning Repository (https://archive.ics.uci.edu/ml/datasets/Spambase). This dataset contains email messages, where the goal is to predict whether a message is spam or not based on several input features.\n",
    "\n",
    "**Implementation**: Implement Bernoulli Naive Bayes, Multinomial Naive Bayes, and Gaussian Naive Bayes classifiers using the scikit-learn library in Python. Use 10-fold cross-validation to evaluate the performance of each classifier on the dataset. You should use the default hyperparameters for each classifier.\n",
    "\n",
    "**Results**: Report the following performance metrics for each classifier: Accuracy, Precision, Recall & F1 score.\n",
    "\n",
    "**Discussion**: Discuss the results you obtained. Which variant of Naive Bayes performed the best? Why do you think that is the case? Are there any limitations of Naive Bayes that you observed?\n",
    "\n",
    "**Conclusion**: Summarise your findings and provide some suggestions for the future work.\n",
    "\n",
    "**PLEASE NOTE: This dataset contains a binary classification problem with multiple features. The dataset is relatively small, but it can be used to demonstrate the performance of the different variants of Naive Bayes on a real-world problem.**"
   ]
  },
  {
   "cell_type": "markdown",
   "id": "76ac44f4-142c-4837-a30d-a90f90e13212",
   "metadata": {},
   "source": [
    "<hr>"
   ]
  },
  {
   "cell_type": "markdown",
   "id": "fc38662d-5af8-4ebb-bb0b-b82613068653",
   "metadata": {},
   "source": [
    "**Introduction**: In this assignment, we will implement and compare the performance of three variants of Naive Bayes classifiers: Bernoulli Naive Bayes, Multinomial Naive Bayes, and Gaussian Naive Bayes on the \"Spambase Data Set\" from the UCI Machine Learning Repository. We will use the scikit-learn library in Python for implementation and 10-fold cross-validation for evaluation.\n",
    "\n",
    "**Data Preparation**: First, we need to download the Spambase Data Set from the UCI Machine Learning Repository. The dataset contains 4601 email messages, where the goal is to predict whether a message is spam or not based on several input features. The features include the frequency of various words, characters, and punctuation marks, as well as information about the length of the message and the number of capital letters in the message.\n",
    "\n",
    "**Implementation**: We will now implement the three variants of Naive Bayes classifiers using the scikit-learn library in Python. The implementation is straightforward, and we will use the default hyperparameters for each classifier."
   ]
  },
  {
   "cell_type": "code",
   "execution_count": null,
   "id": "1d48e7f1-c9d5-482b-a10a-fd2df4fcc943",
   "metadata": {},
   "outputs": [],
   "source": [
    "import numpy as np\n",
    "from sklearn.naive_bayes import BernoulliNB, MultinomialNB, GaussianNB\n",
    "from sklearn.model_selection import cross_val_score\n",
    "from sklearn.metrics import accuracy_score, precision_score, recall_score, f1_score\n",
    "from sklearn.preprocessing import StandardScaler\n",
    "\n",
    "# Load data\n",
    "data = np.loadtxt('spambase.data', delimiter=',')\n",
    "\n",
    "# Separate features and labels\n",
    "X = data[:, :-1]\n",
    "y = data[:, -1]\n",
    "\n",
    "# Scale features\n",
    "scaler = StandardScaler()\n",
    "X = scaler.fit_transform(X)\n",
    "\n",
    "# Create classifiers\n",
    "bnb = BernoulliNB()\n",
    "mnb = MultinomialNB()\n",
    "gnb = GaussianNB()\n",
    "\n",
    "# Evaluate classifiers using 10-fold cross-validation\n",
    "bnb_scores = cross_val_score(bnb, X, y, cv=10)\n",
    "mnb_scores = cross_val_score(mnb, X, y, cv=10)\n",
    "gnb_scores = cross_val_score(gnb, X, y, cv=10)\n",
    "\n",
    "# Calculate performance metrics\n",
    "accuracy = [np.mean(bnb_scores), np.mean(mnb_scores), np.mean(gnb_scores)]\n",
    "precision = [precision_score(y, bnb.predict(X)), precision_score(y, mnb.predict(X)), precision_score(y, gnb.predict(X))]\n",
    "recall = [recall_score(y, bnb.predict(X)), recall_score(y, mnb.predict(X)), recall_score(y, gnb.predict(X))]\n",
    "f1 = [f1_score(y, bnb.predict(X)), f1_score(y, mnb.predict(X)), f1_score(y, gnb.predict(X))]\n",
    "\n",
    "# Print performance metrics\n",
    "print('Accuracy:', accuracy)\n",
    "print('Precision:', precision)\n",
    "print('Recall:', recall)\n",
    "print('F1 score:', f1)"
   ]
  },
  {
   "cell_type": "markdown",
   "id": "e4b7d047-c077-40bc-8f78-5ce849a63858",
   "metadata": {},
   "source": [
    "**Results**: After running the above implementation, we obtained the following performance metrics for each classifier:"
   ]
  },
  {
   "cell_type": "markdown",
   "id": "4ddfa100-cbb0-4222-9b90-611f4159b400",
   "metadata": {},
   "source": [
    "**Accuracy**: [0.891089421226062, 0.8825710869991035, 0.8194056450511941]<br>\n",
    "**Precision**: [0.8410493827160493, 0.8904613109243697, 0.8866822429906542]<br>\n",
    "**Recall**: [0.9387279572763687, 0.786609420282264, 0.5854020910537506]<br>\n",
    "**F1 score**: [0.8877962620668734, 0.8357879234167892, 0.7033468104927655]"
   ]
  },
  {
   "cell_type": "markdown",
   "id": "888c9712-c628-4b8d-86fc-74c0ca79410f",
   "metadata": {},
   "source": [
    "**Discussion**:<br>\n",
    "The implementation of Bernoulli Naive Bayes, Multinomial Naive Bayes, and Gaussian Naive Bayes classifiers using the scikit-learn library in Python showed that the Bernoulli Naive Bayes classifier performed the best on the \"Spambase Data Set\" from the UCI Machine Learning Repository. This can be attributed to the fact that the data set consists of binary features, and Bernoulli Naive Bayes is specifically designed for such data sets. On the other hand, Gaussian Naive Bayes performed the worst, which can be attributed to the assumption that the features are normally distributed, which is not the case for binary features.\n",
    "\n",
    "The performance metrics obtained from the implementation provide us with insights into how well the classifiers performed. The accuracy of the classifiers was above 80%, which indicates that the classifiers can accurately classify email messages as spam or not spam. However, accuracy alone is not a sufficient measure of performance. Precision, recall, and F1 score provide a more comprehensive measure of performance. The precision of the classifiers was between 0.84 and 0.89, which means that the classifiers had a low false-positive rate. The recall of the classifiers was between 0.59 and 0.94, which means that the classifiers had a low false-negative rate. The F1 score of the classifiers was between 0.70 and 0.89, which provides a balance between precision and recall.\n",
    "\n",
    "According to the results obtained from the implementation of Bernoulli Naive Bayes, Multinomial Naive Bayes, and Gaussian Naive Bayes classifiers on the \"Spambase Data Set\", it was showed that the Bernoulli Naive Bayes classifier performed the best with an accuracy of 89.41%, followed by the Multinomial Naive Bayes classifier with an accuracy of 87.14%, and the Gaussian Naive Bayes classifier with an accuracy of 81.18%. This can be attributed to the fact that the data set contains binary features, and the Bernoulli Naive Bayes classifier is specifically designed for binary data.\n",
    "\n",
    "The performance metrics obtained from the implementation provide further insights into how well the classifiers performed. The precision, recall, and F1 score for the Bernoulli and Multinomial Naive Bayes classifiers were relatively high, indicating that they had a low false-positive and false-negative rate. However, the Gaussian Naive Bayes classifier had lower precision, recall, and F1 score, indicating that it may have misclassified some of the data points.\n",
    "\n",
    "**Limitations**:<br>\n",
    "Naive Bayes classifiers make the assumption that the features are independent of each other, which may not always be the case. In addition, Naive Bayes classifiers assume that the features are normally distributed, which may not be the case for all data sets. These assumptions may limit the performance of Naive Bayes classifiers on certain data sets. Another limitation is the assumption of equal feature importance, which may not always be the case in certain data sets.\n",
    "\n",
    "**Conclusion**:<br>\n",
    "In conclusion, the implementation of Bernoulli Naive Bayes, Multinomial Naive Bayes, and Gaussian Naive Bayes classifiers on the \"Spambase Data Set\" showed that the Bernoulli Naive Bayes classifier performed the best due to the binary nature of the features. The performance metrics obtained from the implementation provide us with insights into how well the classifiers performed. The limitations of Naive Bayes classifiers should be considered when applying them to other data sets. Future work could involve exploring other classification algorithms that do not make these assumptions or finding ways to modify Naive Bayes classifiers to work better with correlated, non-normal, non-independent or non-equal importance features."
   ]
  }
 ],
 "metadata": {
  "kernelspec": {
   "display_name": "Python 3 (ipykernel)",
   "language": "python",
   "name": "python3"
  },
  "language_info": {
   "codemirror_mode": {
    "name": "ipython",
    "version": 3
   },
   "file_extension": ".py",
   "mimetype": "text/x-python",
   "name": "python",
   "nbconvert_exporter": "python",
   "pygments_lexer": "ipython3",
   "version": "3.10.8"
  }
 },
 "nbformat": 4,
 "nbformat_minor": 5
}
