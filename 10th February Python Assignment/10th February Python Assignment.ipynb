{
 "cells": [
  {
   "cell_type": "markdown",
   "id": "6a6b57e8-8735-4491-b34f-bcfc176f9a86",
   "metadata": {},
   "source": [
    "Q1. Which function is used to open a file? What are the different modes of opening a file? Explain each mode of file opening."
   ]
  },
  {
   "cell_type": "markdown",
   "id": "e4c83271-11d7-47ce-9dbc-286631617bbb",
   "metadata": {},
   "source": [
    "In Python, we use the open() method to open files.\n",
    "\n",
    "The dfferent modes of opering a file are:\n",
    "\n",
    "1. r: Open a file for reading.\n",
    "2. w : Open a file for writing. Creates a new file if it does not exist or truncates the file if exists.\n",
    "3. x : Open a file for exclusive creation. If the file already exists, the operation fails.\n",
    "4. a : Open a file for appending at the end of the file without truncating it. Creates a new file if it does not exist.\n",
    "5. t : Open in text mode.\n",
    "6. b : Open in binary mode.\n",
    "7. (+) : Open a file for updating, that is, reading and writing."
   ]
  },
  {
   "cell_type": "markdown",
   "id": "6efcf9c5-2eb5-473b-9e87-01b5a76f68bc",
   "metadata": {},
   "source": [
    "Q2. Why close() function is used? Why is it important to close a file?"
   ]
  },
  {
   "cell_type": "markdown",
   "id": "ac62b3f5-5379-4ed6-ac6a-5d5434192117",
   "metadata": {},
   "source": [
    "When we are done with the opened file, we need to close it. If it is not closed the resources that are tied with the file are not freed.\n",
    "\n",
    "In Python, the close() method is used to close a file. When you're done reading from or writing to a file, you need to close it so that other programs can access it and so that your program frees up the memory it used for the file."
   ]
  },
  {
   "cell_type": "markdown",
   "id": "616d0569-b29f-400a-b48a-add1460acac1",
   "metadata": {},
   "source": [
    "Q3. Write a python program to create a text file. Write ‘I want to become a Data Scientist’ in that file. Then close the file. Open this file and read the content of the file."
   ]
  },
  {
   "cell_type": "code",
   "execution_count": 3,
   "id": "2cccda37-6f49-4c6e-b886-3252d4631081",
   "metadata": {},
   "outputs": [],
   "source": [
    "with open('newfile.txt', 'w') as new_file:\n",
    "    new_file.write('I want to become a Data Scientist.')\n",
    "new_file.close()"
   ]
  },
  {
   "cell_type": "code",
   "execution_count": 4,
   "id": "a0c38897-885b-4344-ab71-728b72881bd2",
   "metadata": {},
   "outputs": [
    {
     "name": "stdout",
     "output_type": "stream",
     "text": [
      "I want to become a Data Scientist.\n"
     ]
    }
   ],
   "source": [
    "with open('newfile.txt', 'r') as new_file:\n",
    "    read_content = new_file.read()\n",
    "    print(read_content)\n",
    "new_file.close()"
   ]
  },
  {
   "cell_type": "markdown",
   "id": "bf8c2734-0284-43c6-9054-f2501715a6ac",
   "metadata": {},
   "source": [
    "Q4. Explain the following with python code: read(), readline() and readlines()."
   ]
  },
  {
   "cell_type": "markdown",
   "id": "b6b4b0e5-90bc-4225-8bdf-bc197738d2ef",
   "metadata": {},
   "source": [
    "To understand the functionality of read(), readline() and readlines() properly, let's first create a .txt file and write a few lines of text in it."
   ]
  },
  {
   "cell_type": "code",
   "execution_count": 5,
   "id": "68700826-9dad-4b55-98ab-189dfe1ba2f7",
   "metadata": {},
   "outputs": [],
   "source": [
    "with open('example_file.txt', 'w') as file:\n",
    "    file.write('This is the first line in the file\\nThis is second line in the file\\nThis is last line in the file\\n')\n",
    "file.close()"
   ]
  },
  {
   "cell_type": "markdown",
   "id": "82f69f55-ed31-4d31-940d-6edf8402d4f7",
   "metadata": {},
   "source": [
    "So we created .txt file and wrote 3 lines in it."
   ]
  },
  {
   "cell_type": "markdown",
   "id": "78a71667-1f33-4453-95b4-5eb122a702c8",
   "metadata": {},
   "source": [
    "read(): The read() method is used to read the entire contents of a file as a single string. For example:"
   ]
  },
  {
   "cell_type": "code",
   "execution_count": 6,
   "id": "ecbc2190-aa76-4c65-a7f5-5dc646e94696",
   "metadata": {},
   "outputs": [
    {
     "name": "stdout",
     "output_type": "stream",
     "text": [
      "This is the first line in the file\n",
      "This is second line in the file\n",
      "This is last line in the file\n",
      "\n"
     ]
    }
   ],
   "source": [
    "with open('example_file.txt','r') as file:\n",
    "    contents = file.read()\n",
    "    print(contents)\n",
    "file.close()"
   ]
  },
  {
   "cell_type": "markdown",
   "id": "8ea6b5c0-8c04-419c-8eb8-f5fc54222e10",
   "metadata": {},
   "source": [
    "readline(): The readline() method is used to read a single line form the file. For example:"
   ]
  },
  {
   "cell_type": "code",
   "execution_count": 7,
   "id": "373c4880-2d3d-4462-93b7-9ecfddb51ef1",
   "metadata": {},
   "outputs": [
    {
     "name": "stdout",
     "output_type": "stream",
     "text": [
      "This is the first line in the file\n",
      "\n"
     ]
    }
   ],
   "source": [
    "with open('example_file.txt', 'r') as file:\n",
    "    line = file.readline()\n",
    "    print(line)\n",
    "file.close()"
   ]
  },
  {
   "cell_type": "markdown",
   "id": "1519df27-9d4c-4f74-9e59-65046d85bc4e",
   "metadata": {},
   "source": [
    "readlines(): The readlines() method is used to read all the lines of a file as a list of strings, where each stirng is a line of the file. For example:"
   ]
  },
  {
   "cell_type": "code",
   "execution_count": 8,
   "id": "d83d92d5-db7e-46e4-abc1-01d7e5537815",
   "metadata": {},
   "outputs": [
    {
     "name": "stdout",
     "output_type": "stream",
     "text": [
      "['This is the first line in the file\\n', 'This is second line in the file\\n', 'This is last line in the file\\n']\n"
     ]
    }
   ],
   "source": [
    "with open('example_file.txt', 'r') as file:\n",
    "    lines = file.readlines()\n",
    "    print(lines)\n",
    "file.close()"
   ]
  },
  {
   "cell_type": "markdown",
   "id": "a83d63b8-bad9-44f0-8064-eb426440e72d",
   "metadata": {},
   "source": [
    "Q5. Explain why with statement is used with open(). What is the advantage of using with statement and open() together?"
   ]
  },
  {
   "cell_type": "markdown",
   "id": "ab862035-26e1-4ff9-8a36-751023ad9625",
   "metadata": {},
   "source": [
    "The with statement is used with the open() function in Python to ensure that the file is properly closed after it has been used.\n",
    "The advantage of using the with statement is that it automatically takes care of closing the file for you, even if an error occurs during the execution of the block of code.\n",
    "\n",
    "When you use the with statement, Python creates a context in which the file is open and makes it available within the indented block following the with statement. When the block of code is executed, the file is automatically closed, even if an exception is raised. This helps prevent resource leaks and reduces the risk of data corruption."
   ]
  },
  {
   "cell_type": "markdown",
   "id": "fae378a3-86e7-48de-8675-c209d0c47791",
   "metadata": {},
   "source": [
    "Q6. Explain the write() and writelines() functions. Give a suitable example."
   ]
  },
  {
   "cell_type": "markdown",
   "id": "ce79612d-fafd-4300-931e-ef1c8ea55cb0",
   "metadata": {},
   "source": [
    "The write() and writelines() functions in Python are used to write text data to a file."
   ]
  },
  {
   "cell_type": "markdown",
   "id": "a50a9dd6-04cc-49e7-89ed-98b698f98a04",
   "metadata": {},
   "source": [
    "write(): The write() function is used to write a string to a file. It takes a single string argument and returns the number of characters written to the file. For example:"
   ]
  },
  {
   "cell_type": "code",
   "execution_count": 9,
   "id": "05598d4b-107c-4342-b1cc-003672694f51",
   "metadata": {},
   "outputs": [],
   "source": [
    "with open('example_file.txt', 'w') as file:\n",
    "    file.write('This is the line i wrote to the file using write function\\n')\n",
    "file.close()"
   ]
  },
  {
   "cell_type": "markdown",
   "id": "e5968edd-8ee0-45e5-83d4-77d3dbcaef9f",
   "metadata": {},
   "source": [
    "writelines(): The writelines() function is used to write a list of strings to a file. It takes a list of strings as an argument and writes each string to a separate line in the file. For example:"
   ]
  },
  {
   "cell_type": "code",
   "execution_count": 11,
   "id": "1635082d-36f9-4925-8cc9-5209b86ed327",
   "metadata": {},
   "outputs": [],
   "source": [
    "lines = ['Line 1\\n','Line 2\\n', 'Line 3\\n']\n",
    "with open('example_file.txt', 'a') as file:\n",
    "    file.writelines(lines)\n",
    "file.close()"
   ]
  },
  {
   "cell_type": "markdown",
   "id": "1c863907-72c5-4569-9d8d-921aa737f1cd",
   "metadata": {},
   "source": [
    "Now, let's read the file contents for verification:"
   ]
  },
  {
   "cell_type": "code",
   "execution_count": 16,
   "id": "a9d8c917-30aa-4583-8448-05b541a1988a",
   "metadata": {},
   "outputs": [
    {
     "name": "stdout",
     "output_type": "stream",
     "text": [
      "This is the line i wrote to the file using write function\n",
      "Line 1\n",
      "Line 2\n",
      "Line 3\n"
     ]
    }
   ],
   "source": [
    "with open('example_file.txt', 'r') as file:\n",
    "    contents = file.read()\n",
    "    print(contents)\n",
    "file.close()"
   ]
  }
 ],
 "metadata": {
  "kernelspec": {
   "display_name": "Python 3 (ipykernel)",
   "language": "python",
   "name": "python3"
  },
  "language_info": {
   "codemirror_mode": {
    "name": "ipython",
    "version": 3
   },
   "file_extension": ".py",
   "mimetype": "text/x-python",
   "name": "python",
   "nbconvert_exporter": "python",
   "pygments_lexer": "ipython3",
   "version": "3.10.8"
  }
 },
 "nbformat": 4,
 "nbformat_minor": 5
}
