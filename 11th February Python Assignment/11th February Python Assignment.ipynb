{
 "cells": [
  {
   "cell_type": "markdown",
   "id": "7b013d8e-f5e4-4e1e-b1e0-185986e08b35",
   "metadata": {},
   "source": [
    "Q1. What is Exception in Python? Write the difference between Exception and Syntax errors."
   ]
  },
  {
   "cell_type": "markdown",
   "id": "cff56087-07ab-45f8-af17-200530c4072a",
   "metadata": {
    "tags": []
   },
   "source": [
    "In Python, an **exception** is an event that occurs during the execution of a program that disrupts the normal flow of the program's instructions. Exceptions are used to handle runtime errors and unexpected situations that can arise in a program. They provide a way to catch and handle errors in a program in a structured and organized way.\n",
    "\n",
    "**Syntax errors**, on the other hand, are errors in the syntax of the code that prevent the code from being executed. They occur when the code is written in a way that does not conform to the rules of the Python language. Syntax errors are usually caught by the Python interpreter when the code is being parsed, before it is executed.\n",
    "\n",
    "**The key difference between exceptions and syntax errors** is that exceptions occur during the execution of a program, while syntax errors occur before the execution of a program, when the code is being parsed by the interpreter. Exceptions can be handled and recovered from, while syntax errors need to be fixed before the code can be executed."
   ]
  },
  {
   "cell_type": "markdown",
   "id": "3fbdb3a2-62db-4ddf-86bf-393fbbfa417d",
   "metadata": {},
   "source": [
    "Q2. What happens when an exception is not handled? Explain with an example."
   ]
  },
  {
   "cell_type": "markdown",
   "id": "47e4d159-644d-47b9-9e21-a742d8503091",
   "metadata": {},
   "source": [
    "**When an exception is not handled,** the program will terminate and an error message will be displayed to the user. The error message will contain the type of exception that was raised, along with a stack trace that shows the sequence of function calls that led to the exception.\n",
    "\n",
    "The stack trace provides information about where in the code the exception was raised and can help in identifying the cause of the problem. However, if the exception is not handled, the program will not be able to continue executing and the user will not be able to recover from the error.\n",
    "\n",
    "In some cases, an unhandled exception can also lead to data corruption, memory leaks, and other problems that can negatively impact the stability and reliability of the program."
   ]
  },
  {
   "cell_type": "markdown",
   "id": "65ba9791-ccf1-467a-80c4-05e23923dda0",
   "metadata": {},
   "source": [
    "Without exception handling, lets say the user inputs a string character along with the integers. The program will generate an error moving on because the rest of the code expects the input to be consisting of integers not characters."
   ]
  },
  {
   "cell_type": "code",
   "execution_count": 2,
   "id": "bd814c12-b0fb-4357-bb2f-226c4767f616",
   "metadata": {},
   "outputs": [
    {
     "name": "stdin",
     "output_type": "stream",
     "text": [
      "Enter numbers:  452ff5\n"
     ]
    }
   ],
   "source": [
    "logging.info(\"Asking user for values\")\n",
    "some_input = input('Enter numbers: ')"
   ]
  },
  {
   "cell_type": "code",
   "execution_count": 3,
   "id": "841e9e4b-a61a-4d54-8986-d13212ecbae2",
   "metadata": {},
   "outputs": [
    {
     "ename": "ValueError",
     "evalue": "invalid literal for int() with base 10: 'f'",
     "output_type": "error",
     "traceback": [
      "\u001b[0;31m---------------------------------------------------------------------------\u001b[0m",
      "\u001b[0;31mValueError\u001b[0m                                Traceback (most recent call last)",
      "Cell \u001b[0;32mIn[3], line 6\u001b[0m\n\u001b[1;32m      4\u001b[0m all_values \u001b[38;5;241m=\u001b[39m []\n\u001b[1;32m      5\u001b[0m \u001b[38;5;28;01mfor\u001b[39;00m each_elem \u001b[38;5;129;01min\u001b[39;00m some_input:\n\u001b[0;32m----> 6\u001b[0m     all_values\u001b[38;5;241m.\u001b[39mappend(\u001b[38;5;28;43mint\u001b[39;49m\u001b[43m(\u001b[49m\u001b[43meach_elem\u001b[49m\u001b[43m)\u001b[49m)\n\u001b[1;32m      7\u001b[0m all_values\n\u001b[1;32m      9\u001b[0m logging\u001b[38;5;241m.\u001b[39minfo(\u001b[38;5;124m\"\u001b[39m\u001b[38;5;124mFinding greatest value\u001b[39m\u001b[38;5;124m\"\u001b[39m)\n",
      "\u001b[0;31mValueError\u001b[0m: invalid literal for int() with base 10: 'f'"
     ]
    }
   ],
   "source": [
    "from functools import reduce\n",
    "\n",
    "some_input=list(some_input)\n",
    "all_values = []\n",
    "for each_elem in some_input:\n",
    "    all_values.append(int(each_elem))\n",
    "all_values\n",
    "\n",
    "logging.info(\"Finding greatest value\")\n",
    "maximum = reduce(lambda x,y: x if x>y else y, all_values)\n",
    "\n",
    "print(\"This is the input values list: \", some_input)\n",
    "print(\"This is the maximum value in the list: \",maximum)"
   ]
  },
  {
   "cell_type": "markdown",
   "id": "8eab57fa-afb3-48b0-ab06-8f80cf507550",
   "metadata": {},
   "source": [
    "Also, we can set an exception that will raise when the program is generating an error. But instead of interrupting the flow of the program, the exception will just print out the error that was generated during the execution and move on to execute the rest of the program."
   ]
  },
  {
   "cell_type": "code",
   "execution_count": 4,
   "id": "ad324f2f-7546-4f12-92e2-5745c876966d",
   "metadata": {},
   "outputs": [
    {
     "name": "stdout",
     "output_type": "stream",
     "text": [
      "The following exception was raised during the execution:  invalid literal for int() with base 10: 'f'\n"
     ]
    }
   ],
   "source": [
    "try:\n",
    "    some_input=list(some_input)\n",
    "    all_values = []\n",
    "    for each_elem in some_input:\n",
    "        all_values.append(int(each_elem))\n",
    "    all_values\n",
    "    logging.info('Finding greatest value')\n",
    "    maximum = reduce(lambda x,y: x if x>y else y, all_values)\n",
    "\n",
    "    print(\"This is the input values list: \", some_input)\n",
    "    print(\"This is the maximum value in the list: \",maximum)\n",
    "\n",
    "except Exception as e:\n",
    "    logging.warning('Caught Exception, Handling..')\n",
    "    print('The following exception was raised during the execution: ', e)"
   ]
  },
  {
   "cell_type": "markdown",
   "id": "ef812094-5753-4fba-a024-a3ae4e295ec1",
   "metadata": {},
   "source": [
    "Q3. Which Python statements are used to catch and handle exceptions? Explain with an example."
   ]
  },
  {
   "cell_type": "markdown",
   "id": "5ccc27b6-4018-4d65-902a-1cd7febb8477",
   "metadata": {},
   "source": [
    "In Python, the **try** and **except** statements are used to catch and handle exceptions. The basic structure of a try-except statement is as follows:"
   ]
  },
  {
   "cell_type": "code",
   "execution_count": 5,
   "id": "1c5aadf6-87ce-47bc-b21a-8a6a8f6d3e7e",
   "metadata": {},
   "outputs": [],
   "source": [
    "try:\n",
    "    pass\n",
    "    # code that might raise an exception\n",
    "except ExceptionType:\n",
    "    pass\n",
    "    # code to handle the exception"
   ]
  },
  {
   "cell_type": "markdown",
   "id": "9723e57d-65f8-4fa3-8683-3536ebd36a79",
   "metadata": {},
   "source": [
    "The code that might raise an exception is placed inside the try block, and the code to handle the exception is placed inside the except block. The ExceptionType in the except clause specifies the type of exception that is being caught. If an exception of that type is raised in the try block, the code in the except block will be executed.\n",
    "\n",
    "The following code uses a try-except statement to catch a ZeroDivisionError exception:"
   ]
  },
  {
   "cell_type": "code",
   "execution_count": 6,
   "id": "32bc2d21-8754-461a-a0b4-3f166f765899",
   "metadata": {},
   "outputs": [
    {
     "name": "stdout",
     "output_type": "stream",
     "text": [
      "Caught the following error during execution:  division by zero\n"
     ]
    }
   ],
   "source": [
    "try:\n",
    "    logging.info('Division of value')\n",
    "    x = 1 / 0\n",
    "except Exception as e:\n",
    "    logging.warning('Caught Exception, Handling..')\n",
    "    print(\"Caught the following error during execution: \",e)"
   ]
  },
  {
   "cell_type": "markdown",
   "id": "ad8678eb-160f-4c78-9379-8d767d34495b",
   "metadata": {},
   "source": [
    "Q4. Explain the following with examples:\n",
    "1. try and else\n",
    "2. finally\n",
    "3. raise"
   ]
  },
  {
   "cell_type": "markdown",
   "id": "a29fbfb3-3510-4db4-9392-d35764d2d257",
   "metadata": {},
   "source": [
    "The **try** holds the code that might raise an exception/error. Also, the **else** block of code is executed if no errors were raised."
   ]
  },
  {
   "cell_type": "code",
   "execution_count": 7,
   "id": "cfb9c684-ca5a-42c5-9611-1974db2ee78d",
   "metadata": {},
   "outputs": [
    {
     "name": "stdout",
     "output_type": "stream",
     "text": [
      "This executed because no errors were raise\n"
     ]
    }
   ],
   "source": [
    "try:\n",
    "    logging.info('Division of value')\n",
    "    x = 1 / 1\n",
    "except:\n",
    "    logging.warning('Caught Exception, Handling..')\n",
    "    print(\"This executed because errors were raised\")\n",
    "else:\n",
    "    print(\"This executed because no errors were raise\")"
   ]
  },
  {
   "cell_type": "markdown",
   "id": "9b11f4ae-3fd7-4798-994a-788d3c051c3f",
   "metadata": {},
   "source": [
    "The **finally** block lets you execute code, regardless of the result of the try and except blocks."
   ]
  },
  {
   "cell_type": "code",
   "execution_count": 8,
   "id": "bf6c948b-6aa7-4c42-93f9-5d4871e26319",
   "metadata": {},
   "outputs": [
    {
     "name": "stdout",
     "output_type": "stream",
     "text": [
      "This executed because errors were raised\n",
      "This executes regardless\n"
     ]
    }
   ],
   "source": [
    "try: \n",
    "    logging.info('Division of value')\n",
    "    x = 1/0\n",
    "except:\n",
    "    logging.warning('Caught Exception, Handling..')\n",
    "    print(\"This executed because errors were raised\")\n",
    "else:\n",
    "    print(\"This executed because no errors were raise\")\n",
    "finally:\n",
    "    print(\"This executes regardless\")"
   ]
  },
  {
   "cell_type": "markdown",
   "id": "c50ed582-e61c-4f2f-83bb-71e0c8970a49",
   "metadata": {},
   "source": [
    "The **raise** keyword is used to raise an exception. You can define what kind of error to raise, and the text to print to the user."
   ]
  },
  {
   "cell_type": "code",
   "execution_count": 9,
   "id": "5252e593-83da-4d40-bcef-2ac755d9cae0",
   "metadata": {},
   "outputs": [
    {
     "ename": "Exception",
     "evalue": "Sorry, no numbers below zero",
     "output_type": "error",
     "traceback": [
      "\u001b[0;31m---------------------------------------------------------------------------\u001b[0m",
      "\u001b[0;31mException\u001b[0m                                 Traceback (most recent call last)",
      "Cell \u001b[0;32mIn[9], line 6\u001b[0m\n\u001b[1;32m      4\u001b[0m \u001b[38;5;28;01mif\u001b[39;00m x \u001b[38;5;241m<\u001b[39m \u001b[38;5;241m0\u001b[39m:\n\u001b[1;32m      5\u001b[0m     logging\u001b[38;5;241m.\u001b[39merror(\u001b[38;5;124m'\u001b[39m\u001b[38;5;124mRaising exception\u001b[39m\u001b[38;5;124m'\u001b[39m)\n\u001b[0;32m----> 6\u001b[0m     \u001b[38;5;28;01mraise\u001b[39;00m \u001b[38;5;167;01mException\u001b[39;00m(\u001b[38;5;124m\"\u001b[39m\u001b[38;5;124mSorry, no numbers below zero\u001b[39m\u001b[38;5;124m\"\u001b[39m)\n",
      "\u001b[0;31mException\u001b[0m: Sorry, no numbers below zero"
     ]
    }
   ],
   "source": [
    "x = -1\n",
    "\n",
    "if x < 0:\n",
    "    logging.error('Raising exception')\n",
    "    raise Exception(\"Sorry, no numbers below zero\")"
   ]
  },
  {
   "cell_type": "code",
   "execution_count": 10,
   "id": "94d7cc46-6b54-4231-b3a0-c474d2f316e0",
   "metadata": {},
   "outputs": [
    {
     "ename": "TypeError",
     "evalue": "Only integers are allowed",
     "output_type": "error",
     "traceback": [
      "\u001b[0;31m---------------------------------------------------------------------------\u001b[0m",
      "\u001b[0;31mTypeError\u001b[0m                                 Traceback (most recent call last)",
      "Cell \u001b[0;32mIn[10], line 6\u001b[0m\n\u001b[1;32m      4\u001b[0m \u001b[38;5;28;01mif\u001b[39;00m \u001b[38;5;129;01mnot\u001b[39;00m \u001b[38;5;28mtype\u001b[39m(x) \u001b[38;5;129;01mis\u001b[39;00m \u001b[38;5;28mint\u001b[39m:\n\u001b[1;32m      5\u001b[0m     logging\u001b[38;5;241m.\u001b[39merror(\u001b[38;5;124m'\u001b[39m\u001b[38;5;124mRaising error\u001b[39m\u001b[38;5;124m'\u001b[39m)\n\u001b[0;32m----> 6\u001b[0m     \u001b[38;5;28;01mraise\u001b[39;00m \u001b[38;5;167;01mTypeError\u001b[39;00m(\u001b[38;5;124m\"\u001b[39m\u001b[38;5;124mOnly integers are allowed\u001b[39m\u001b[38;5;124m\"\u001b[39m)\n",
      "\u001b[0;31mTypeError\u001b[0m: Only integers are allowed"
     ]
    }
   ],
   "source": [
    "x = \"hello\"\n",
    "\n",
    "if not type(x) is int:\n",
    "    logging.error('Raising error')\n",
    "    raise TypeError(\"Only integers are allowed\")"
   ]
  },
  {
   "cell_type": "markdown",
   "id": "e38b5d40-cfd3-49e1-a632-31638e34a16a",
   "metadata": {},
   "source": [
    "Q5. What are **Custom Exceptions** in Pyton? Why do we need custom exceptions? Explain with an example."
   ]
  },
  {
   "cell_type": "markdown",
   "id": "5515216b-c301-46f9-b8b4-fd8dcbbe89cd",
   "metadata": {},
   "source": [
    "**Custom Exceptions** are user-defined exceptions that can be raised and caught in a program. Custom exceptions are created by creating a new class that inherits from the built-in Exception class.\n",
    "\n",
    "We need custom exceptions in a program for several reasons:\n",
    "\n",
    "1. **Improved error handling:** By defining custom exceptions, we can provide more meaningful error messages that are specific to our application, making it easier to diagnose and fix problems.\n",
    "2. **Better organization:** Custom exceptions allow us to categorize and group errors in our code into different types, making it easier to understand the structure of our error handling logic.\n",
    "3. **Code reuse:** Custom exceptions can be reused across multiple parts of our code, making it easier to maintain a consistent error handling strategy throughout our application."
   ]
  },
  {
   "cell_type": "markdown",
   "id": "c031b01f-ba8a-434b-b9d2-d01e0aae32c6",
   "metadata": {},
   "source": [
    "For example:"
   ]
  },
  {
   "cell_type": "code",
   "execution_count": 11,
   "id": "da638562-6f86-414a-a0cf-c5f5a1e1408c",
   "metadata": {},
   "outputs": [],
   "source": [
    "account_balance = 2000\n",
    "\n",
    "class InsufficientBalance(Exception):\n",
    "    def __init__ (self, error):\n",
    "        self.error=error\n",
    "        \n",
    "def withdraw_from_account(amount):\n",
    "    logging.info('Withdrawing amount..')\n",
    "    if amount > account_balance:\n",
    "        logging.error(\"Insufficient balance\")\n",
    "        raise InsufficientBalance('Insufficient balance in the account.')\n",
    "    else:\n",
    "        logging.info('Withdrawal Successful')\n",
    "        print(\"Amount Withdrawn Successfully\")"
   ]
  },
  {
   "cell_type": "code",
   "execution_count": 13,
   "id": "3539529e-b489-453a-9829-ca4bae75055a",
   "metadata": {},
   "outputs": [
    {
     "name": "stdin",
     "output_type": "stream",
     "text": [
      "Enter amount to withdraw:  2500\n"
     ]
    },
    {
     "name": "stdout",
     "output_type": "stream",
     "text": [
      "Insufficient balance in the account.\n"
     ]
    }
   ],
   "source": [
    "try:\n",
    "    amount = int(input(\"Enter amount to withdraw: \"))\n",
    "    withdraw_from_account(amount)\n",
    "except InsufficientBalance as e:\n",
    "    print(e)"
   ]
  },
  {
   "cell_type": "markdown",
   "id": "7ef7564c-5440-4e5d-9b81-04e2250198a2",
   "metadata": {},
   "source": [
    "In the above example, the InsufficientBalance custom exception is raised if the balance of the user's account is not sufficient to perform a transaction."
   ]
  },
  {
   "cell_type": "markdown",
   "id": "8f6fb383-9585-4762-a019-ebcda58cbf57",
   "metadata": {},
   "source": [
    "Q6. Create a custom exception class. Use this class to handle an exception."
   ]
  },
  {
   "cell_type": "code",
   "execution_count": 14,
   "id": "781af9f7-0e41-462b-913c-2f80e0b3b703",
   "metadata": {},
   "outputs": [],
   "source": [
    "class notvalidID(Exception):\n",
    "    def __init__(self,error):\n",
    "        self.error = error\n",
    "\n",
    "def checkifIDvalid(id):\n",
    "    logging.info('Checking ID Validation..')\n",
    "    if len(id)!=10:\n",
    "        logging.error(\"Invalid ID length\")\n",
    "        raise notvalidID('Invalid ID, ID length should be exactly 10 characters long')\n",
    "    else:\n",
    "        logging.info('Valid ID')\n",
    "        print(\"Valid ID\")"
   ]
  },
  {
   "cell_type": "code",
   "execution_count": 15,
   "id": "015012e9-ec23-40aa-8c6a-e11e5e8f48b8",
   "metadata": {},
   "outputs": [
    {
     "name": "stdin",
     "output_type": "stream",
     "text": [
      "Enter your ID:  4585221\n"
     ]
    },
    {
     "name": "stdout",
     "output_type": "stream",
     "text": [
      "Invalid ID, ID length should be exactly 10 characters long\n"
     ]
    }
   ],
   "source": [
    "try:\n",
    "    id = input('Enter your ID: ')\n",
    "    checkifIDvalid(id)\n",
    "except notvalidID as e:\n",
    "    print(e)"
   ]
  }
 ],
 "metadata": {
  "kernelspec": {
   "display_name": "Python 3 (ipykernel)",
   "language": "python",
   "name": "python3"
  },
  "language_info": {
   "codemirror_mode": {
    "name": "ipython",
    "version": 3
   },
   "file_extension": ".py",
   "mimetype": "text/x-python",
   "name": "python",
   "nbconvert_exporter": "python",
   "pygments_lexer": "ipython3",
   "version": "3.10.8"
  }
 },
 "nbformat": 4,
 "nbformat_minor": 5
}
