{
  "cells": [
    {
      "cell_type": "markdown",
      "id": "36b92573",
      "metadata": {
        "id": "36b92573"
      },
      "source": [
        "Q1. Calculate the 95% confidence interval for a sample of data with a mean of 50 and a standard deviation of 5 using Python. Interpret the results."
      ]
    },
    {
      "cell_type": "code",
      "execution_count": 1,
      "id": "3bb4cdee",
      "metadata": {
        "id": "3bb4cdee",
        "outputId": "4738789f-5f85-4199-aa48-a87ca6ed9c83",
        "colab": {
          "base_uri": "https://localhost:8080/"
        }
      },
      "outputs": [
        {
          "output_type": "stream",
          "name": "stdout",
          "text": [
            "The 95% confidence interval is (49.01, 50.99)\n"
          ]
        }
      ],
      "source": [
        "import scipy.stats as stats\n",
        "sample_mean = 50\n",
        "sample_std = 5\n",
        "sample_size = 100\n",
        "std_error = sample_std / (sample_size ** 0.5)\n",
        "t_value = stats.t.ppf(0.975, sample_size-1)\n",
        "lower_ci = sample_mean - t_value * std_error\n",
        "upper_ci = sample_mean + t_value * std_error\n",
        "print(f\"The 95% confidence interval is ({lower_ci:.2f}, {upper_ci:.2f})\")"
      ]
    },
    {
      "cell_type": "markdown",
      "id": "7c0b8c48",
      "metadata": {
        "id": "7c0b8c48"
      },
      "source": [
        "Q2. Conduct a chi-square goodness of fit test to determine if the distribution of colors of M&Ms in a bag matches the expected distribution of 20% blue, 20% orange, 20% green, 10% yellow, 10% red, and 20% brown. Use Python to perform the test with a significance level of 0.05."
      ]
    },
    {
      "cell_type": "code",
      "execution_count": 2,
      "id": "099403c4",
      "metadata": {
        "id": "099403c4",
        "outputId": "d2479f90-b61f-4fe6-8f29-0eaf6f09f46c",
        "colab": {
          "base_uri": "https://localhost:8080/"
        }
      },
      "outputs": [
        {
          "output_type": "stream",
          "name": "stdout",
          "text": [
            "Chi-Square Statistic: 25.69\n",
            "P-Value: 0.0001\n",
            "Reject null hypothesis\n"
          ]
        }
      ],
      "source": [
        "import numpy as np\n",
        "from scipy.stats import chisquare\n",
        "observed = np.array([45, 35, 15, 10, 5, 35])\n",
        "expected = np.array([0.2, 0.2, 0.2, 0.1, 0.1, 0.2]) * np.sum(observed)\n",
        "chi2, p = chisquare(observed, expected)\n",
        "print(f\"Chi-Square Statistic: {chi2:.2f}\")\n",
        "print(f\"P-Value: {p:.4f}\")\n",
        "if p < 0.05:\n",
        "    print(\"Reject null hypothesis\")\n",
        "else:\n",
        "    print(\"Accept null hypothesis\")\n"
      ]
    },
    {
      "cell_type": "markdown",
      "id": "7e6af32b",
      "metadata": {
        "id": "7e6af32b"
      },
      "source": [
        "Q3. Use Python to calculate the chi-square statistic and p-value for a contingency table with the following data:\n",
        "\n",
        "Outcome 1 = [20, 15]<br>\n",
        "Outcome 2 = [10, 25]<br>\n",
        "Outcome 3 = [15, 20]\n",
        "\n",
        "Interpret the results of the test."
      ]
    },
    {
      "cell_type": "code",
      "execution_count": 3,
      "id": "9a987e60",
      "metadata": {
        "id": "9a987e60",
        "outputId": "971dd22c-c6d9-4aa8-95de-fa5c4f25a083",
        "colab": {
          "base_uri": "https://localhost:8080/"
        }
      },
      "outputs": [
        {
          "output_type": "stream",
          "name": "stdout",
          "text": [
            "chi-square statistic = 5.83\n",
            "p-value = 0.0541\n"
          ]
        }
      ],
      "source": [
        "import numpy as np\n",
        "from scipy.stats import chi2_contingency\n",
        "observed = np.array([[20, 15], [10, 25], [15, 20]])\n",
        "chi2, p, dof, expected = chi2_contingency(observed)\n",
        "print(f\"chi-square statistic = {chi2:.2f}\")\n",
        "print(f\"p-value = {p:.4f}\")"
      ]
    },
    {
      "cell_type": "markdown",
      "id": "35bd78b1",
      "metadata": {
        "id": "35bd78b1"
      },
      "source": [
        "**Interpretation:**\n",
        "\n",
        "The chi-square statistic is 5.83 and the p-value is 0.0541. Since the p-value is greater than the significance level of 0.05, we fail to reject the null hypothesis that there is no association between the two categorical variables (group and outcome). Therefore, we conclude that there is not enough evidence to suggest that the proportions of outcomes are different between Group A and Group B."
      ]
    },
    {
      "cell_type": "markdown",
      "id": "3374eab5",
      "metadata": {
        "id": "3374eab5"
      },
      "source": [
        "Q4. A study of the prevalence of smoking in a population of 500 individuals found that 60 individuals smoked. Use Python to calculate the 95% confidence interval for the true proportion of individuals in the population who smoke."
      ]
    },
    {
      "cell_type": "code",
      "execution_count": 4,
      "id": "4a352da3",
      "metadata": {
        "id": "4a352da3",
        "outputId": "6cda9fe2-fbcf-4504-a4f8-047b7308f578",
        "colab": {
          "base_uri": "https://localhost:8080/"
        }
      },
      "outputs": [
        {
          "output_type": "stream",
          "name": "stdout",
          "text": [
            "The 95% confidence interval for the true proportion of smokers in the population is (0.0915, 0.1485)\n"
          ]
        }
      ],
      "source": [
        "import statsmodels.stats.proportion as proportion\n",
        "smokers = 60\n",
        "sample_size = 500\n",
        "p_hat = smokers / sample_size\n",
        "conf_int = proportion.proportion_confint(count=smokers, nobs=sample_size, alpha=0.05)\n",
        "print(f\"The 95% confidence interval for the true proportion of smokers in the population is ({conf_int[0]:.4f}, {conf_int[1]:.4f})\")"
      ]
    },
    {
      "cell_type": "markdown",
      "id": "58c554ee",
      "metadata": {
        "id": "58c554ee"
      },
      "source": [
        "Q5. Calculate the 90% confidence interval for a sample of data with a mean of 75 and a standard deviation of 12 using Python. Interpret the results."
      ]
    },
    {
      "cell_type": "code",
      "execution_count": 5,
      "id": "c22e1cbb",
      "metadata": {
        "id": "c22e1cbb",
        "outputId": "3a33515b-74f4-4cbc-aef2-824502a8390f",
        "colab": {
          "base_uri": "https://localhost:8080/"
        }
      },
      "outputs": [
        {
          "output_type": "stream",
          "name": "stdout",
          "text": [
            "The 90% confidence interval is (73.03, 76.97)\n"
          ]
        }
      ],
      "source": [
        "import scipy.stats as stats\n",
        "sample_mean = 75\n",
        "sample_std = 12\n",
        "n = 100\n",
        "std_error = sample_std / (n ** 0.5)\n",
        "z_value = stats.norm.ppf(0.95)\n",
        "lower = sample_mean - z_value * std_error\n",
        "upper = sample_mean + z_value * std_error\n",
        "print(f\"The 90% confidence interval is ({lower:.2f}, {upper:.2f})\")"
      ]
    },
    {
      "cell_type": "markdown",
      "id": "b2f83ed7",
      "metadata": {
        "id": "b2f83ed7"
      },
      "source": [
        "Q6. Use Python to plot the chi-square distribution with 10 degrees of freedom. Label the axes and shade the area corresponding to a chi-square statistic of 15."
      ]
    },
    {
      "cell_type": "code",
      "execution_count": 6,
      "id": "e2fdbefb",
      "metadata": {
        "id": "e2fdbefb",
        "outputId": "bda50076-ddd8-460c-9b80-3f2a287cfb6d",
        "colab": {
          "base_uri": "https://localhost:8080/",
          "height": 295
        }
      },
      "outputs": [
        {
          "output_type": "display_data",
          "data": {
            "text/plain": [
              "<Figure size 432x288 with 1 Axes>"
            ],
            "image/png": "[encoded data removed]"
          },
          "metadata": {
            "needs_background": "light"
          }
        }
      ],
      "source": [
        "import numpy as np\n",
        "import matplotlib.pyplot as plt\n",
        "from scipy.stats import chi2\n",
        "df = 10\n",
        "x = np.linspace(0, 30, 500)\n",
        "chi = chi2(df)\n",
        "plt.plot(x, chi.pdf(x), label=f'df={df}')\n",
        "x_shade = np.linspace(15, 30, 500)\n",
        "y_shade = chi.pdf(x_shade)\n",
        "plt.fill_between(x_shade, y_shade, where=x_shade > 15, color='orange')\n",
        "plt.xlabel('chi-square statistic')\n",
        "plt.ylabel('Probability density')\n",
        "plt.title(f'Chi-square distribution with {df} degrees of freedom')\n",
        "plt.legend()\n",
        "plt.show()"
      ]
    },
    {
      "cell_type": "markdown",
      "id": "0f5e089a",
      "metadata": {
        "id": "0f5e089a"
      },
      "source": [
        "Q7. A random sample of 1000 people was asked if they preferred Coke or Pepsi. Of the sample, 520 preferred Coke. Calculate a 99% confidence interval for the true proportion of people in the population who prefer Coke."
      ]
    },
    {
      "cell_type": "code",
      "source": [
        "import math\n",
        "sample_proportion = 0.52\n",
        "z_score = 2.576\n",
        "sample_size = 1000\n",
        "standard_error = math.sqrt((sample_proportion * (1 - sample_proportion)) / sample_size)\n",
        "lower_bound = sample_proportion - z_score * standard_error\n",
        "upper_bound = sample_proportion + z_score * standard_error\n",
        "print(\"99% Confidence Interval: ({:.4f}, {:.4f})\".format(lower_bound, upper_bound))\n"
      ],
      "metadata": {
        "colab": {
          "base_uri": "https://localhost:8080/"
        },
        "id": "-R4tkA5EPq38",
        "outputId": "37957102-62d4-4920-8b20-f8bd941884f7"
      },
      "id": "-R4tkA5EPq38",
      "execution_count": 7,
      "outputs": [
        {
          "output_type": "stream",
          "name": "stdout",
          "text": [
            "99% Confidence Interval: (0.4793, 0.5607)\n"
          ]
        }
      ]
    },
    {
      "cell_type": "markdown",
      "id": "e8134a9a",
      "metadata": {
        "id": "e8134a9a"
      },
      "source": [
        "Q8. A researcher hypothesizes that a coin is biased towards tails. They flip the coin 100 times and observe 45 tails. Conduct a chi-square goodness of fit test to determine if the observed frequencies match the expected frequencies of a fair coin. Use a significance level of 0.05."
      ]
    },
    {
      "cell_type": "code",
      "source": [
        "import numpy as np\n",
        "from scipy.stats import chisquare\n",
        "observed_frequencies = np.array([55, 45])\n",
        "expected_frequencies = np.array([50, 50])\n",
        "significance_level = 0.05\n",
        "test_statistic, p_value = chisquare(observed_frequencies, expected_frequencies)\n",
        "if p_value < significance_level:\n",
        "    print(\"Reject null hypothesis\")\n",
        "else:\n",
        "    print(\"Accept null hypothesis\")\n",
        "\n"
      ],
      "metadata": {
        "colab": {
          "base_uri": "https://localhost:8080/"
        },
        "id": "GXBsbub9QXmt",
        "outputId": "4479dbc2-bd26-4f1b-c833-c8376548c35a"
      },
      "id": "GXBsbub9QXmt",
      "execution_count": 8,
      "outputs": [
        {
          "output_type": "stream",
          "name": "stdout",
          "text": [
            "Accept null hypothesis\n"
          ]
        }
      ]
    },
    {
      "cell_type": "markdown",
      "id": "965abf66",
      "metadata": {
        "id": "965abf66"
      },
      "source": [
        "Q9. A study was conducted to determine if there is an association between smoking status (smoker or non-smoker) and lung cancer diagnosis (yes or no). The results are shown in the contingency table below. Conduct a chi-square test for independence to determine if there is a significant association between smoking status and lung cancer diagnosis.\n",
        "\n",
        "Smoker = [60, 140]<br>\n",
        "Non-Smoker = [30, 170]\n",
        "\n",
        "Use a significance level of 0.05."
      ]
    },
    {
      "cell_type": "code",
      "source": [
        "import numpy as np\n",
        "from scipy.stats import chi2_contingency\n",
        "contingency_table = np.array([[60, 140], [30, 170]])\n",
        "chi2, p, dof, expected = chi2_contingency(contingency_table)\n",
        "if p < 0.05:\n",
        "    print(\"Reject null hypothesis\")\n",
        "else:\n",
        "    print(\"Accept null hypothesis\")\n"
      ],
      "metadata": {
        "colab": {
          "base_uri": "https://localhost:8080/"
        },
        "id": "z4uDtF8IQ0r5",
        "outputId": "85d89bae-22e5-4a79-b75e-17e37df5a8d4"
      },
      "id": "z4uDtF8IQ0r5",
      "execution_count": 9,
      "outputs": [
        {
          "output_type": "stream",
          "name": "stdout",
          "text": [
            "Reject null hypothesis\n"
          ]
        }
      ]
    },
    {
      "cell_type": "markdown",
      "id": "811fd87f",
      "metadata": {
        "id": "811fd87f"
      },
      "source": [
        "Q10. A study was conducted to determine if the proportion of people who prefer milk chocolate, dark chocolate, or white chocolate is different in the U.S. versus the U.K. A random sample of 500 people from the U.S. and a random sample of 500 people from the U.K. were surveyed. The results are shown in the contingency table below. Conduct a chi-square test for independence to determine if there is a significant association between chocolate preference and country of origin.\n",
        "\n",
        "United States (n = 500) = [200, 150, 150]<br>\n",
        "United Kingdom (n = 500) = [225, 175, 100]\n",
        "\n",
        "Use a significance level of 0.01."
      ]
    },
    {
      "cell_type": "code",
      "source": [
        "import numpy as np\n",
        "from scipy.stats import chi2_contingency\n",
        "contingency_table = np.array([[200, 150, 150], [225, 175, 100]])\n",
        "chi2, p, dof, expected = chi2_contingency(contingency_table)\n",
        "if p < 0.01:\n",
        "    print(\"Reject null hypothesis\")\n",
        "else:\n",
        "    print(\"Accept null hypothesis\")"
      ],
      "metadata": {
        "colab": {
          "base_uri": "https://localhost:8080/"
        },
        "id": "aR0B5JpVTI11",
        "outputId": "1e350204-07bd-47de-8069-9154222380a3"
      },
      "id": "aR0B5JpVTI11",
      "execution_count": 10,
      "outputs": [
        {
          "output_type": "stream",
          "name": "stdout",
          "text": [
            "Reject null hypothesis\n"
          ]
        }
      ]
    },
    {
      "cell_type": "markdown",
      "id": "63f74037",
      "metadata": {
        "id": "63f74037"
      },
      "source": [
        "Q11. A random sample of 30 people was selected from a population with an unknown mean and standard deviation. The sample mean was found to be 72 and the sample standard deviation was found to be 10. Conduct a hypothesis test to determine if the population mean is significantly different from 70. Use a significance level of 0.05."
      ]
    },
    {
      "cell_type": "code",
      "source": [
        "import numpy as np\n",
        "from scipy.stats import t\n",
        "n = 30\n",
        "sample_mean = 72\n",
        "sample_std = 10\n",
        "hypo_mean = 70\n",
        "t_stat = (sample_mean - hypo_mean) / (sample_std / np.sqrt(n))\n",
        "p_val = 2 * (1 - t.cdf(abs(t_stat), n - 1))\n",
        "if p_value < 0.05:\n",
        "    print(\"Reject null hypothesis\")\n",
        "else:\n",
        "    print(\"Accept null hypothesis\")"
      ],
      "metadata": {
        "colab": {
          "base_uri": "https://localhost:8080/"
        },
        "id": "OGxO8ZpSTnR0",
        "outputId": "3bd68dc8-ad6a-4f8c-cd9b-e25c186a2bbd"
      },
      "id": "OGxO8ZpSTnR0",
      "execution_count": 12,
      "outputs": [
        {
          "output_type": "stream",
          "name": "stdout",
          "text": [
            "Accept null hypothesis\n"
          ]
        }
      ]
    }
  ],
  "metadata": {
    "kernelspec": {
      "display_name": "Python 3 (ipykernel)",
      "language": "python",
      "name": "python3"
    },
    "language_info": {
      "codemirror_mode": {
        "name": "ipython",
        "version": 3
      },
      "file_extension": ".py",
      "mimetype": "text/x-python",
      "name": "python",
      "nbconvert_exporter": "python",
      "pygments_lexer": "ipython3",
      "version": "3.9.13"
    },
    "colab": {
      "provenance": []
    }
  },
  "nbformat": 4,
  "nbformat_minor": 5
}