{
 "cells": [
  {
   "cell_type": "markdown",
   "id": "d718fd0a-2fdb-4d8e-8918-0351ed305f44",
   "metadata": {},
   "source": [
    "Q1. What is multithreading in Python? Why is it used? Name the module used to handle threads in python."
   ]
  },
  {
   "cell_type": "markdown",
   "id": "74acb865-18ed-4df9-8ab4-cda136881df4",
   "metadata": {},
   "source": [
    "**Multithreading** in Python refers to the concurrent execution of multiple threads within a single process. A thread is a lightweight subprocess that can be scheduled to run independently of the main program. Multithreading allows a program to perform multiple tasks simultaneously, which can lead to significant performance improvements in some cases.\n",
    "\n",
    "In Python, **multithreading is often used** to improve the responsiveness of graphical user interfaces (GUIs), to perform background tasks while the main program is running, and to speed up certain types of operations that can be parallelized.\n",
    "\n",
    "In Python, the **module** that is used to handle threads is called **threading**."
   ]
  },
  {
   "cell_type": "markdown",
   "id": "f7e9373d-a522-482a-bdfb-dd3fea6dd512",
   "metadata": {},
   "source": [
    "Q2. Why threading module is used? Write the use of the following functions:\n",
    "1. activeCount()\n",
    "2. currentThread()\n",
    "3. enumerate()"
   ]
  },
  {
   "cell_type": "markdown",
   "id": "4c814d90-acf1-4b0b-b48a-6d96635487c5",
   "metadata": {},
   "source": [
    "The threading module in Python is used for creating and managing threads in a program. It provides a high-level interface for creating, starting, and joining threads, as well as for synchronizing access to shared resources.\n",
    "\n",
    "**activeCount():** This function returns the number of currently active thread objects in the program. It can be used to monitor the number of threads in a program and to ensure that the program is not creating too many threads.\n",
    "\n",
    "**currentThread():**  This function returns a reference to the currently executing thread object. It can be used to identify the current thread and to access information about the thread, such as its name and ID.\n",
    "\n",
    "**enumerate():** This function returns a list of all thread objects that are currently active in the program. It can be used to obtain a snapshot of the current state of the program's threads and to iterate over the thread objects to perform operations on them, such as joining or terminating them."
   ]
  },
  {
   "cell_type": "markdown",
   "id": "f8d3890a-7dcc-44e1-8e17-9d8a2359faee",
   "metadata": {},
   "source": [
    "Q3. Explain the following functions:\n",
    "1. run()\n",
    "2. start()\n",
    "3. join()\n",
    "4. isAlive()"
   ]
  },
  {
   "cell_type": "markdown",
   "id": "5ed401d6-c60a-475f-aa95-f180172eecc9",
   "metadata": {},
   "source": [
    "**run():**  This is a method that is called when a thread is started using the start() method. It is used to define the actions that the thread should perform when it is started. The run() method is typically overridden in a subclass of the Thread class to define the specific behavior of the thread.\n",
    "\n",
    "**start():** This method is used to start a new thread of execution. When the start() method is called, a new thread is created and the run() method of the thread is executed in a separate process. The start() method does not block the calling thread; instead, it returns immediately, allowing the caller to continue executing.\n",
    "\n",
    "**join():**  This method is used to wait for a thread to finish its execution. When the join() method is called on a thread object, the calling thread blocks until the thread being joined completes its execution. The join() method can be used to ensure that all threads complete their execution before the program exits.\n",
    "\n",
    "**isAlive():** This method returns a Boolean value indicating whether a thread is currently executing or not. If the thread is still running, isAlive() returns True; otherwise, it returns False. This method can be used to determine the status of a thread and to take appropriate actions based on its state."
   ]
  },
  {
   "cell_type": "markdown",
   "id": "420045e8-ce41-4a9e-88e3-472d763f82fc",
   "metadata": {},
   "source": [
    "Q4. Write a Python program to create two threads. Thread one must print the list of squares and thread two must print the list of cubes."
   ]
  },
  {
   "cell_type": "code",
   "execution_count": 1,
   "id": "146dab87-7596-4a0d-848a-adc34c544137",
   "metadata": {},
   "outputs": [
    {
     "name": "stdout",
     "output_type": "stream",
     "text": [
      "[4, 9, 25, 36, 16, 9, 25, 49]\n",
      "[8, 27, 125, 216, 64, 27, 125, 343]\n"
     ]
    }
   ],
   "source": [
    "import threading\n",
    "\n",
    "results1 = []\n",
    "results2 = []\n",
    "#squares function\n",
    "def squares(number):\n",
    "    results1.append(number**2)\n",
    "\n",
    "#cubes function\n",
    "def cubes(number):\n",
    "    results2.append(number**3)\n",
    "\n",
    "#threads function\n",
    "def threads(numbers_list, squares):\n",
    "    threads=[]\n",
    "    for i in range(len(numbers_list)):\n",
    "        t=threading.Thread(target = squares, args =(numbers_list[i],))\n",
    "        threads.append(t)\n",
    "        t.start()\n",
    "\n",
    "#main\n",
    "numbers_list=[2,3,5,6,4,3,5,7]\n",
    "thread1 = threads(numbers_list,squares)\n",
    "thread2 = threads(numbers_list,cubes)\n",
    "print(results1)\n",
    "print(results2)"
   ]
  },
  {
   "cell_type": "markdown",
   "id": "cf9a3fdb-1496-44a0-98da-f19d1b83229b",
   "metadata": {},
   "source": [
    "Q5. State advantages and disadvantages of multithreading."
   ]
  },
  {
   "cell_type": "markdown",
   "id": "848991c1-2f7a-4309-a968-3fbd9f55feb7",
   "metadata": {},
   "source": [
    "Advantages:\n",
    "1. **Increased performance:** Multithreading can lead to significant performance improvements for programs that perform many independent tasks, as it allows different parts of the program to execute simultaneously on different CPU cores.\n",
    "2. **Responsiveness:** Multithreading can make programs more responsive, as it allows them to continue executing while waiting for I/O or other blocking operations to complete.\n",
    "3. **Resource sharing:** Multithreading allows multiple threads to access shared resources, such as files or databases, without requiring complex coordination mechanisms.\n",
    "4. **Modular design:** Multithreading can make programs easier to design and implement by allowing different parts of the program to be executed in separate threads, making the program more modular and easier to maintain.\n",
    "\n",
    "Disadvantages:\n",
    "1. **Synchronization issues:** Multithreading requires careful management of shared resources to avoid race conditions and other synchronization issues that can lead to errors or incorrect behavior.\n",
    "2. **Complexity:** Multithreading can make programs more complex and harder to debug, as it introduces new sources of bugs and errors related to thread synchronization and communication.\n",
    "3. **Overhead:** Creating and managing threads requires additional resources, such as memory and CPU time, which can reduce the overall performance of the program if not managed carefully.\n",
    "4. **Scalability issues:** The benefits of multithreading may not scale linearly with the number of CPU cores available, as adding more threads may lead to diminishing returns or even reduce performance in some cases."
   ]
  },
  {
   "cell_type": "markdown",
   "id": "90405ed7-5c6d-4f21-a047-235a4dc0e9dd",
   "metadata": {},
   "source": [
    "Q6. Explain Deadlocks and Race Conditions."
   ]
  },
  {
   "cell_type": "markdown",
   "id": "3a011dbe-b3f9-448c-8b3e-814b0ed58e32",
   "metadata": {},
   "source": [
    "**Deadlock:** A deadlock is a situation in which two or more threads are waiting for each other to release resources, resulting in a state where no thread can proceed. This can occur when two or more threads hold resources that the other thread needs to continue execution, resulting in a deadlock. Deadlocks can be difficult to detect and resolve, as they can involve complex interactions between threads and shared resources.\n",
    "\n",
    "**Race Condition:** A race condition is a situation in which the outcome of a program depends on the order and timing of thread execution. Race conditions can occur when two or more threads access shared resources or modify shared data in an uncoordinated manner. This can lead to incorrect behavior or crashes, as the threads may overwrite each other's changes or make incorrect assumptions about the state of shared resources."
   ]
  }
 ],
 "metadata": {
  "kernelspec": {
   "display_name": "Python 3 (ipykernel)",
   "language": "python",
   "name": "python3"
  },
  "language_info": {
   "codemirror_mode": {
    "name": "ipython",
    "version": 3
   },
   "file_extension": ".py",
   "mimetype": "text/x-python",
   "name": "python",
   "nbconvert_exporter": "python",
   "pygments_lexer": "ipython3",
   "version": "3.10.8"
  }
 },
 "nbformat": 4,
 "nbformat_minor": 5
}
