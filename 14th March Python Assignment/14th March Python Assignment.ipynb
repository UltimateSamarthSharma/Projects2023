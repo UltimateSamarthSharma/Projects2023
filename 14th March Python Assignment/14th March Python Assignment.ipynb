{
  "cells": [
    {
      "cell_type": "markdown",
      "id": "4feb10fd",
      "metadata": {
        "id": "4feb10fd"
      },
      "source": [
        "**Q1. Write a Python function that takes in two arrays of data and calculates the F-value for a variance ratio test. The function should return the F-value and the corresponding p-value for the test.**"
      ]
    },
    {
      "cell_type": "code",
      "execution_count": 1,
      "id": "064497a4",
      "metadata": {
        "colab": {
          "base_uri": "https://localhost:8080/"
        },
        "id": "064497a4",
        "outputId": "6a5f1463-5b07-4563-decf-16b2ac591fa4"
      },
      "outputs": [
        {
          "output_type": "stream",
          "name": "stdout",
          "text": [
            "F-value: 1.00\n",
            "P-value: 0.50\n"
          ]
        }
      ],
      "source": [
        "import numpy as np\n",
        "from scipy.stats import f\n",
        "def var_ratio_test(arr1, arr2):\n",
        "    var1 = np.var(arr1, ddof=1)\n",
        "    var2 = np.var(arr2, ddof=1)\n",
        "    f_value = var1 / var2\n",
        "    df1 = len(arr1) - 1\n",
        "    df2 = len(arr2) - 1\n",
        "    p_value = f.cdf(f_value, df1, df2)\n",
        "    return f_value, p_value\n",
        "arr1 = [1, 2, 3, 4, 5]\n",
        "arr2 = [6, 7, 8, 9, 10]\n",
        "f_value, p_value = var_ratio_test(arr1, arr2)\n",
        "print(f\"F-value: {f_value:.2f}\")\n",
        "print(f\"P-value: {p_value:.2f}\")"
      ]
    },
    {
      "cell_type": "markdown",
      "id": "f72df990",
      "metadata": {
        "id": "f72df990"
      },
      "source": [
        "**Q2. Given a significance level of 0.05 and the degrees of freedom for the numerator and denominator of an F-distribution, write a Python function that returns the critical F-value for a two-tailed test.**"
      ]
    },
    {
      "cell_type": "code",
      "execution_count": 2,
      "id": "98f97c9c",
      "metadata": {
        "colab": {
          "base_uri": "https://localhost:8080/"
        },
        "id": "98f97c9c",
        "outputId": "7076f331-ed34-46dc-eee6-ff3093b4fc5e"
      },
      "outputs": [
        {
          "output_type": "stream",
          "name": "stdout",
          "text": [
            "Critical F-value: 4.0768\n"
          ]
        }
      ],
      "source": [
        "from scipy.stats import f\n",
        "def critical_f_value(dfn,dfd, alpha=0.05):\n",
        "    f_crit = f.ppf(1-alpha/2, dfn, dfd)\n",
        "    return f_crit\n",
        "dfn = 3\n",
        "dfd = 16\n",
        "alpha = 0.05\n",
        "f_crit = critical_f_value(dfn, dfd, alpha)\n",
        "print(f\"Critical F-value: {f_crit:.4f}\")"
      ]
    },
    {
      "cell_type": "markdown",
      "id": "d25bfecf",
      "metadata": {
        "id": "d25bfecf"
      },
      "source": [
        "**Q3. Write a Python program that generates random samples from two normal distributions with known variances and uses an F-test to determine if the variances are equal. The program should output the F-value, degrees of freedom, and p-value for the test.**"
      ]
    },
    {
      "cell_type": "code",
      "execution_count": 3,
      "id": "ac14a749",
      "metadata": {
        "colab": {
          "base_uri": "https://localhost:8080/"
        },
        "id": "ac14a749",
        "outputId": "e773d24c-43dd-4e54-a696-6835bd3af54b"
      },
      "outputs": [
        {
          "output_type": "stream",
          "name": "stdout",
          "text": [
            "The null hypothesis that the variances are equal is not rejected.\n",
            "F-value: 1.7070\n",
            "Degrees of freedom (numerator): 19\n",
            "Degrees of freedom (denominator): 19\n",
            "P-value: 0.1264\n"
          ]
        }
      ],
      "source": [
        "import numpy as np\n",
        "from scipy.stats import f\n",
        "def f_test(sample1, sample2, var1, var2, alpha=0.05):\n",
        "    s1_var = np.var(sample1, ddof=1)\n",
        "    s2_var = np.var(sample2, ddof=1)\n",
        "    f_value = s1_var / s2_var if s1_var > s2_var else s2_var / s1_var\n",
        "    dfn = len(sample1) - 1 if s1_var > s2_var else len(sample2) - 1\n",
        "    dfd = len(sample2) - 1 if s1_var > s2_var else len(sample1) - 1\n",
        "    p_value = f.sf(f_value, dfn, dfd)\n",
        "    if p_value < alpha:\n",
        "        print(\"The null hypothesis that the variances are equal is rejected.\")\n",
        "    else:\n",
        "        print(\"The null hypothesis that the variances are equal is not rejected.\")\n",
        "    return f_value, dfn, dfd, p_value\n",
        "np.random.seed(123)\n",
        "sample1 = np.random.normal(10, 2, size=20)\n",
        "sample2 = np.random.normal(10, 3, size=20)\n",
        "f_value, dfn, dfd, p_value = f_test(sample1, sample2, var1=2**2, var2=3**2)\n",
        "print(f\"F-value: {f_value:.4f}\")\n",
        "print(f\"Degrees of freedom (numerator): {dfn}\")\n",
        "print(f\"Degrees of freedom (denominator): {dfd}\")\n",
        "print(f\"P-value: {p_value:.4f}\")"
      ]
    },
    {
      "cell_type": "markdown",
      "id": "053ce5b4",
      "metadata": {
        "id": "053ce5b4"
      },
      "source": [
        "**Q4. The variances of two populations are known to be 10 and 15. A sample of 12 observations is taken from each population. Conduct an F-test at the 5% significance level to determine if the variances are significantly different.**"
      ]
    },
    {
      "cell_type": "code",
      "source": [
        "import numpy as np\n",
        "from scipy.stats import f\n",
        "n1 = 12\n",
        "n2 = 12\n",
        "var1 = 10\n",
        "var2 = 15\n",
        "f_stat = var1 / var2\n",
        "p_val = f.cdf(f_stat, n1 - 1, n2 - 1)\n",
        "alpha = 0.05\n",
        "if p_val < alpha / 2 or p_val > 1 - alpha / 2:\n",
        "    print(\"The variances are significantly different.\")\n",
        "else:\n",
        "    print(\"There is no significant difference between the variances.\")"
      ],
      "metadata": {
        "colab": {
          "base_uri": "https://localhost:8080/"
        },
        "id": "_mCt0WA6jgZe",
        "outputId": "d555ad63-2ad8-4604-d765-f595b2f70172"
      },
      "id": "_mCt0WA6jgZe",
      "execution_count": 4,
      "outputs": [
        {
          "output_type": "stream",
          "name": "stdout",
          "text": [
            "There is no significant difference between the variances.\n"
          ]
        }
      ]
    },
    {
      "cell_type": "markdown",
      "id": "f7f48fd2",
      "metadata": {
        "id": "f7f48fd2"
      },
      "source": [
        "**Q5. A manufacturer claims that the variance of the diameter of a certain product is 0.005. A sample of 25 products is taken, and the sample variance is found to be 0.006. Conduct an F-test at the 1% significance level to determine if the claim is justified.**"
      ]
    },
    {
      "cell_type": "code",
      "source": [
        "import numpy as np\n",
        "from scipy.stats import f\n",
        "n = 25\n",
        "sample_var = 0.006\n",
        "hypo_var = 0.005\n",
        "f_stat = sample_var / hypo_var\n",
        "p_val = f.cdf(f_stat, n - 1, np.inf)\n",
        "alpha = 0.01\n",
        "if p_val < alpha:\n",
        "    print(\"The manufacturer's claim is not justified.\")\n",
        "else:\n",
        "    print(\"The manufacturer's claim is justified.\")"
      ],
      "metadata": {
        "colab": {
          "base_uri": "https://localhost:8080/"
        },
        "id": "J80PKq_aju3k",
        "outputId": "3b24becc-359d-41b8-8cba-7414100a3a17"
      },
      "id": "J80PKq_aju3k",
      "execution_count": 5,
      "outputs": [
        {
          "output_type": "stream",
          "name": "stdout",
          "text": [
            "The manufacturer's claim is not justified.\n"
          ]
        }
      ]
    },
    {
      "cell_type": "markdown",
      "id": "eaf84e78",
      "metadata": {
        "id": "eaf84e78"
      },
      "source": [
        "**Q6. Write a Python function that takes in the degrees of freedom for the numerator and denominator of an F-distribution and calculates the mean and variance of the distribution. The function should return the mean and variance as a tuple.**"
      ]
    },
    {
      "cell_type": "code",
      "execution_count": 7,
      "id": "8bcd9a8c",
      "metadata": {
        "colab": {
          "base_uri": "https://localhost:8080/"
        },
        "id": "8bcd9a8c",
        "outputId": "b718457f-ad67-46c9-b90b-5280ebab325b"
      },
      "outputs": [
        {
          "output_type": "stream",
          "name": "stdout",
          "text": [
            "Mean:  1.25\n",
            "Variance: 1.3542\n"
          ]
        }
      ],
      "source": [
        "import numpy as np\n",
        "from scipy.stats import f\n",
        "def f_distribution_mean_var(dfn, dfd):\n",
        "    mean = dfd / (dfd - 2)\n",
        "    variance = (2 * dfd**2 * (dfn + dfd - 2)) / (dfn * (dfd - 2)**2 * (dfd - 4))\n",
        "    return (mean, variance)\n",
        "mean, variance = f_distribution_mean_var(5, 10)\n",
        "print(\"Mean: \", mean)\n",
        "print(f\"Variance: {variance:.4f}\")"
      ]
    },
    {
      "cell_type": "markdown",
      "id": "4772383f",
      "metadata": {
        "id": "4772383f"
      },
      "source": [
        "**Q7. A random sample of 10 measurements is taken from a normal population with unknown variance. The sample variance is found to be 25. Another random sample of 15 measurements is taken from another normal population with unknown variance, and the sample variance is found to be 20. Conduct an F-test at the 10% significance level to determine if the variances are significantly different.**"
      ]
    },
    {
      "cell_type": "code",
      "source": [
        "from scipy.stats import f\n",
        "n1 = 10\n",
        "n2 = 15\n",
        "s1_sq = 25\n",
        "s2_sq = 20\n",
        "f_stat = s1_sq / s2_sq\n",
        "p_val = f.cdf(f_stat, n1 - 1, n2 - 1)\n",
        "alpha = 0.1\n",
        "if p_val < alpha:\n",
        "    print(\"The variances are significantly different.\")\n",
        "else:\n",
        "    print(\"The variances are not significantly different.\")"
      ],
      "metadata": {
        "colab": {
          "base_uri": "https://localhost:8080/"
        },
        "id": "lj8ip9Kvj_la",
        "outputId": "10fd739c-954a-4383-aa51-36ab8669ba46"
      },
      "id": "lj8ip9Kvj_la",
      "execution_count": 8,
      "outputs": [
        {
          "output_type": "stream",
          "name": "stdout",
          "text": [
            "The variances are not significantly different.\n"
          ]
        }
      ]
    },
    {
      "cell_type": "markdown",
      "id": "2cb55bbe",
      "metadata": {
        "id": "2cb55bbe"
      },
      "source": [
        "**Q8. The following data represent the waiting times in minutes at two different restaurants on a Saturday night:**\n",
        "\n",
        "**Restaurant A: 24, 25, 28, 23, 22, 20, 27<br>\n",
        "Restaurant B: 31, 33, 35, 30, 32, 36.**\n",
        "\n",
        "**Conduct an F-test at the 5% significance level to determine if the variances are significantly different.**"
      ]
    },
    {
      "cell_type": "code",
      "source": [
        "from scipy.stats import f\n",
        "a = [24, 25, 28, 23, 22, 20, 27]\n",
        "b = [31, 33, 35, 30, 32, 36]\n",
        "n1 = len(a)\n",
        "n2 = len(b)\n",
        "s1_sq = sum((x - sum(a)/n1)**2 for x in a) / (n1 - 1)\n",
        "s2_sq = sum((x - sum(b)/n2)**2 for x in b) / (n2 - 1)\n",
        "f_stat = s1_sq / s2_sq\n",
        "p_val = f.cdf(f_stat, n1 - 1, n2 - 1)\n",
        "alpha = 0.05\n",
        "if p_val < alpha:\n",
        "    print(\"The variances are significantly different.\")\n",
        "else:\n",
        "    print(\"The variances are not significantly different.\")"
      ],
      "metadata": {
        "colab": {
          "base_uri": "https://localhost:8080/"
        },
        "id": "X7Url50rkY5i",
        "outputId": "d88c2a53-fcf0-449c-b9b8-ca1234407caa"
      },
      "id": "X7Url50rkY5i",
      "execution_count": 9,
      "outputs": [
        {
          "output_type": "stream",
          "name": "stdout",
          "text": [
            "The variances are not significantly different.\n"
          ]
        }
      ]
    },
    {
      "cell_type": "markdown",
      "id": "55251431",
      "metadata": {
        "id": "55251431"
      },
      "source": [
        "**Q9. The following data represent the test scores of two groups of students:**\n",
        "\n",
        "**Group A: 80, 85, 90, 92, 87, 83<br>\n",
        "Group B: 75, 78, 82, 79, 81, 84.**\n",
        "\n",
        "**Conduct an F-test at the 1% significance level to determine if the variances\n",
        "are significantly different.**"
      ]
    },
    {
      "cell_type": "code",
      "source": [
        "from scipy.stats import f_oneway\n",
        "group_a = [80, 85, 90, 92, 87, 83]\n",
        "group_b = [75, 78, 82, 79, 81, 84]\n",
        "f_statistic, p_value = f_oneway(group_a, group_b)\n",
        "alpha = 0.01\n",
        "if p_value < alpha:\n",
        "    print(\"The variances are significantly different (reject null hypothesis)\")\n",
        "else:\n",
        "    print(\"The variances are not significantly different (fail to reject null hypothesis)\")"
      ],
      "metadata": {
        "colab": {
          "base_uri": "https://localhost:8080/"
        },
        "id": "8Fr_04Otkmeu",
        "outputId": "f3c70651-29f2-4597-c7e8-afbebf872bbb"
      },
      "id": "8Fr_04Otkmeu",
      "execution_count": 10,
      "outputs": [
        {
          "output_type": "stream",
          "name": "stdout",
          "text": [
            "The variances are not significantly different (fail to reject null hypothesis)\n"
          ]
        }
      ]
    }
  ],
  "metadata": {
    "kernelspec": {
      "display_name": "Python 3 (ipykernel)",
      "language": "python",
      "name": "python3"
    },
    "language_info": {
      "codemirror_mode": {
        "name": "ipython",
        "version": 3
      },
      "file_extension": ".py",
      "mimetype": "text/x-python",
      "name": "python",
      "nbconvert_exporter": "python",
      "pygments_lexer": "ipython3",
      "version": "3.9.13"
    },
    "colab": {
      "provenance": []
    }
  },
  "nbformat": 4,
  "nbformat_minor": 5
}