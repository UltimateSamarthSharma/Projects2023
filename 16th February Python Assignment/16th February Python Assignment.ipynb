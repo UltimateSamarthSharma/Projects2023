{
 "cells": [
  {
   "cell_type": "markdown",
   "id": "0f68aee0-53d4-4eff-bfdb-93bc543f2a1d",
   "metadata": {},
   "source": [
    "Q1. What is a database? Differentiate between SQL and NoSQL databases."
   ]
  },
  {
   "cell_type": "markdown",
   "id": "c14d4a55-fe99-4441-8d47-97092a771e53",
   "metadata": {},
   "source": [
    "**Database:** A database is a software application that allows you to store, organize, and retrieve data. It is a structured collection of data that can be accessed, managed, and updated in various ways. Databases are essential for managing and processing large volumes of data in various industries, such as finance, healthcare, e-commerce, and more.\n",
    "\n",
    "**Types of Databases:** SQL (Structured Query Language) and NoSQL (Not Only SQL) are two different types of databases.\n",
    "\n",
    "**SQL Databases:** SQL databases are relational databases, which means that they use a tabular structure with rows and columns to store data. SQL databases have a fixed schema, meaning that the structure of the data is defined beforehand, and the data must conform to that structure. Examples of SQL databases include MySQL, Oracle, and PostgreSQL.\n",
    "\n",
    "**NoSQL Databases:** NoSQL databases, on the other hand, are non-relational databases that do not use the traditional table-based schema. NoSQL databases are schema-less, meaning that data can be added to the database without defining the structure beforehand. Instead, NoSQL databases use various data models, such as key-value, document, graph, or column-family. Examples of NoSQL databases include MongoDB, Cassandra, and Redis."
   ]
  },
  {
   "cell_type": "markdown",
   "id": "7cca4ef1-a780-48ac-9a0d-ae75b589dfce",
   "metadata": {},
   "source": [
    "Q2. What is DDL? Explain why CREATE, DROP, ALTER, and TRUNCATE are used with an example."
   ]
  },
  {
   "cell_type": "markdown",
   "id": "1a3d2953-6aff-4e83-98d4-49670bb1da9f",
   "metadata": {},
   "source": [
    "**DDL:** DDL stands for Data Definition Language, and it is a subset of SQL that is used to define and manage the structure of a database. DDL statements are used to create, modify, and delete database objects such as tables, views, indexes, and stored procedures. Some of the commonly used statements are:\n",
    "\n",
    "1. **CREATE:** The CREATE statement is used to create a new database object, such as a table or view. For example, the following statement creates a new table called \"employees\" with four columns:"
   ]
  },
  {
   "cell_type": "code",
   "execution_count": null,
   "id": "1450d719-350b-49ac-a61e-9711e7118a8c",
   "metadata": {},
   "outputs": [],
   "source": [
    "CREATE TABLE employees (\n",
    "  id INT PRIMARY KEY,\n",
    "  name VARCHAR(50),\n",
    "  age INT,\n",
    "  salary DECIMAL(10, 2)\n",
    ");"
   ]
  },
  {
   "cell_type": "markdown",
   "id": "c7b83889-3901-49ea-b372-92924a957ef2",
   "metadata": {},
   "source": [
    "2. **DROP:** The DROP statement is used to remove an existing database object. For example, the following statement drops the \"employees\" table:"
   ]
  },
  {
   "cell_type": "code",
   "execution_count": null,
   "id": "0703254b-a112-4512-8948-ff3461305dc7",
   "metadata": {},
   "outputs": [],
   "source": [
    "DROP TABLE employees;"
   ]
  },
  {
   "cell_type": "markdown",
   "id": "52fe49b7-2cc2-441b-96a8-16e5ac5209c5",
   "metadata": {},
   "source": [
    "3. **ALTER:** The ALTER statement is used to modify the structure of an existing database object, such as a table. For example, the following statement adds a new column called \"department\" to the \"employees\" table:"
   ]
  },
  {
   "cell_type": "code",
   "execution_count": null,
   "id": "0766bf03-4751-4123-b594-c6f956986f20",
   "metadata": {},
   "outputs": [],
   "source": [
    "ALTER TABLE employees ADD COLUMN department VARCHAR(50);"
   ]
  },
  {
   "cell_type": "markdown",
   "id": "7832a5a9-c321-4490-a002-ef5f43fdba46",
   "metadata": {},
   "source": [
    "4. **TRUNCATE:** The TRUNCATE statement is used to remove all data from an existing table, but it does not remove the table structure. For example, the following statement removes all data from the \"employees\" table:"
   ]
  },
  {
   "cell_type": "code",
   "execution_count": null,
   "id": "5473900a-6ad1-4662-ad5c-d83b26be8ed0",
   "metadata": {},
   "outputs": [],
   "source": [
    "TRUNCATE TABLE employees;"
   ]
  },
  {
   "cell_type": "markdown",
   "id": "5aabf086-b15d-430e-a2c5-8b0efb08cae4",
   "metadata": {},
   "source": [
    "Q3. What is DML? Explain INSERT, UPDATE, and DELETE with an example."
   ]
  },
  {
   "cell_type": "markdown",
   "id": "4fb34e6e-889a-465d-9cb7-6b18ebe02526",
   "metadata": {},
   "source": [
    "**DML:** DML stands for Data Manipulation Language, and it is a subset of SQL that is used to manipulate the data in a database. DML statements are used to insert, update, and delete data in a table. The following are some commonly used DML statements:\n",
    "\n",
    "1. **INSERT:** The INSERT statement is used to insert new data into a table. For example, the following statement inserts a new record into the \"employees\" table:"
   ]
  },
  {
   "cell_type": "code",
   "execution_count": null,
   "id": "ca6c229f-5d47-42a1-9f07-c35dae24ad2a",
   "metadata": {},
   "outputs": [],
   "source": [
    "INSERT INTO employees (id, name, age, salary, department)\n",
    "VALUES (1, 'John Doe', 30, 50000, 'IT');"
   ]
  },
  {
   "cell_type": "markdown",
   "id": "c692009e-6890-4b84-8d20-063f93417427",
   "metadata": {},
   "source": [
    "This statement adds a new employee to the \"employees\" table with an ID of 1, a name of \"John Doe\", an age of 30, a salary of 50000, and a department of \"IT\"."
   ]
  },
  {
   "cell_type": "markdown",
   "id": "46920f98-f2e9-4a16-a881-9b4655da14ef",
   "metadata": {},
   "source": [
    "2. **UPDATE:** The UPDATE statement is used to modify existing data in a table. For example, the following statement updates the salary of an employee with an ID of 1 in the \"employees\" table:"
   ]
  },
  {
   "cell_type": "code",
   "execution_count": null,
   "id": "eba97698-97d5-41d3-aa56-1b89ab125db3",
   "metadata": {},
   "outputs": [],
   "source": [
    "UPDATE employees\n",
    "SET salary = 60000\n",
    "WHERE id = 1;"
   ]
  },
  {
   "cell_type": "markdown",
   "id": "61058db8-a089-4e07-bce4-8052a4653da3",
   "metadata": {},
   "source": [
    "This statement changes the salary of the employee with an ID of 1 to 60000."
   ]
  },
  {
   "cell_type": "markdown",
   "id": "6db3402c-14c1-4bb8-8786-52a551364b4e",
   "metadata": {},
   "source": [
    "3. **DELETE:** The DELETE statement is used to remove data from a table. For example, the following statement removes an employee with an ID of 1 from the \"employees\" table:"
   ]
  },
  {
   "cell_type": "code",
   "execution_count": null,
   "id": "fb74dd5b-2c3c-4a23-a521-81d53f1ee83c",
   "metadata": {},
   "outputs": [],
   "source": [
    "DELETE FROM employees\n",
    "WHERE id = 1;"
   ]
  },
  {
   "cell_type": "markdown",
   "id": "8f04c959-f877-4447-9205-7518bda4c2ae",
   "metadata": {},
   "source": [
    "This statement removes the record for the employee with an ID of 1 from the \"employees\" table."
   ]
  },
  {
   "cell_type": "markdown",
   "id": "4ec8774e-47db-4d81-9277-4e695f0772fe",
   "metadata": {},
   "source": [
    "Q4. What is DQL? Explain SELECT with an example."
   ]
  },
  {
   "cell_type": "markdown",
   "id": "4b594b97-210b-40a1-bf4e-c4b604efabd2",
   "metadata": {},
   "source": [
    "**DQL:** DQL stands for Data Query Language, and it is a subset of SQL that is used to query and retrieve data from a database. DQL statements are used to retrieve data from one or more tables in a database. The following is a commonly used DQL statement:\n",
    "\n",
    "1. **SELECT:** The SELECT statement is used to retrieve data from one or more tables in a database. For example, the following statement retrieves all data from the \"employees\" table:"
   ]
  },
  {
   "cell_type": "code",
   "execution_count": null,
   "id": "26c15e46-2aff-4a7a-a216-efe35f0659f3",
   "metadata": {},
   "outputs": [],
   "source": [
    "SELECT * FROM employees;"
   ]
  },
  {
   "cell_type": "markdown",
   "id": "e44c4314-b08f-4814-86b0-0dddb99d1b8c",
   "metadata": {},
   "source": [
    "This statement returns all the data in the \"employees\" table, including the ID, name, age, salary, and department of each employee.\n",
    "\n",
    "You can also specify which columns you want to retrieve by listing them after the SELECT keyword. For example, the following statement retrieves only the name and salary columns from the \"employees\" table:"
   ]
  },
  {
   "cell_type": "code",
   "execution_count": null,
   "id": "ff457774-2d3c-4f78-bbb1-1e54f2ca7f6f",
   "metadata": {},
   "outputs": [],
   "source": [
    "SELECT name, salary FROM employees;"
   ]
  },
  {
   "cell_type": "markdown",
   "id": "d851e45e-d07c-40cb-9a25-b1f77e433060",
   "metadata": {},
   "source": [
    "This statement returns only the name and salary data for each employee in the \"employees\" table.\n",
    "\n",
    "You can use various clauses and operators to filter and sort the data retrieved by the SELECT statement. For example, the WHERE clause is used to specify a condition that the retrieved data must meet. The following statement retrieves only the data for employees with a salary greater than 50000:"
   ]
  },
  {
   "cell_type": "code",
   "execution_count": null,
   "id": "a1ac0f46-8300-4bf6-ab6b-6e90da1a9ee4",
   "metadata": {},
   "outputs": [],
   "source": [
    "SELECT * FROM employees\n",
    "WHERE salary > 50000;"
   ]
  },
  {
   "cell_type": "markdown",
   "id": "59901bde-7f05-44e1-a751-45252fe51ea5",
   "metadata": {},
   "source": [
    "This statement returns only the data for employees with a salary greater than 50000."
   ]
  },
  {
   "cell_type": "markdown",
   "id": "9af380bd-d040-4dcc-a715-34a6af4930da",
   "metadata": {},
   "source": [
    "Q5. Explain Primary Key and Foreign Key."
   ]
  },
  {
   "cell_type": "markdown",
   "id": "57986b90-23f5-4868-a690-6288e20b5536",
   "metadata": {},
   "source": [
    "**Primary Key:** A Primary Key is a column or a set of columns in a table that uniquely identifies each row in the table. The primary key constraint ensures that the primary key value for each row in a table is unique and cannot be null. By using primary keys, you can establish relationships between tables and ensure data consistency across the database. For example, a table of students might have a primary key of \"student_id\", where each student has a unique identifier, and this key is used to link data in other tables.\n",
    "\n",
    "**Foreign Key:** A Foreign Key is a column or a set of columns in one table that refers to the primary key of another table. A foreign key constraint is used to ensure that the data in the foreign key column is consistent with the data in the primary key column of the related table. By using foreign keys, you can establish relationships between tables, which is a fundamental aspect of a relational database. For example, a table of courses might have a foreign key \"instructor_id\" that refers to the primary key \"instructor_id\" in a table of instructors. This foreign key constraint ensures that the instructor ID value in the \"courses\" table corresponds to an existing instructor in the \"instructors\" table.\n",
    "\n",
    "In summary, a primary key is used to uniquely identify each row in a table, while a foreign key is used to establish relationships between tables by referencing the primary key of another table. Primary and foreign keys are essential for maintaining data consistency and integrity in a relational database."
   ]
  },
  {
   "cell_type": "markdown",
   "id": "74f4d098-f819-43c3-ade0-152894bad8c9",
   "metadata": {},
   "source": [
    "Q6. Write a python code to connect MySQL to python. Explain the cursor() and execute() method."
   ]
  },
  {
   "cell_type": "markdown",
   "id": "166df204-faf3-4071-8b69-d6555ccfcf60",
   "metadata": {},
   "source": [
    "**Connecting MySQL to Python:** In Python, the ___mysql.connector___ package provides a way to connect to a MySQL database and execute SQL statements\n",
    "\n",
    "The cursor() and execute() methods are two of the most commonly used methods in this package.\n",
    "\n",
    "1. The **cursor()** method is used to create a cursor object that you can use to execute SQL statements. The cursor object provides a way to traverse and manipulate the data returned by a SQL query. Here is an example of how to create a cursor object:"
   ]
  },
  {
   "cell_type": "code",
   "execution_count": null,
   "id": "5a94d38d-d0f9-43ac-9b51-95f9a6bf1ef6",
   "metadata": {},
   "outputs": [],
   "source": [
    "import mysql.connector\n",
    "mydb = mysql.connector.connect(\n",
    "  host=\"localhost\",\n",
    "  user=\"abc\",\n",
    "  password=\"password\"\n",
    ")\n",
    "mycursor = mydb.cursor()"
   ]
  },
  {
   "cell_type": "markdown",
   "id": "409cb90e-5ccc-44d8-9a20-0247c093d756",
   "metadata": {},
   "source": [
    "2. The **execute()** method is used to execute a SQL statement using the cursor object. You can use this method to execute any SQL statement, including SELECT, INSERT, UPDATE, and DELETE statements. Here is an example of how to execute a SELECT statement:"
   ]
  },
  {
   "cell_type": "code",
   "execution_count": null,
   "id": "a6e56c9c-d400-46ad-be6e-744f63a34314",
   "metadata": {},
   "outputs": [],
   "source": [
    "mycursor.execute('SELECT * FROM employees')\n",
    "for row in mycursor:\n",
    "    print(row)"
   ]
  },
  {
   "cell_type": "markdown",
   "id": "4b5e6525-3972-408d-b69d-333ba9548acb",
   "metadata": {},
   "source": [
    "This code executes a SELECT statement that retrieves all rows from the \"employees\" table and then iterates through the rows returned by the query, printing each row to the console.\n",
    "\n",
    "You can also use the execute() method to execute INSERT, UPDATE, and DELETE statements. Here is an example of how to execute an INSERT statement:"
   ]
  },
  {
   "cell_type": "code",
   "execution_count": null,
   "id": "3d5eeca9-ee7e-4e11-accb-92f346ba3363",
   "metadata": {},
   "outputs": [],
   "source": [
    "mycursor.execute('INSERT INTO employees (name, age, salary) VALUES (\"John Doe\", 30, 50000)')\n",
    "mydb.commit()"
   ]
  },
  {
   "cell_type": "markdown",
   "id": "a5399d7f-4418-45d7-9d9b-8524430fc57f",
   "metadata": {},
   "source": [
    "This code executes an INSERT statement that inserts a new employee into the \"employees\" table and then commits the changes to the database."
   ]
  },
  {
   "cell_type": "markdown",
   "id": "f8184370-6b47-4905-8ada-be675cf3185d",
   "metadata": {},
   "source": [
    "Q7. Give the order of execution of SQL clauses in an SQL query."
   ]
  },
  {
   "cell_type": "markdown",
   "id": "7bd214a3-1ed4-4ba8-bba4-e21bb15d355a",
   "metadata": {},
   "source": [
    "In an SQL query, the order of execution of SQL clauses is as follows:\n",
    "\n",
    "1. **FROM:** This clause specifies the table or tables from which the data will be selected.\n",
    "2. **JOIN:** This clause is used to combine rows from two or more tables based on a related column between them.\n",
    "3. **WHERE:** This clause is used to filter rows based on a specified condition.\n",
    "4. **GROUP BY:** This clause is used to group the selected rows based on one or more columns.\n",
    "5. **HAVING:** This clause is used to filter groups based on a specified condition.\n",
    "6. **SELECT:** This clause is used to select the columns to include in the result set.\n",
    "7. **DISTINCT:** This clause is used to remove duplicates from the result set.\n",
    "8. **ORDER BY:** This clause is used to sort the sort the derived values with respect to the result set based on one or more columns in ascending or descending order.\n",
    "9. **LIMIT/OFFSET:** This clause is used to limit the number of rows returned in the result set. In other words, the LIMIT and/or OFFSET clauses are executed to keep or skip a specified number of rows.\n",
    "\n",
    "For example:"
   ]
  },
  {
   "cell_type": "code",
   "execution_count": null,
   "id": "216934e2-1835-4a7f-b1f2-a93f09e3cce1",
   "metadata": {},
   "outputs": [],
   "source": [
    "SELECT O.name, \n",
    "    SUM(O.quantity*P.price) AS total_spent\n",
    "FROM Orders O\n",
    "JOIN Products P\n",
    "    ON O.product_id = P.id\n",
    "WHERE P.name = 'Pen'\n",
    "GROUP BY O.name\n",
    "ORDER BY total_spent DESC\n",
    "LIMIT 1 OFFSET 1;"
   ]
  }
 ],
 "metadata": {
  "kernelspec": {
   "display_name": "Python 3 (ipykernel)",
   "language": "python",
   "name": "python3"
  },
  "language_info": {
   "codemirror_mode": {
    "name": "ipython",
    "version": 3
   },
   "file_extension": ".py",
   "mimetype": "text/x-python",
   "name": "python",
   "nbconvert_exporter": "python",
   "pygments_lexer": "ipython3",
   "version": "3.10.8"
  }
 },
 "nbformat": 4,
 "nbformat_minor": 5
}
