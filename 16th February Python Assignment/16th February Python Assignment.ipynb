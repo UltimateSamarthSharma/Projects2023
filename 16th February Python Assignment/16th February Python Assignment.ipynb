{
 "cells": [
  {
   "cell_type": "markdown",
   "id": "cbe7c354-eecb-4d7f-a416-612c97f35960",
   "metadata": {},
   "source": [
    "Q1. What is a database? Differentiate between SQL and NoSQL databases."
   ]
  },
  {
   "cell_type": "markdown",
   "id": "58f34fa1-2c01-4243-bdbd-bdfc752c2b2e",
   "metadata": {},
   "source": [
    "In computing, a database is an organized collection of data stored and accessed electronically. Small databases can be stored on a file system, while large databases are hosted on computer clusters or cloud storage."
   ]
  },
  {
   "cell_type": "markdown",
   "id": "2affcc51-056c-4960-9750-dae3abad3a71",
   "metadata": {},
   "source": [
    "SQL, which stands for “Structured Query Language,” is the programming language that’s been widely used in managing data in relational database management systems (RDBMS) since the 1970s. In the early years, when storage was expensive, SQL databases focused on reducing data duplication."
   ]
  },
  {
   "cell_type": "markdown",
   "id": "ab9e162a-92a2-4d98-9b20-2da712cb78b7",
   "metadata": {},
   "source": [
    "NoSQL is a non-relational database, meaning it allows different structures than a SQL database (not rows and columns) and more flexibility to use a format that best fits the data. The term “NoSQL” was not coined until the early 2000s. It doesn’t mean the systems don’t use SQL, as NoSQL databases do sometimes support some SQL commands. More accurately, “NoSQL” is sometimes defined as “not only SQL.”"
   ]
  },
  {
   "cell_type": "markdown",
   "id": "356b13dd-0900-4a47-a8c6-f620431cf323",
   "metadata": {},
   "source": [
    "Q2. What is DDL? Explain why CREATE, DROP, ALTER, and TRUNCATE are used with an example."
   ]
  },
  {
   "cell_type": "markdown",
   "id": "0b3863c0-35ab-43c7-a2d4-06c250b707c2",
   "metadata": {},
   "source": [
    "In the context of SQL, data definition or data description language is a syntax for creating and modifying database objects such as tables, indices, and users. DDL statements are similar to a computer programming language for defining data structures, especially database schemas."
   ]
  },
  {
   "cell_type": "markdown",
   "id": "f7ed4509-7f11-4a7d-bd62-bee7a3b87997",
   "metadata": {},
   "source": [
    "The CREATE TABLE command creates a new table in the database. For example:"
   ]
  },
  {
   "cell_type": "code",
   "execution_count": null,
   "id": "e51885d2-c202-44b6-af48-d6d43da424eb",
   "metadata": {},
   "outputs": [],
   "source": [
    "CREATE TABLE Persons (\n",
    "    PersonID int,\n",
    "    LastName varchar(255),\n",
    "    FirstName varchar(255),\n",
    "    Address varchar(255),\n",
    "    City varchar(255)\n",
    ");"
   ]
  },
  {
   "cell_type": "markdown",
   "id": "bd420ffd-baed-4201-8ec5-276387829a06",
   "metadata": {},
   "source": [
    "The ALTER TABLE command adds, deletes, or modifies columns in a table. For example:"
   ]
  },
  {
   "cell_type": "code",
   "execution_count": null,
   "id": "f8aa208d-7fad-4000-8f79-02cbeb39bf4b",
   "metadata": {},
   "outputs": [],
   "source": [
    "ALTER TABLE Customers\n",
    "ADD Email varchar(255);"
   ]
  },
  {
   "cell_type": "markdown",
   "id": "30435f2e-9085-42c6-92e5-e492c11c144a",
   "metadata": {},
   "source": [
    "The DROP TABLE command deletes a table in the database.<br>For example: DROP TABLE Shippers;\n",
    "\n",
    "On the other hand, the TRUNCATE TABLE command deletes the data inside a table, but not the table itself.<br>For example: TRUNCATE TABLE Categories;"
   ]
  },
  {
   "cell_type": "markdown",
   "id": "d629ebad-3d69-4ee8-acf9-4e5e66413296",
   "metadata": {},
   "source": [
    "Q3. What is DML? Explain INSERT, UPDATE, and DELETE with an example."
   ]
  },
  {
   "cell_type": "markdown",
   "id": "cbeaa4e4-c987-45fd-af59-6a118a73004f",
   "metadata": {},
   "source": [
    "A data manipulation language is a computer programming language used for adding, deleting, and modifying data in a database. A DML is often a sublanguage of a broader database language such as SQL, with the DML comprising some of the operators in the language."
   ]
  },
  {
   "cell_type": "markdown",
   "id": "15cc0068-c057-43c6-8826-1c53825b2f6c",
   "metadata": {},
   "source": [
    "The INSERT statement is used to insert new records in a table. For example:"
   ]
  },
  {
   "cell_type": "code",
   "execution_count": null,
   "id": "4f4e3882-c650-4a68-82e9-e2c264cc705c",
   "metadata": {},
   "outputs": [],
   "source": [
    "INSERT INTO Customers (CustomerName, ContactName, Address, City, PostalCode, Country)\n",
    "VALUES ('Cardinal', 'Tom B. Erichsen', 'Skagen 21', 'Stavanger', '4006', 'Norway');"
   ]
  },
  {
   "cell_type": "markdown",
   "id": "249316f8-0779-4e4e-a62c-6c37d08ae1d4",
   "metadata": {},
   "source": [
    "The UPDATE statement is used to modify the existing records in a table. For example:"
   ]
  },
  {
   "cell_type": "code",
   "execution_count": null,
   "id": "c8da4600-5454-4877-99c8-a28e69f7b3b0",
   "metadata": {},
   "outputs": [],
   "source": [
    "UPDATE Customers\n",
    "SET ContactName = 'Alfred Schmidt', City= 'Frankfurt'\n",
    "WHERE CustomerID = 1;"
   ]
  },
  {
   "cell_type": "markdown",
   "id": "81e368bc-24e4-4901-954c-74d6824ff141",
   "metadata": {},
   "source": [
    "The DELETE statement is used to delete existing records in a table. For example:"
   ]
  },
  {
   "cell_type": "code",
   "execution_count": null,
   "id": "54e4ea5a-4cac-4a6e-894c-2e8bfcfbdef1",
   "metadata": {},
   "outputs": [],
   "source": [
    "DELETE FROM Customers WHERE CustomerName='Alfreds Futterkiste';"
   ]
  },
  {
   "cell_type": "markdown",
   "id": "d0dfff68-ecab-47ea-9c45-110fc135b67f",
   "metadata": {},
   "source": [
    "Q4. What is DQL? Explain SELECT with an example."
   ]
  },
  {
   "cell_type": "markdown",
   "id": "2c991f9a-15a3-421c-a813-c0349bb154bb",
   "metadata": {},
   "source": [
    "Data query language is part of the base grouping of SQL sub-languages. These sub-languages are mainly categorized into four categories: a data query language, a data definition language, a data control language, and a data manipulation language. They can be used in order to query the data and information contained in schema objects. Their main goal of Data Query Language is to return a schema relation on the basis of the query supplied to them."
   ]
  },
  {
   "cell_type": "markdown",
   "id": "6e4669ec-e248-4fb8-9a38-9ee19da75551",
   "metadata": {},
   "source": [
    "The SELECT statement is used to select data from a database. For example:"
   ]
  },
  {
   "cell_type": "code",
   "execution_count": null,
   "id": "d6754649-e732-4b7c-a9c1-efa952b5f352",
   "metadata": {},
   "outputs": [],
   "source": [
    "SELECT CustomerName, City FROM Customers;"
   ]
  },
  {
   "cell_type": "markdown",
   "id": "157604fe-bae3-4080-8b49-4e3b797b27cc",
   "metadata": {},
   "source": [
    "Q5. Explain Primary Key and Foreign Key."
   ]
  },
  {
   "cell_type": "markdown",
   "id": "8c1aac5b-7349-4a77-a387-9bad010ddb42",
   "metadata": {},
   "source": [
    "Primary Key: A primary key is used to ensure that data in the specific column is unique. A column cannot have NULL values. It is either an existing table column or a column that is specifically generated by the database according to a defined sequence.\n",
    "\n",
    "Foreign Key: A foreign key is a column or group of columns in a relational database table that provides a link between data in two tables. It is a column (or columns) that references a column (most often the primary key) of another table."
   ]
  },
  {
   "cell_type": "markdown",
   "id": "e4cbfad6-21f6-4495-991d-ca7c765bd053",
   "metadata": {},
   "source": [
    "Q6. Write a python code to connect MySQL to python. Explain the cursor() and execute() method."
   ]
  },
  {
   "cell_type": "markdown",
   "id": "367704dc-375b-4f96-96f5-8ff7468b52d0",
   "metadata": {},
   "source": [
    "Here is the given Python code below to connect MySQL to Python:"
   ]
  },
  {
   "cell_type": "code",
   "execution_count": null,
   "id": "54f6c19d-f5c2-4d1c-b746-abae3d5e8395",
   "metadata": {},
   "outputs": [],
   "source": [
    "import mysql.connector\n",
    "mydb = mysql.connector.connect(\n",
    "    host=\"localhost\",\n",
    "    user=\"abc\", \n",
    "    password=\"password\"\n",
    ")\n",
    "print(mydb)\n",
    "mycursor = mydb.cursor()\n",
    "mycursor.execute(\"SHOW DATABASES\")\n",
    "for x in mycursor:\n",
    "    print(x)"
   ]
  },
  {
   "cell_type": "markdown",
   "id": "71757b00-6691-4b91-bd1a-268a8347fc07",
   "metadata": {},
   "source": [
    "cursor() method: This method is used to make the connection for executing SQL queries. It acts as middleware between SQLite database connection and SQL query. It is created after giving connection to SQLite database."
   ]
  },
  {
   "cell_type": "markdown",
   "id": "de68c621-a22a-49d8-bef2-cef457fae8af",
   "metadata": {},
   "source": [
    "execute() method: This method executes the given database operation, whether it is query or command. The parameters found in the form of tuple or dictionary are bound to the variables in the operation."
   ]
  },
  {
   "cell_type": "markdown",
   "id": "12c3efa9-cf5f-4379-91a8-4f6423907f8d",
   "metadata": {},
   "source": [
    "Q7. Give the order of execution of SQL clauses in an SQL query."
   ]
  },
  {
   "cell_type": "markdown",
   "id": "1a889803-bb04-45d5-8fe7-4d0e05e4acf7",
   "metadata": {},
   "source": [
    "Order of Execution: Some SQL queries adhere to a specific order when evaluating clauses, similar to the mathematical operations like BODMAS. From the eyes of the user, queries begin from the first clause and end at the last clause. However, queries aren’t actually read from top to bottom when carried out.\n",
    "\n",
    "The order in which the clauses in queries are executed is as follows:\n",
    "\n",
    "1. FROM/JOIN: The FROM and/or JOIN clauses are executed first to determine the data of interest.\n",
    "\n",
    "2. WHERE: The WHERE clause is executed to filter out records that do not meet the constraints.\n",
    "\n",
    "3. GROUP BY: The GROUP BY clause is executed to group the data based on the values in one or more columns.\n",
    "\n",
    "4. HAVING: The HAVING clause is executed to remove the created grouped records that don’t meet the constraints.\n",
    "\n",
    "5. SELECT: The SELECT clause is executed to derive all desired columns and expressions.\n",
    "\n",
    "6. ORDER BY: The ORDER BY clause is executed to sort the derived values in ascending or descending order.\n",
    "\n",
    "7. LIMIT/OFFSET: Finally, the LIMIT and/or OFFSET clauses are executed to keep or skip a specified number of rows.\n",
    "\n",
    "For example:"
   ]
  },
  {
   "cell_type": "code",
   "execution_count": null,
   "id": "f82745da-19c8-4257-abda-501db2188731",
   "metadata": {},
   "outputs": [],
   "source": [
    "SELECT O.name, SUM(O.quantity*P.price) AS total_spent\n",
    "FROM Orders O\n",
    "JOIN Products P ON O.product_id = P.id\n",
    "WHERE P.name = 'Pen'\n",
    "GROUP BY O.name\n",
    "ORDER BY total_spent DESC\n",
    "LIMIT 1 OFFSET 1;"
   ]
  }
 ],
 "metadata": {
  "kernelspec": {
   "display_name": "Python 3 (ipykernel)",
   "language": "python",
   "name": "python3"
  },
  "language_info": {
   "codemirror_mode": {
    "name": "ipython",
    "version": 3
   },
   "file_extension": ".py",
   "mimetype": "text/x-python",
   "name": "python",
   "nbconvert_exporter": "python",
   "pygments_lexer": "ipython3",
   "version": "3.10.8"
  }
 },
 "nbformat": 4,
 "nbformat_minor": 5
}
