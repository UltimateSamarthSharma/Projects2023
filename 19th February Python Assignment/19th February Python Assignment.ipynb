{
 "cells": [
  {
   "cell_type": "markdown",
   "id": "3d969774-ac95-41cd-b9eb-7162dd8ff1ac",
   "metadata": {},
   "source": [
    "Q1. What is Flask Framework? What are the advantages of Flask Framework?"
   ]
  },
  {
   "cell_type": "markdown",
   "id": "ab8e9246-c271-431c-b0ef-1ddf829110a2",
   "metadata": {},
   "source": [
    "Flask is a web framework that provides libraries to build lightweight web applications in python. Flask was developed by Armin Ronacher in 2004 who leads an international group of python enthusiasts called POCCO. It is based on WSGI toolkit and jinja2 template engine. Flask is considered as a micro framework.\n",
    "\n",
    "Advantages of Flask Framework\n",
    "\n",
    "1. Scalable & Flexible framework with a less memory size.\n",
    "2. Freedom to build the structure of the web application. \n",
    "3. Easy to learn, use, install and negotiate web applications.\n",
    "4. Used to build lightweight web applications in Python."
   ]
  },
  {
   "cell_type": "markdown",
   "id": "dbb3e494-fff1-441a-be31-b6cdb04fa48f",
   "metadata": {},
   "source": [
    "Q2. Create a simple Flask application to display ‘Hello World!!’. Attach the screenshot of the output in Jupyter Notebook."
   ]
  },
  {
   "cell_type": "code",
   "execution_count": null,
   "id": "e5a6b354-973d-43b6-a0ae-74db6a3372b3",
   "metadata": {},
   "outputs": [],
   "source": [
    "from flask import Flask\n",
    "from flask import request\n",
    "\n",
    "app = Flask(__name__)\n",
    "\n",
    "@app.route(\"/\")\n",
    "def hello_world():\n",
    "    return \"<h1>Hello, World!</h1>\"\n",
    "\n",
    "if __name__==\"__main__\":\n",
    "    app.run(host=\"0.0.0.0\")"
   ]
  },
  {
   "cell_type": "markdown",
   "id": "52ea063a-4b20-4aac-b31e-bcf37e79feed",
   "metadata": {},
   "source": [
    "Q3. What is App routing in Flask? Why do we use app routes?"
   ]
  },
  {
   "cell_type": "markdown",
   "id": "ff0bb79b-543f-41eb-a46e-670685b4d5ae",
   "metadata": {},
   "source": [
    "App Routing means mapping the URLs to a specific function that will handle the logic for that URL. We use app routes in Flask framework because modern web frameworks use more meaningful URLs to help users remember the URLs and make navigation simpler. \n",
    "\n",
    "For example: In our application, the URL (“/”) is associated with the root URL. So if our site’s domain was www.example.org and we want to add routing to “www.example.org/hello”, we would use “/hello”. "
   ]
  },
  {
   "cell_type": "markdown",
   "id": "3a80647c-4184-4290-a2ff-1b31d70445b8",
   "metadata": {},
   "source": [
    "Q4. Create a “/welcome” route to display the welcome message “Welcome to ABC Corporation” and a “/” route to show the following details:\n",
    "\n",
    "Company Name: ABC Corporation<br>\n",
    "Location: India<br>\n",
    "Contact Detail: 999-999-9999"
   ]
  },
  {
   "cell_type": "code",
   "execution_count": null,
   "id": "139e9aaa-8373-4e08-912a-5603b3fe438a",
   "metadata": {},
   "outputs": [],
   "source": [
    "from flask import Flask\n",
    "from flask import request\n",
    "\n",
    "app = Flask(__name__)\n",
    "\n",
    "@app.route(\"/welcome\")\n",
    "def welcome():\n",
    "    return \"<h1>Welcome to ABC Corporation</h1>\"\n",
    "\n",
    "@app.route(\"/\")\n",
    "def age():\n",
    "    return \"<h1>Company Name: ABC Corporation</h1><br/><h1>Location: India</h1><br/><h1>Contact Detail: 999-999-9999</h1>\"\n",
    "\n",
    "if __name__==\"__main__\":\n",
    "    app.run(host=\"0.0.0.0\")"
   ]
  },
  {
   "cell_type": "markdown",
   "id": "458fb0c1-2e07-434b-82e0-0f72b2c2c89e",
   "metadata": {},
   "source": [
    "Q5. What function is used in Flask for URL Building? Write a Python code to demonstrate the working of the url_for() function."
   ]
  },
  {
   "cell_type": "markdown",
   "id": "fe009987-05d4-462e-9ed7-6ed45a6ec90f",
   "metadata": {},
   "source": [
    "The url_for() function is used to build a URL to the specific function dynamically. The first argument is the name of the specified function, and then we can pass any number of keyword argument corresponding to the variable part of the URL. This function is useful in the sense that we can avoid hard-coding the URLs into the templates by dynamically building them using this function. For example:"
   ]
  },
  {
   "cell_type": "code",
   "execution_count": null,
   "id": "07de38e1-b559-44d3-ba2f-ea8e340a6709",
   "metadata": {},
   "outputs": [],
   "source": [
    "from flask import Flask\n",
    "from flask import request\n",
    "\n",
    "app = Flask(__name__)\n",
    "\n",
    "@app.route('/admin')  \n",
    "def admin():  \n",
    "    return 'admin'  \n",
    "  \n",
    "@app.route('/librarion')  \n",
    "def librarion():  \n",
    "    return 'librarion'  \n",
    "  \n",
    "@app.route('/student')  \n",
    "def student():  \n",
    "    return 'student'  \n",
    "  \n",
    "@app.route('/user/<name>')  \n",
    "def user(name):  \n",
    "    if name == 'admin':  \n",
    "        return redirect(url_for('admin'))  \n",
    "    if name == 'librarion':  \n",
    "        return redirect(url_for('librarion'))  \n",
    "    if name == 'student':  \n",
    "        return redirect(url_for('student'))  \n",
    "\n",
    "if __name__==\"__main__\":\n",
    "    app.run(host=\"0.0.0.0\")"
   ]
  }
 ],
 "metadata": {
  "kernelspec": {
   "display_name": "Python 3 (ipykernel)",
   "language": "python",
   "name": "python3"
  },
  "language_info": {
   "codemirror_mode": {
    "name": "ipython",
    "version": 3
   },
   "file_extension": ".py",
   "mimetype": "text/x-python",
   "name": "python",
   "nbconvert_exporter": "python",
   "pygments_lexer": "ipython3",
   "version": "3.10.8"
  }
 },
 "nbformat": 4,
 "nbformat_minor": 5
}
