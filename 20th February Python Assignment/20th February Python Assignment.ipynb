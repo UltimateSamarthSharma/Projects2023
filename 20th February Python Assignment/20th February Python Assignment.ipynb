{
 "cells": [
  {
   "cell_type": "markdown",
   "id": "08ad895d-44fb-4ca9-b5fe-2e64c0d35ceb",
   "metadata": {},
   "source": [
    "Q1. Explain GET and POST methods."
   ]
  },
  {
   "cell_type": "markdown",
   "id": "46b16a08-f285-4b06-a261-0f7a52a02296",
   "metadata": {},
   "source": [
    "GET Method: GET is used to request data from a specified resource.\n",
    "\n",
    "**Some Important Points about GET method**\n",
    "1. GET requests can be cached.\n",
    "2. GET requests remain in the browser history.\n",
    "3. GET requests can be bookmarked.\n",
    "4. GET requests have length restrictions.\n",
    "\n",
    "POST Method: POST is used to send data to a server to create or to update a resource.\n",
    "\n",
    "**Some Important Points about POST method**\n",
    "1. POST requests can not be cached.\n",
    "2. POST requests do not remain in the browser history.\n",
    "3. POST requests can not be bookmarked.\n",
    "4. POST requests have no length restrictions."
   ]
  },
  {
   "cell_type": "markdown",
   "id": "fb2d2726-aa86-4d3d-9591-20d5afa661dd",
   "metadata": {},
   "source": [
    "Q2. Why is request used in Flask?"
   ]
  },
  {
   "cell_type": "markdown",
   "id": "acef5de6-dd9e-4a4f-a630-4f73f398accb",
   "metadata": {},
   "source": [
    "The Request, in Flask, is an object that contains all the data sent from the Client to Server. This data can be recovered using the GET/POST Methods."
   ]
  },
  {
   "cell_type": "markdown",
   "id": "13bc63c7-3698-40e0-8144-30626db08fd4",
   "metadata": {},
   "source": [
    "Q3. Why is redirect() used in Flask?"
   ]
  },
  {
   "cell_type": "markdown",
   "id": "88039a35-8bdf-461d-a734-095e4f851cd1",
   "metadata": {},
   "source": [
    "Flask provides the redirect() function which redirects the user to some specified URL with the specified HTTP status code. An HTTP status code is a three-digit code response from the server to the request of the browser. When we visit a website, a request is sent to the server, and the server then responds to the request of the browser."
   ]
  },
  {
   "cell_type": "markdown",
   "id": "cb2942e0-0829-4612-9ac1-487b847a3546",
   "metadata": {},
   "source": [
    "Q4. What are templates in Flask? Why is the render_template() function used?"
   ]
  },
  {
   "cell_type": "markdown",
   "id": "19791de0-ea4b-4f22-a7a8-faf3c052170a",
   "metadata": {},
   "source": [
    "**Templates in Flask**<br>\n",
    "Templates are files that contain static data as well as placeholders for dynamic data. A template is rendered with specific data to produce a final document. Flask uses the Jinja template library to render templates. In your application, you will use templates to render HTML which will display in the user's browser.\n",
    "\n",
    "**render_template() Function in Flask**<br>\n",
    "Flask provides us the render_template() function which can be used to render the external HTML file to be returned as the response from the view function."
   ]
  },
  {
   "cell_type": "markdown",
   "id": "4241b7cb-41af-4d8f-9daf-45a28443693b",
   "metadata": {},
   "source": [
    "Q5. Create a simple API. Use Postman to test it. Attach the screenshot of the output in the Jupyter Notebook."
   ]
  },
  {
   "cell_type": "code",
   "execution_count": null,
   "id": "6edb1c73-293b-4554-83b3-10cf0bd3d433",
   "metadata": {},
   "outputs": [],
   "source": [
    "from flask import Flask,request ,render_template , jsonify\n",
    "\n",
    "app = Flask(__name__)\n",
    "\n",
    "\n",
    "@app.route('/')\n",
    "def home_page():\n",
    "    return render_template('index.html')\n",
    "\n",
    "\n",
    "@app.route('/math',methods=['POST'])\n",
    "def math_ops():\n",
    "    if(request.method == 'POST'):\n",
    "        ops = request.form['operation']\n",
    "        num1 = int(request.form['num1'])\n",
    "        num2 = int(request.form['num2'])\n",
    "        if ops == 'add':\n",
    "            r = num1+num2\n",
    "            result = \"The sum of \" + str(num1) + 'and ' + str(num2) + \"is \" + str(r)\n",
    "        if ops == 'subtract':\n",
    "            r = num1-num2\n",
    "            result = \"The subtract of \" + str(num1) + 'and ' + str(num2) + \"is \" + str(r)\n",
    "        if ops == 'multiply':\n",
    "            r = num1*num2\n",
    "            result = \"The multiply of \" + str(num1) + 'and ' + str(num2) + \"is \" + str(r)\n",
    "        if ops == 'divide':\n",
    "            r = num1/num2\n",
    "            result = \"The divide of \" + str(num1) + 'and ' + str(num2) + \"is \" + str(r)\n",
    "            \n",
    "        return render_template('results.html' , result = result)\n",
    "\n",
    "\n",
    "\n",
    "\n",
    "@app.route('/postman_action',methods=['POST'])\n",
    "def math_ops1():\n",
    "    if(request.method == 'POST'):\n",
    "        ops = request.json['operation']\n",
    "        num1 = int(request.json['num1'])\n",
    "        num2 = int(request.json['num2'])\n",
    "        if ops == 'add':\n",
    "            r = num1+num2\n",
    "            result = \"The sum of \" + str(num1) + 'and ' + str(num2) + \"is \" + str(r)\n",
    "        if ops == 'subtract':\n",
    "            r = num1-num2\n",
    "            result = \"The subtract of \" + str(num1) + 'and ' + str(num2) + \"is \" + str(r)\n",
    "        if ops == 'multiply':\n",
    "            r = num1*num2\n",
    "            result = \"The multiply of \" + str(num1) + 'and ' + str(num2) + \"is \" + str(r)\n",
    "        if ops == 'divide':\n",
    "            r = num1/num2\n",
    "            result = \"The divide of \" + str(num1) + 'and ' + str(num2) + \"is \" + str(r)\n",
    "            \n",
    "        return jsonify(result)\n",
    "\n",
    "if __name__==\"__main__\":\n",
    "    app.run(host=\"0.0.0.0\")"
   ]
  }
 ],
 "metadata": {
  "kernelspec": {
   "display_name": "Python 3 (ipykernel)",
   "language": "python",
   "name": "python3"
  },
  "language_info": {
   "codemirror_mode": {
    "name": "ipython",
    "version": 3
   },
   "file_extension": ".py",
   "mimetype": "text/x-python",
   "name": "python",
   "nbconvert_exporter": "python",
   "pygments_lexer": "ipython3",
   "version": "3.10.8"
  }
 },
 "nbformat": 4,
 "nbformat_minor": 5
}
