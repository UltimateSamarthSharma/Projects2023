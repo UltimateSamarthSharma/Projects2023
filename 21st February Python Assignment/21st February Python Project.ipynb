{
 "cells": [
  {
   "cell_type": "code",
   "execution_count": 16,
   "id": "ac8bb0a0-8f75-4f54-8f1b-348c68f7c02c",
   "metadata": {},
   "outputs": [],
   "source": [
    "import requests\n",
    "from bs4 import BeautifulSoup as bs\n",
    "from urllib.request import urlopen\n",
    "import logging"
   ]
  },
  {
   "cell_type": "code",
   "execution_count": 17,
   "id": "8ca7ff16-56a1-4585-b84c-c934bdd8a603",
   "metadata": {},
   "outputs": [],
   "source": [
    "flipkart_url=\"https://www.flipkart.com/search?q=\"+ \"iphone12pro\""
   ]
  },
  {
   "cell_type": "code",
   "execution_count": 18,
   "id": "f004601f-95b8-49bd-b528-eed928faf4fb",
   "metadata": {},
   "outputs": [
    {
     "data": {
      "text/plain": [
       "'https://www.flipkart.com/search?q=iphone12pro'"
      ]
     },
     "execution_count": 18,
     "metadata": {},
     "output_type": "execute_result"
    }
   ],
   "source": [
    "flipkart_url"
   ]
  },
  {
   "cell_type": "code",
   "execution_count": 28,
   "id": "9eac09e3-013f-4362-981e-e323748be624",
   "metadata": {},
   "outputs": [],
   "source": [
    "urlclient = urlopen(flipkart_url)"
   ]
  },
  {
   "cell_type": "code",
   "execution_count": 29,
   "id": "5db5acc7-9304-4617-a0c0-5e3bf2f8854b",
   "metadata": {},
   "outputs": [
    {
     "data": {
      "text/plain": [
       "<http.client.HTTPResponse at 0x7fb0fe95df00>"
      ]
     },
     "execution_count": 29,
     "metadata": {},
     "output_type": "execute_result"
    }
   ],
   "source": [
    "urlclient"
   ]
  },
  {
   "cell_type": "code",
   "execution_count": 30,
   "id": "fa78bcba-6c8e-4ed2-b95b-8cfe6371309f",
   "metadata": {},
   "outputs": [],
   "source": [
    "flipkart_page = urlclient.read()"
   ]
  },
  {
   "cell_type": "code",
   "execution_count": 31,
   "id": "60e6cf14-f4c7-464d-b3a0-0464a9340bb2",
   "metadata": {},
   "outputs": [],
   "source": [
    "flipkart_html = bs(flipkart_page, 'html.parser')"
   ]
  },
  {
   "cell_type": "code",
   "execution_count": 32,
   "id": "aabffcc7-5cc8-4f7a-b9bc-cef5c2c970c1",
   "metadata": {},
   "outputs": [
    {
     "data": {
      "text/plain": [
       "'https://www.flipkart.com/apple-iphone-12-pro-gold-512-gb/p/itm157b3be191fd1?pid=MOBFWBYZGKFYVTWH&lid=LSTMOBFWBYZGKFYVTWHR65UKC&marketplace=FLIPKART&q=iphone12pro&store=tyy%2F4io&srno=s_1_2&otracker=search&iid=427f2c67-9cd5-4fb7-962b-473e80b41848.MOBFWBYZGKFYVTWH.SEARCH&ssid=9mcw08uuds0000001676993388050&qH=712933e6bd68e7b9'"
      ]
     },
     "execution_count": 32,
     "metadata": {},
     "output_type": "execute_result"
    }
   ],
   "source": [
    "\"https://www.flipkart.com/\"+\"apple-iphone-12-pro-gold-512-gb/p/itm157b3be191fd1?pid=MOBFWBYZGKFYVTWH&lid=LSTMOBFWBYZGKFYVTWHR65UKC&marketplace=FLIPKART&q=iphone12pro&store=tyy%2F4io&srno=s_1_2&otracker=search&iid=427f2c67-9cd5-4fb7-962b-473e80b41848.MOBFWBYZGKFYVTWH.SEARCH&ssid=9mcw08uuds0000001676993388050&qH=712933e6bd68e7b9\""
   ]
  },
  {
   "cell_type": "code",
   "execution_count": 38,
   "id": "642fc422-20c0-4710-bcfd-2b361bbd77d8",
   "metadata": {},
   "outputs": [],
   "source": [
    "bigbox = flipkart_html.findAll(\"div\", {\"class\":\"_1AtVbE col-12-12\"})"
   ]
  },
  {
   "cell_type": "code",
   "execution_count": 39,
   "id": "83b55232-d58d-4f31-9899-cfea29739ba2",
   "metadata": {},
   "outputs": [
    {
     "data": {
      "text/plain": [
       "29"
      ]
     },
     "execution_count": 39,
     "metadata": {},
     "output_type": "execute_result"
    }
   ],
   "source": [
    "len(bigbox)"
   ]
  },
  {
   "cell_type": "code",
   "execution_count": 48,
   "id": "9e240e5b-5682-452b-b176-9db26169db87",
   "metadata": {},
   "outputs": [],
   "source": [
    "del bigbox[0:3]"
   ]
  },
  {
   "cell_type": "code",
   "execution_count": 52,
   "id": "dcc74928-6040-49b3-867f-2ceb99a47b64",
   "metadata": {},
   "outputs": [],
   "source": [
    "productlink = \"https://www.flipkart.com\"+bigbox[3].div.div.div.a['href']"
   ]
  },
  {
   "cell_type": "code",
   "execution_count": 54,
   "id": "3b6ade09-b215-4f8d-9ec0-b018492abdc7",
   "metadata": {},
   "outputs": [],
   "source": [
    "product_req = requests.get(productlink)"
   ]
  },
  {
   "cell_type": "code",
   "execution_count": 59,
   "id": "8357f6e9-835e-4fae-8599-078424dedfa0",
   "metadata": {},
   "outputs": [],
   "source": [
    "product_html = bs(product_req.text,'html.parser')"
   ]
  },
  {
   "cell_type": "code",
   "execution_count": 61,
   "id": "f16f67cc-3470-4fdd-89e6-86333479142c",
   "metadata": {},
   "outputs": [],
   "source": [
    "comment_box = product_html.find_all(\"div\",{\"class\":\"_16PBlm\"})"
   ]
  },
  {
   "cell_type": "code",
   "execution_count": 62,
   "id": "5276b20a-9131-48f3-a769-26d3bf9583ed",
   "metadata": {},
   "outputs": [
    {
     "data": {
      "text/plain": [
       "11"
      ]
     },
     "execution_count": 62,
     "metadata": {},
     "output_type": "execute_result"
    }
   ],
   "source": [
    "len(comment_box)"
   ]
  },
  {
   "cell_type": "code",
   "execution_count": 65,
   "id": "317b18f8-0e94-4a04-b1e8-2acde4e4f11f",
   "metadata": {},
   "outputs": [
    {
     "data": {
      "text/plain": [
       "'Flipkart Customer'"
      ]
     },
     "execution_count": 65,
     "metadata": {},
     "output_type": "execute_result"
    }
   ],
   "source": [
    "comment_box[0].div.div.find_all('p',{\"class\":\"_2sc7ZR _2V5EHH\"})[0].text"
   ]
  },
  {
   "cell_type": "code",
   "execution_count": 68,
   "id": "9f9cfeed-63d9-4ab8-9f59-dff540e29c79",
   "metadata": {},
   "outputs": [
    {
     "name": "stdout",
     "output_type": "stream",
     "text": [
      "Flipkart Customer\n",
      "Abinash Mohanty\n",
      "Abhishek Tyagi\n",
      "Flipkart Customer\n",
      "Susruta Samanta\n",
      "Flipkart Customer\n",
      "Sneha Nigam\n",
      "Flipkart Customer\n",
      "Arvind Gopal\n",
      "Arnab Maity\n"
     ]
    },
    {
     "ename": "AttributeError",
     "evalue": "'NoneType' object has no attribute 'div'",
     "output_type": "error",
     "traceback": [
      "\u001b[0;31m---------------------------------------------------------------------------\u001b[0m",
      "\u001b[0;31mAttributeError\u001b[0m                            Traceback (most recent call last)",
      "Cell \u001b[0;32mIn[68], line 2\u001b[0m\n\u001b[1;32m      1\u001b[0m \u001b[38;5;28;01mfor\u001b[39;00m each_comment \u001b[38;5;129;01min\u001b[39;00m comment_box:\n\u001b[0;32m----> 2\u001b[0m     \u001b[38;5;28mprint\u001b[39m(\u001b[43meach_comment\u001b[49m\u001b[38;5;241;43m.\u001b[39;49m\u001b[43mdiv\u001b[49m\u001b[38;5;241;43m.\u001b[39;49m\u001b[43mdiv\u001b[49m\u001b[38;5;241m.\u001b[39mfind_all(\u001b[38;5;124m'\u001b[39m\u001b[38;5;124mp\u001b[39m\u001b[38;5;124m'\u001b[39m,{\u001b[38;5;124m\"\u001b[39m\u001b[38;5;124mclass\u001b[39m\u001b[38;5;124m\"\u001b[39m:\u001b[38;5;124m\"\u001b[39m\u001b[38;5;124m_2sc7ZR _2V5EHH\u001b[39m\u001b[38;5;124m\"\u001b[39m})[\u001b[38;5;241m0\u001b[39m]\u001b[38;5;241m.\u001b[39mtext)\n",
      "\u001b[0;31mAttributeError\u001b[0m: 'NoneType' object has no attribute 'div'"
     ]
    }
   ],
   "source": [
    "for each_comment in comment_box:\n",
    "    print(each_comment.div.div.find_all('p',{\"class\":\"_2sc7ZR _2V5EHH\"})[0].text)"
   ]
  },
  {
   "cell_type": "code",
   "execution_count": 71,
   "id": "0a071472-c56a-48c0-b70e-e983f46bdd86",
   "metadata": {},
   "outputs": [
    {
     "data": {
      "text/plain": [
       "'5'"
      ]
     },
     "execution_count": 71,
     "metadata": {},
     "output_type": "execute_result"
    }
   ],
   "source": [
    "comment_box[0].div.div.div.div.text"
   ]
  },
  {
   "cell_type": "code",
   "execution_count": 72,
   "id": "7b7b5b89-7d48-4429-8de0-bb36daebe99b",
   "metadata": {},
   "outputs": [
    {
     "name": "stdout",
     "output_type": "stream",
     "text": [
      "5\n",
      "5\n",
      "4\n",
      "5\n",
      "5\n",
      "5\n",
      "4\n",
      "5\n",
      "5\n",
      "5\n"
     ]
    },
    {
     "ename": "AttributeError",
     "evalue": "'NoneType' object has no attribute 'div'",
     "output_type": "error",
     "traceback": [
      "\u001b[0;31m---------------------------------------------------------------------------\u001b[0m",
      "\u001b[0;31mAttributeError\u001b[0m                            Traceback (most recent call last)",
      "Cell \u001b[0;32mIn[72], line 2\u001b[0m\n\u001b[1;32m      1\u001b[0m \u001b[38;5;28;01mfor\u001b[39;00m each_comment \u001b[38;5;129;01min\u001b[39;00m comment_box:\n\u001b[0;32m----> 2\u001b[0m     \u001b[38;5;28mprint\u001b[39m(\u001b[43meach_comment\u001b[49m\u001b[38;5;241;43m.\u001b[39;49m\u001b[43mdiv\u001b[49m\u001b[38;5;241;43m.\u001b[39;49m\u001b[43mdiv\u001b[49m\u001b[38;5;241m.\u001b[39mdiv\u001b[38;5;241m.\u001b[39mdiv\u001b[38;5;241m.\u001b[39mtext)\n",
      "\u001b[0;31mAttributeError\u001b[0m: 'NoneType' object has no attribute 'div'"
     ]
    }
   ],
   "source": [
    "for each_comment in comment_box:\n",
    "    print(each_comment.div.div.div.div.text)"
   ]
  },
  {
   "cell_type": "code",
   "execution_count": 74,
   "id": "1f68221b-20a4-4f28-9e58-38e3f50917c8",
   "metadata": {},
   "outputs": [
    {
     "data": {
      "text/plain": [
       "'Worth every penny'"
      ]
     },
     "execution_count": 74,
     "metadata": {},
     "output_type": "execute_result"
    }
   ],
   "source": [
    "comment_box[0].div.div.div.p.text"
   ]
  },
  {
   "cell_type": "code",
   "execution_count": 75,
   "id": "0c4d7e8b-cf20-46f4-9897-df8114bbe17c",
   "metadata": {},
   "outputs": [
    {
     "name": "stdout",
     "output_type": "stream",
     "text": [
      "Worth every penny\n",
      "Awesome\n",
      "Wonderful\n",
      "Best in the market!\n",
      "Classy product\n",
      "Classy product\n",
      "Delightful\n",
      "Mind-blowing purchase\n",
      "Perfect product!\n",
      "Mind-blowing purchase\n"
     ]
    },
    {
     "ename": "AttributeError",
     "evalue": "'NoneType' object has no attribute 'div'",
     "output_type": "error",
     "traceback": [
      "\u001b[0;31m---------------------------------------------------------------------------\u001b[0m",
      "\u001b[0;31mAttributeError\u001b[0m                            Traceback (most recent call last)",
      "Cell \u001b[0;32mIn[75], line 2\u001b[0m\n\u001b[1;32m      1\u001b[0m \u001b[38;5;28;01mfor\u001b[39;00m each_comment \u001b[38;5;129;01min\u001b[39;00m comment_box:\n\u001b[0;32m----> 2\u001b[0m     \u001b[38;5;28mprint\u001b[39m(\u001b[43meach_comment\u001b[49m\u001b[38;5;241;43m.\u001b[39;49m\u001b[43mdiv\u001b[49m\u001b[38;5;241;43m.\u001b[39;49m\u001b[43mdiv\u001b[49m\u001b[38;5;241m.\u001b[39mdiv\u001b[38;5;241m.\u001b[39mp\u001b[38;5;241m.\u001b[39mtext)\n",
      "\u001b[0;31mAttributeError\u001b[0m: 'NoneType' object has no attribute 'div'"
     ]
    }
   ],
   "source": [
    "for each_comment in comment_box:\n",
    "    print(each_comment.div.div.div.p.text)"
   ]
  },
  {
   "cell_type": "code",
   "execution_count": 81,
   "id": "e7b5243c-74a4-49e1-a5cb-540f7c62b5b5",
   "metadata": {},
   "outputs": [
    {
     "data": {
      "text/plain": [
       "'Using it since last week.The display, photo and performance are best. Touch sensitivity is best. Photos are so natural, night time photos are too good. Photo quality after zooming is also good. Videos are also good. Better to buy Pro Max for longer battery backup. After heavy use, watching movies, battery consumption is 70% per day in average (no idea about backup for game users). Regarding weight, I am used to it. Dint find much difference from Samsung M31S and Flagship models. You can hold ...'"
      ]
     },
     "execution_count": 81,
     "metadata": {},
     "output_type": "execute_result"
    }
   ],
   "source": [
    "comment_box[0].div.div.find_all('div',{'class':''})[0].div.text"
   ]
  },
  {
   "cell_type": "code",
   "execution_count": 82,
   "id": "e2506667-8172-4d40-a4ca-2cb0710aff42",
   "metadata": {},
   "outputs": [
    {
     "name": "stdout",
     "output_type": "stream",
     "text": [
      "Using it since last week.The display, photo and performance are best. Touch sensitivity is best. Photos are so natural, night time photos are too good. Photo quality after zooming is also good. Videos are also good. Better to buy Pro Max for longer battery backup. After heavy use, watching movies, battery consumption is 70% per day in average (no idea about backup for game users). Regarding weight, I am used to it. Dint find much difference from Samsung M31S and Flagship models. You can hold ...\n",
      "The product is just Awesome  love it 6gbRAM 256gb its enough worth of money.Love the product,good build in camera.Magnificient phn,no other phones can replace it.\n",
      "I am moving from the last 12 years of pure or near-pure android experience to iPhone.  First all Google nexus(3,4 &5) phones and then One plus(2, 5t, 6t). I still believe one plus made the best phones until now. (8t and 9 pro are utter disappointment).I believe android allows you to do lot more tasks much simplified than on iOS, but for me, that was not the objective. I wanted to stay away from the phone as much as I can. And I think iPhone is letting me do that. So I am happy with it. Anot...\n",
      "The best ever camera from apple, it gives you 2x more realistic and crystel clear photo than iphone11Its new colour feature(pacific blue) gives you a standard royal vibes as never before, its A14 bionic chip is as faster as wind which is great for gaming\n",
      "Excellent product. Smooth operation, Very fast flipkart delivery. I received on 15/11.  Even Flipkart customer care called many times to know the  phone use experience and reminded me 7 days return policy in case any problem.  This is a new experience from Flipkart.\n",
      "Great phone fantastic display butter smooth switching between apps and overall thanks to flipkart for keeping up the delivery as per promise highly recommended!!\n",
      "I am mostly Happy With my iPhone 12 pro max, only one thing is... Its screen is visibly Yellow in colour, i did checked the solution over internet, i turned its true tone off and had turned its night shift off , then little bit its yellowishness got reduced, but still its yellow and I can make out the difference, rest all is Good Camera interface , battery life , ear birds Connectivity everything is Good, but I make Reels on Instagram and Josh so that yellow screen is bothering me little bit ...\n",
      "Awsome product and fast delivery by flipkart and one thing i loved about flipkart is they made sure that before and after delivery they make a call to make sure that the delivery was hassle free and right product was delivered to me loved the overall experience\n",
      "I contemplated on getting this from before it was launched and then finally took the plunge. Excellent phone and features to say the least. My next four years will be serene. Flipkart was excellent with its delivery and were even courteous enough to call for feedback on the phone before my return period expired. A great experience 😊.\n",
      "It's a fantastic phone... only heard great things about it before buying.... but now I can say for sure it deserves a even greater reputation.... great interactive UI which is also surprisingly simple and the touch is just awesome, nothing I had before compares to it.... great processing power... the 60Hz display gives me no problem at all... I was a little worried about battery life though, but it's giving me good backup so far.... the cameras need no review I think, it's just great... just ...\n"
     ]
    },
    {
     "ename": "AttributeError",
     "evalue": "'NoneType' object has no attribute 'div'",
     "output_type": "error",
     "traceback": [
      "\u001b[0;31m---------------------------------------------------------------------------\u001b[0m",
      "\u001b[0;31mAttributeError\u001b[0m                            Traceback (most recent call last)",
      "Cell \u001b[0;32mIn[82], line 2\u001b[0m\n\u001b[1;32m      1\u001b[0m \u001b[38;5;28;01mfor\u001b[39;00m each_comment \u001b[38;5;129;01min\u001b[39;00m comment_box:\n\u001b[0;32m----> 2\u001b[0m     \u001b[38;5;28mprint\u001b[39m(\u001b[43meach_comment\u001b[49m\u001b[38;5;241;43m.\u001b[39;49m\u001b[43mdiv\u001b[49m\u001b[38;5;241;43m.\u001b[39;49m\u001b[43mdiv\u001b[49m\u001b[38;5;241m.\u001b[39mfind_all(\u001b[38;5;124m'\u001b[39m\u001b[38;5;124mdiv\u001b[39m\u001b[38;5;124m'\u001b[39m,{\u001b[38;5;124m'\u001b[39m\u001b[38;5;124mclass\u001b[39m\u001b[38;5;124m'\u001b[39m:\u001b[38;5;124m'\u001b[39m\u001b[38;5;124m'\u001b[39m})[\u001b[38;5;241m0\u001b[39m]\u001b[38;5;241m.\u001b[39mdiv\u001b[38;5;241m.\u001b[39mtext)\n",
      "\u001b[0;31mAttributeError\u001b[0m: 'NoneType' object has no attribute 'div'"
     ]
    }
   ],
   "source": [
    "for each_comment in comment_box:\n",
    "    print(each_comment.div.div.find_all('div',{'class':''})[0].div.text)"
   ]
  },
  {
   "cell_type": "code",
   "execution_count": null,
   "id": "6bb1f9b2-bd06-4090-a6ea-aca078d01bdc",
   "metadata": {},
   "outputs": [],
   "source": []
  },
  {
   "cell_type": "code",
   "execution_count": 51,
   "id": "83d3fc8f-cab2-4b63-886d-7e40f79428c2",
   "metadata": {},
   "outputs": [
    {
     "name": "stdout",
     "output_type": "stream",
     "text": [
      "https://www.flipkart.com/apple-iphone-12-pro-graphite-512-gb/p/itmdf0ffb4f2150f?pid=MOBFWBYZ4ZZ5VUQD&lid=LSTMOBFWBYZ4ZZ5VUQDQDDDI0&marketplace=FLIPKART&q=iphone12pro&store=tyy%2F4io&srno=s_1_2&otracker=search&fm=organic&iid=aabb1a45-4058-4a65-b0ec-92aa30d71a2b.MOBFWBYZ4ZZ5VUQD.SEARCH&ppt=None&ppn=None&ssid=jz9cyjd8000000001676994001396&qH=712933e6bd68e7b9\n",
      "https://www.flipkart.com/apple-iphone-12-pro-gold-512-gb/p/itm157b3be191fd1?pid=MOBFWBYZGKFYVTWH&lid=LSTMOBFWBYZGKFYVTWHR65UKC&marketplace=FLIPKART&q=iphone12pro&store=tyy%2F4io&srno=s_1_3&otracker=search&fm=organic&iid=aabb1a45-4058-4a65-b0ec-92aa30d71a2b.MOBFWBYZGKFYVTWH.SEARCH&ppt=None&ppn=None&ssid=jz9cyjd8000000001676994001396&qH=712933e6bd68e7b9\n",
      "https://www.flipkart.com/apple-iphone-12-pro-pacific-blue-512-gb/p/itm8a39d6779b04e?pid=MOBFWBYZTHSXKMGW&lid=LSTMOBFWBYZTHSXKMGWYPOFI5&marketplace=FLIPKART&q=iphone12pro&store=tyy%2F4io&srno=s_1_4&otracker=search&fm=organic&iid=aabb1a45-4058-4a65-b0ec-92aa30d71a2b.MOBFWBYZTHSXKMGW.SEARCH&ppt=None&ppn=None&ssid=jz9cyjd8000000001676994001396&qH=712933e6bd68e7b9\n",
      "https://www.flipkart.com/apple-iphone-12-pro-max-pacific-blue-256-gb/p/itm3a0860c94250e?pid=MOBFWBYZ8STJXCVT&lid=LSTMOBFWBYZ8STJXCVTQTZADP&marketplace=FLIPKART&q=iphone12pro&store=tyy%2F4io&srno=s_1_5&otracker=search&fm=organic&iid=aabb1a45-4058-4a65-b0ec-92aa30d71a2b.MOBFWBYZ8STJXCVT.SEARCH&ppt=None&ppn=None&ssid=jz9cyjd8000000001676994001396&qH=712933e6bd68e7b9\n",
      "https://www.flipkart.com/apple-iphone-12-pro-gold-128-gb/p/itma14a108237af5?pid=MOBFWBYZMDJZMHA9&lid=LSTMOBFWBYZMDJZMHA9SVNUXV&marketplace=FLIPKART&q=iphone12pro&store=tyy%2F4io&srno=s_1_6&otracker=search&fm=organic&iid=aabb1a45-4058-4a65-b0ec-92aa30d71a2b.MOBFWBYZMDJZMHA9.SEARCH&ppt=None&ppn=None&ssid=jz9cyjd8000000001676994001396&qH=712933e6bd68e7b9\n",
      "https://www.flipkart.com/apple-iphone-12-pro-pacific-blue-128-gb/p/itm97c833296c221?pid=MOBFWBYZXYSCEEEH&lid=LSTMOBFWBYZXYSCEEEHLGQLJT&marketplace=FLIPKART&q=iphone12pro&store=tyy%2F4io&srno=s_1_7&otracker=search&fm=organic&iid=aabb1a45-4058-4a65-b0ec-92aa30d71a2b.MOBFWBYZXYSCEEEH.SEARCH&ppt=None&ppn=None&ssid=jz9cyjd8000000001676994001396&qH=712933e6bd68e7b9\n",
      "https://www.flipkart.com/apple-iphone-12-pro-gold-256-gb/p/itm43a6a8ee7a1e7?pid=MOBFWBYZ9NGKZS9W&lid=LSTMOBFWBYZ9NGKZS9WYZ2SXA&marketplace=FLIPKART&q=iphone12pro&store=tyy%2F4io&srno=s_1_8&otracker=search&fm=organic&iid=aabb1a45-4058-4a65-b0ec-92aa30d71a2b.MOBFWBYZ9NGKZS9W.SEARCH&ppt=None&ppn=None&ssid=jz9cyjd8000000001676994001396&qH=712933e6bd68e7b9\n",
      "https://www.flipkart.com/apple-iphone-12-pro-silver-256-gb/p/itm41ac927e82906?pid=MOBFWBYZMZTJZTWK&lid=LSTMOBFWBYZMZTJZTWKDI2TP0&marketplace=FLIPKART&q=iphone12pro&store=tyy%2F4io&srno=s_1_9&otracker=search&fm=organic&iid=aabb1a45-4058-4a65-b0ec-92aa30d71a2b.MOBFWBYZMZTJZTWK.SEARCH&ppt=None&ppn=None&ssid=jz9cyjd8000000001676994001396&qH=712933e6bd68e7b9\n",
      "https://www.flipkart.com/apple-iphone-12-pro-graphite-256-gb/p/itm4fa4da575698c?pid=MOBFWBYZBA36UB7G&lid=LSTMOBFWBYZBA36UB7GZYS7EA&marketplace=FLIPKART&q=iphone12pro&store=tyy%2F4io&srno=s_1_10&otracker=search&fm=organic&iid=aabb1a45-4058-4a65-b0ec-92aa30d71a2b.MOBFWBYZBA36UB7G.SEARCH&ppt=None&ppn=None&ssid=jz9cyjd8000000001676994001396&qH=712933e6bd68e7b9\n",
      "https://www.flipkart.com/apple-iphone-12-pro-max-silver-512-gb/p/itm5d3d37892544f?pid=MOBFWBYZW38NGPNM&lid=LSTMOBFWBYZW38NGPNMW4SVPI&marketplace=FLIPKART&q=iphone12pro&store=tyy%2F4io&srno=s_1_11&otracker=search&fm=organic&iid=aabb1a45-4058-4a65-b0ec-92aa30d71a2b.MOBFWBYZW38NGPNM.SEARCH&ppt=None&ppn=None&ssid=jz9cyjd8000000001676994001396&qH=712933e6bd68e7b9\n",
      "https://www.flipkart.com/apple-iphone-12-pro-pacific-blue-256-gb/p/itmea897274baa30?pid=MOBFWBYZVRPH2UCD&lid=LSTMOBFWBYZVRPH2UCDHPQUAR&marketplace=FLIPKART&q=iphone12pro&store=tyy%2F4io&srno=s_1_12&otracker=search&fm=organic&iid=aabb1a45-4058-4a65-b0ec-92aa30d71a2b.MOBFWBYZVRPH2UCD.SEARCH&ppt=None&ppn=None&ssid=jz9cyjd8000000001676994001396&qH=712933e6bd68e7b9\n",
      "https://www.flipkart.com/apple-iphone-12-pro-silver-128-gb/p/itmaebc8a0edc292?pid=MOBFWBYZSGN526X4&lid=LSTMOBFWBYZSGN526X4XSCKOE&marketplace=FLIPKART&q=iphone12pro&store=tyy%2F4io&srno=s_1_13&otracker=search&fm=organic&iid=aabb1a45-4058-4a65-b0ec-92aa30d71a2b.MOBFWBYZSGN526X4.SEARCH&ppt=None&ppn=None&ssid=jz9cyjd8000000001676994001396&qH=712933e6bd68e7b9\n",
      "https://www.flipkart.com/apple-iphone-12-pro-max-gold-512-gb/p/itmd164e2fef2871?pid=MOBFWBYZ4AG3FGNW&lid=LSTMOBFWBYZ4AG3FGNWL6UEHL&marketplace=FLIPKART&q=iphone12pro&store=tyy%2F4io&srno=s_1_14&otracker=search&fm=organic&iid=aabb1a45-4058-4a65-b0ec-92aa30d71a2b.MOBFWBYZ4AG3FGNW.SEARCH&ppt=None&ppn=None&ssid=jz9cyjd8000000001676994001396&qH=712933e6bd68e7b9\n",
      "https://www.flipkart.com/apple-iphone-12-pro-max-graphite-128-gb/p/itm973c298184f51?pid=MOBFWBYZFDGQSDWS&lid=LSTMOBFWBYZFDGQSDWS6UBAEI&marketplace=FLIPKART&q=iphone12pro&store=tyy%2F4io&srno=s_1_15&otracker=search&fm=organic&iid=aabb1a45-4058-4a65-b0ec-92aa30d71a2b.MOBFWBYZFDGQSDWS.SEARCH&ppt=None&ppn=None&ssid=jz9cyjd8000000001676994001396&qH=712933e6bd68e7b9\n",
      "https://www.flipkart.com/apple-iphone-12-pro-max-gold-128-gb/p/itme3ae592065711?pid=MOBFWBYZQVKT77YH&lid=LSTMOBFWBYZQVKT77YHP1ERRT&marketplace=FLIPKART&q=iphone12pro&store=tyy%2F4io&srno=s_1_16&otracker=search&fm=organic&iid=aabb1a45-4058-4a65-b0ec-92aa30d71a2b.MOBFWBYZQVKT77YH.SEARCH&ppt=None&ppn=None&ssid=jz9cyjd8000000001676994001396&qH=712933e6bd68e7b9\n",
      "https://www.flipkart.com/apple-iphone-12-pro-max-graphite-512-gb/p/itm52a5e8e630441?pid=MOBFWBYZZZ6DWWFZ&lid=LSTMOBFWBYZZZ6DWWFZJWJVPK&marketplace=FLIPKART&q=iphone12pro&store=tyy%2F4io&srno=s_1_17&otracker=search&fm=organic&iid=aabb1a45-4058-4a65-b0ec-92aa30d71a2b.MOBFWBYZZZ6DWWFZ.SEARCH&ppt=None&ppn=None&ssid=jz9cyjd8000000001676994001396&qH=712933e6bd68e7b9\n",
      "https://www.flipkart.com/apple-iphone-12-pro-graphite-128-gb/p/itm03e5f2595d843?pid=MOBFWBYZBZ7Y56WD&lid=LSTMOBFWBYZBZ7Y56WDFWEMSD&marketplace=FLIPKART&q=iphone12pro&store=tyy%2F4io&srno=s_1_18&otracker=search&fm=organic&iid=aabb1a45-4058-4a65-b0ec-92aa30d71a2b.MOBFWBYZBZ7Y56WD.SEARCH&ppt=None&ppn=None&ssid=jz9cyjd8000000001676994001396&qH=712933e6bd68e7b9\n",
      "https://www.flipkart.com/apple-iphone-12-pro-max-silver-128-gb/p/itm5a51ba742a17e?pid=MOBFWBYZNSNVGGZC&lid=LSTMOBFWBYZNSNVGGZCTPGZZU&marketplace=FLIPKART&q=iphone12pro&store=tyy%2F4io&srno=s_1_19&otracker=search&fm=organic&iid=aabb1a45-4058-4a65-b0ec-92aa30d71a2b.MOBFWBYZNSNVGGZC.SEARCH&ppt=None&ppn=None&ssid=jz9cyjd8000000001676994001396&qH=712933e6bd68e7b9\n",
      "https://www.flipkart.com/apple-iphone-12-pro-max-silver-256-gb/p/itm30faf74442adb?pid=MOBFWBYZZH4AM8FE&lid=LSTMOBFWBYZZH4AM8FETYFBOG&marketplace=FLIPKART&q=iphone12pro&store=tyy%2F4io&srno=s_1_20&otracker=search&fm=organic&iid=aabb1a45-4058-4a65-b0ec-92aa30d71a2b.MOBFWBYZZH4AM8FE.SEARCH&ppt=None&ppn=None&ssid=jz9cyjd8000000001676994001396&qH=712933e6bd68e7b9\n",
      "https://www.flipkart.com/apple-iphone-12-pro-max-pacific-blue-128-gb/p/itmd89812b558a03?pid=MOBFWBYZZABKHZQA&lid=LSTMOBFWBYZZABKHZQATE6G93&marketplace=FLIPKART&q=iphone12pro&store=tyy%2F4io&srno=s_1_21&otracker=search&fm=organic&iid=aabb1a45-4058-4a65-b0ec-92aa30d71a2b.MOBFWBYZZABKHZQA.SEARCH&ppt=None&ppn=None&ssid=jz9cyjd8000000001676994001396&qH=712933e6bd68e7b9\n",
      "https://www.flipkart.com/apple-iphone-12-pro-max-graphite-256-gb/p/itm8dbdf0b986725?pid=MOBFWBYZEF6XQ5ZW&lid=LSTMOBFWBYZEF6XQ5ZWBZ3ZKD&marketplace=FLIPKART&q=iphone12pro&store=tyy%2F4io&srno=s_1_22&otracker=search&fm=organic&iid=aabb1a45-4058-4a65-b0ec-92aa30d71a2b.MOBFWBYZEF6XQ5ZW.SEARCH&ppt=None&ppn=None&ssid=jz9cyjd8000000001676994001396&qH=712933e6bd68e7b9\n",
      "https://www.flipkart.com/apple-iphone-12-pro-max-gold-256-gb/p/itm1e0354f5bbc8c?pid=MOBFWBYZZPW8JHQF&lid=LSTMOBFWBYZZPW8JHQFVJR3PO&marketplace=FLIPKART&q=iphone12pro&store=tyy%2F4io&srno=s_1_23&otracker=search&fm=organic&iid=aabb1a45-4058-4a65-b0ec-92aa30d71a2b.MOBFWBYZZPW8JHQF.SEARCH&ppt=None&ppn=None&ssid=jz9cyjd8000000001676994001396&qH=712933e6bd68e7b9\n",
      "https://www.flipkart.com/apple-iphone-12-pro-max-pacific-blue-512-gb/p/itme005d7afeb4a3?pid=MOBFWBYZPW4KW4XX&lid=LSTMOBFWBYZPW4KW4XXXYHC14&marketplace=FLIPKART&q=iphone12pro&store=tyy%2F4io&srno=s_1_24&otracker=search&fm=organic&iid=aabb1a45-4058-4a65-b0ec-92aa30d71a2b.MOBFWBYZPW4KW4XX.SEARCH&ppt=None&ppn=None&ssid=jz9cyjd8000000001676994001396&qH=712933e6bd68e7b9\n"
     ]
    },
    {
     "ename": "AttributeError",
     "evalue": "'NoneType' object has no attribute 'a'",
     "output_type": "error",
     "traceback": [
      "\u001b[0;31m---------------------------------------------------------------------------\u001b[0m",
      "\u001b[0;31mAttributeError\u001b[0m                            Traceback (most recent call last)",
      "Cell \u001b[0;32mIn[51], line 2\u001b[0m\n\u001b[1;32m      1\u001b[0m \u001b[38;5;28;01mfor\u001b[39;00m each_box \u001b[38;5;129;01min\u001b[39;00m bigbox:\n\u001b[0;32m----> 2\u001b[0m     \u001b[38;5;28mprint\u001b[39m(\u001b[38;5;124m\"\u001b[39m\u001b[38;5;124mhttps://www.flipkart.com\u001b[39m\u001b[38;5;124m\"\u001b[39m\u001b[38;5;241m+\u001b[39m\u001b[43meach_box\u001b[49m\u001b[38;5;241;43m.\u001b[39;49m\u001b[43mdiv\u001b[49m\u001b[38;5;241;43m.\u001b[39;49m\u001b[43mdiv\u001b[49m\u001b[38;5;241;43m.\u001b[39;49m\u001b[43mdiv\u001b[49m\u001b[38;5;241;43m.\u001b[39;49m\u001b[43ma\u001b[49m[\u001b[38;5;124m'\u001b[39m\u001b[38;5;124mhref\u001b[39m\u001b[38;5;124m'\u001b[39m])\n",
      "\u001b[0;31mAttributeError\u001b[0m: 'NoneType' object has no attribute 'a'"
     ]
    }
   ],
   "source": [
    "for each_box in bigbox:\n",
    "    print(\"https://www.flipkart.com\"+each_box.div.div.div.a['href'])"
   ]
  },
  {
   "cell_type": "code",
   "execution_count": null,
   "id": "fc85195d-9209-4bca-90f1-72bc652eb1ca",
   "metadata": {},
   "outputs": [],
   "source": []
  }
 ],
 "metadata": {
  "kernelspec": {
   "display_name": "Python 3 (ipykernel)",
   "language": "python",
   "name": "python3"
  },
  "language_info": {
   "codemirror_mode": {
    "name": "ipython",
    "version": 3
   },
   "file_extension": ".py",
   "mimetype": "text/x-python",
   "name": "python",
   "nbconvert_exporter": "python",
   "pygments_lexer": "ipython3",
   "version": "3.10.8"
  }
 },
 "nbformat": 4,
 "nbformat_minor": 5
}
