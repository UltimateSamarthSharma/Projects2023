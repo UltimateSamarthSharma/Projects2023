{
 "cells": [
  {
   "cell_type": "markdown",
   "id": "0d5e0cbb-8e8e-45d4-93ec-6e561a5fd9c7",
   "metadata": {},
   "source": [
    "Q1. Create a python program to sort the given list of tuples based on integer value using a lambda function.\n",
    "\n",
    "[('Sachin Tendulkar', 34357), ('Ricky Ponting', 27483), ('Jack Kallis', 25534), ('Virat Kohli', 24936)]"
   ]
  },
  {
   "cell_type": "code",
   "execution_count": 6,
   "id": "7af797f8-38af-44b6-9103-e86d1d4f60f4",
   "metadata": {},
   "outputs": [
    {
     "name": "stdout",
     "output_type": "stream",
     "text": [
      "List Before Sort:\n",
      "[('Sachin Tendulkar', 34357), ('Ricky Ponting', 27483), ('Jack Kallis', 25534), ('Virat Kohli', 24936)]\n",
      " \n",
      "List After Sort:\n",
      "[('Virat Kohli', 24936), ('Jack Kallis', 25534), ('Ricky Ponting', 27483), ('Sachin Tendulkar', 34357)]\n"
     ]
    }
   ],
   "source": [
    "data = [('Sachin Tendulkar', 34357), ('Ricky Ponting', 27483), ('Jack Kallis', 25534), ('Virat Kohli', 24936)]\n",
    "print(\"List Before Sort:\")\n",
    "print(data)\n",
    "print(\" \")\n",
    "data.sort(key = lambda x: x[1])\n",
    "print(\"List After Sort:\")\n",
    "print(data)"
   ]
  },
  {
   "cell_type": "markdown",
   "id": "408cdce2-f50d-4e8e-87ba-655091c0d97e",
   "metadata": {},
   "source": [
    "Q2. Write a Python Program to find the squares of all the numbers in the given list of integers using lambda and map functions.\n",
    "\n",
    "[1, 2, 3, 4, 5, 6, 7, 8, 9, 10]"
   ]
  },
  {
   "cell_type": "code",
   "execution_count": 7,
   "id": "ee78b47d-36e8-4836-b1c2-4a77883163b7",
   "metadata": {},
   "outputs": [
    {
     "name": "stdout",
     "output_type": "stream",
     "text": [
      "Original list of integers:\n",
      "[1, 2, 3, 4, 5, 6, 7, 8, 9, 10]\n",
      "\n",
      "Square every number of the said list:\n",
      "[1, 4, 9, 16, 25, 36, 49, 64, 81, 100]\n"
     ]
    }
   ],
   "source": [
    "nums = [1, 2, 3, 4, 5, 6, 7, 8, 9, 10]\n",
    "print(\"Original list of integers:\")\n",
    "print(nums)\n",
    "print(\"\\nSquare every number of the said list:\")\n",
    "square_nums = list(map(lambda x: x ** 2, nums))\n",
    "print(square_nums)"
   ]
  },
  {
   "cell_type": "markdown",
   "id": "b1451ca6-f803-447e-b7e5-b057f49b1937",
   "metadata": {},
   "source": [
    "Q3. Write a python program to convert the given list of integers into a tuple of strings. Use map and lambda functions\n",
    "\n",
    "Given String: [1, 2, 3, 4, 5, 6, 7, 8, 9, 10]\n",
    "\n",
    "Expected output: ('1', '2', '3', '4', '5', '6', '7', '8', '9', '10')"
   ]
  },
  {
   "cell_type": "code",
   "execution_count": 8,
   "id": "7d0d5a0a-872f-4428-a293-ab6779908693",
   "metadata": {},
   "outputs": [
    {
     "name": "stdout",
     "output_type": "stream",
     "text": [
      "Given Data:\n",
      "[1, 2, 3, 4, 5, 6, 7, 8, 9, 10]\n",
      "\n",
      "Converted Data:\n",
      "('1', '2', '3', '4', '5', '6', '7', '8', '9', '10')\n"
     ]
    }
   ],
   "source": [
    "nums_list = [1,2,3,4,5,6,7,8,9,10]\n",
    "print(\"Given Data:\")\n",
    "print(nums_list)\n",
    "result_tuple = tuple(map(str,nums_list))\n",
    "print(\"\\nConverted Data:\")\n",
    "print(result_tuple)"
   ]
  },
  {
   "cell_type": "markdown",
   "id": "6bdfb08a-856e-4128-85ad-353a78ab5161",
   "metadata": {},
   "source": [
    "Q4. Write a python program using reduce function to compute the product of a list containing numbers from 1 to 25."
   ]
  },
  {
   "cell_type": "code",
   "execution_count": 26,
   "id": "f99b69f3-75b6-4d6e-9b3f-b4ec6b3d7515",
   "metadata": {},
   "outputs": [
    {
     "name": "stdout",
     "output_type": "stream",
     "text": [
      "Original list numbers:\n",
      "[1, 2, 3, 4, 5, 6, 7, 8, 9, 10, 11, 12, 13, 14, 15, 16, 17, 18, 19, 20, 21, 22, 23, 24, 25]\n",
      "\n",
      "Product of the first 25 numbers are:\n",
      " 15511210043330985984000000\n"
     ]
    }
   ],
   "source": [
    "from functools import reduce\n",
    "n=25\n",
    "list = []\n",
    "nums = range(1,n+1)\n",
    "print(\"Original list numbers:\")\n",
    "for i in nums:\n",
    "    list.append(i)\n",
    "print(list)\n",
    "nums_product = reduce((lambda x, y: x * y), nums)\n",
    "print(\"\\nProduct of the first\",n,\"numbers are:\\n\",nums_product)"
   ]
  }
 ],
 "metadata": {
  "kernelspec": {
   "display_name": "Python 3 (ipykernel)",
   "language": "python",
   "name": "python3"
  },
  "language_info": {
   "codemirror_mode": {
    "name": "ipython",
    "version": 3
   },
   "file_extension": ".py",
   "mimetype": "text/x-python",
   "name": "python",
   "nbconvert_exporter": "python",
   "pygments_lexer": "ipython3",
   "version": "3.10.8"
  }
 },
 "nbformat": 4,
 "nbformat_minor": 5
}
