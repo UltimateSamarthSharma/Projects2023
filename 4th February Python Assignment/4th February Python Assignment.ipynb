{
 "cells": [
  {
   "cell_type": "markdown",
   "id": "be71b46e-9579-468f-9dea-5ed2a3c0ba0c",
   "metadata": {},
   "source": [
    "Q1. Which keyword is used to create a function? Create a function to return a list of odd numbers in the range of 1 to 25."
   ]
  },
  {
   "cell_type": "markdown",
   "id": "2d62317b-bcce-49f7-af23-5e34f4a54152",
   "metadata": {},
   "source": [
    "Python def keyword is used to define a function, it is placed before a function name that is provided by the user to create a user-defined function. In python, a function is a logical unit of code containing a sequence of statements indented under a name given using the “def” keyword. In python def keyword is the most used keyword. Here's a simple example of creating a function to return a list of odd numbers in the range of 1 to 25, which is given below."
   ]
  },
  {
   "cell_type": "code",
   "execution_count": 18,
   "id": "3f2a60a2-bf34-4714-8b6a-18f8cea90ebd",
   "metadata": {},
   "outputs": [
    {
     "name": "stdout",
     "output_type": "stream",
     "text": [
      "[1, 3, 5, 7, 9, 11, 13, 15, 17, 19, 21, 23, 25]\n"
     ]
    }
   ],
   "source": [
    "def odd_func(k):\n",
    "    list1=[]\n",
    "    for i in range(1,k+1):\n",
    "        if(i%2!=0):\n",
    "            list1.append(i)\n",
    "    return list1\n",
    "n=25\n",
    "print(odd_func(n))"
   ]
  },
  {
   "cell_type": "markdown",
   "id": "78dd06c9-2047-423f-b975-ef2ee4c58dfc",
   "metadata": {},
   "source": [
    "Q2. Why *args and **kwargs is used in some functions? Create a function each for *args and **kwargs to demonstrate their use."
   ]
  },
  {
   "cell_type": "markdown",
   "id": "b0c6aff3-e736-494e-97e0-7dc81b44dbc4",
   "metadata": {},
   "source": [
    "*args Keyword\n",
    "\n",
    "With this keyword, we can pass any variable length argument list to a function, and it is called 'args'. Since * represent variable number arguments so, it becomes iterable, which means we can apply a loop on it or iterate it with any other function like map or filter.\n",
    "\n",
    "**kwargs Keyword\n",
    "\n",
    "This keyword is used when we pass the keyword arguments as the parameters for the function. The keyword argument means that we pass the name to each variable, and this list is stored as a dictionary of key-value pairs. The name of the variable is the key, and the value of the variable is the value of the key.\n",
    "\n",
    "For example, given below:"
   ]
  },
  {
   "cell_type": "code",
   "execution_count": 7,
   "id": "1c858f93-8913-45c9-ba22-fbf85fbdca4f",
   "metadata": {},
   "outputs": [
    {
     "name": "stdout",
     "output_type": "stream",
     "text": [
      "First argument is  : Samarth Sharma\n",
      "Next argument through *args : Hello\n",
      "Next argument through *args : Welcome\n",
      "Next argument through *args : To\n",
      "Next argument through *args : PWSkills\n"
     ]
    }
   ],
   "source": [
    "def multipleFunction(arg1, *args):\n",
    "    print(\"First argument is  :\", arg1)\n",
    "    for eachArg in args:\n",
    "        print(\"Next argument through *args :\", eachArg)\n",
    "multipleFunction('Samarth Sharma','Hello','Welcome','To','PWSkills')  "
   ]
  },
  {
   "cell_type": "code",
   "execution_count": 10,
   "id": "df87d5d4-c38e-4d13-8b36-6f20a824ac05",
   "metadata": {},
   "outputs": [
    {
     "name": "stdout",
     "output_type": "stream",
     "text": [
      "('Hello', 'Welcome', 'To')\n",
      "{'CompanyName': 'PWSkills', 'StartDate': 2022, 'Salary': 1000}\n"
     ]
    }
   ],
   "source": [
    "def multipleFunction(*args,**kwargs):\n",
    "    print(args)\n",
    "    print(kwargs)\n",
    "multipleFunction('Hello','Welcome','To',CompanyName='PWSkills',StartDate=2022,Salary=1000)"
   ]
  },
  {
   "cell_type": "markdown",
   "id": "a89ee7ad-d2a6-4cb1-94a9-aeb903729cc7",
   "metadata": {},
   "source": [
    "Q3. What is an iterator in python? Name the method used to initialise the iterator object and the method used for iteration. Use these methods to print the first five elements of the given list [2, 4, 6, 8, 10, 12, 14, 16, 18, 20]."
   ]
  },
  {
   "cell_type": "markdown",
   "id": "c8a83234-e313-424e-b084-190ea1f03f40",
   "metadata": {},
   "source": [
    "An iterator is an object that contains a countable number of values. An iterator is an object that can be iterated upon, meaning that you can traverse through all the values. Iterator in Python is an object that is used to iterate over iterable objects like lists, tuples, dictionaries, and sets. The iterator object is initialized using the iter() method & it also uses the next() method for stepwise iteration. Lists, tuples, dictionaries, and sets are those iterable objects or containers which you can get an iterator from. All these objects have a iter() method which is used to get an iterator & next() method for stepwise iteration.\n",
    "\n",
    "For example, given below:"
   ]
  },
  {
   "cell_type": "code",
   "execution_count": 13,
   "id": "2d89cf05-f314-4ec5-a485-301b46ebc5e0",
   "metadata": {},
   "outputs": [
    {
     "name": "stdout",
     "output_type": "stream",
     "text": [
      "2\n",
      "4\n",
      "6\n",
      "8\n",
      "10\n"
     ]
    }
   ],
   "source": [
    "list1=[]\n",
    "n=20\n",
    "for i in range(1,n+1):\n",
    "    if(i%2==0):\n",
    "        list1.append(i)\n",
    "        iterator=iter(list1)\n",
    "print(next(iterator))\n",
    "print(next(iterator))\n",
    "print(next(iterator))\n",
    "print(next(iterator))\n",
    "print(next(iterator))"
   ]
  },
  {
   "cell_type": "markdown",
   "id": "15d529f8-7731-463b-a51c-4e3e56168c25",
   "metadata": {},
   "source": [
    "Q4. What is a generator function in python? Why yield keyword is used? Give an example of a generator function."
   ]
  },
  {
   "cell_type": "markdown",
   "id": "65871b60-07ee-481e-afa1-e7f284ee8b8e",
   "metadata": {},
   "source": [
    "Generator Function in Python\n",
    "\n",
    "In Python, a generator function is a function that returns an iterator that produces a sequence of values when iterated over. Generators are useful when we want to produce a large sequence of values, but we don't want to store all of them in memory at once.\n",
    "\n",
    "'yield' Keyword\n",
    "\n",
    "The 'yield' keyword in Python is similar to a return statement used for returning values or objects in Python. However, there is a slight difference. The yield statement returns a generator object to the one who calls the function which contains yield, instead of simply returning a value.\n",
    "\n",
    "For example, given below:"
   ]
  },
  {
   "cell_type": "code",
   "execution_count": 19,
   "id": "7457341f-e6a5-4b3c-8d5c-debcac8ad87c",
   "metadata": {},
   "outputs": [
    {
     "name": "stdout",
     "output_type": "stream",
     "text": [
      "1\n",
      "2\n",
      "3\n"
     ]
    }
   ],
   "source": [
    "def simpleGeneratorFun():\n",
    "\tyield 1\n",
    "\tyield 2\n",
    "\tyield 3\n",
    "x = simpleGeneratorFun()\n",
    "print(next(x))\n",
    "print(next(x))\n",
    "print(next(x))"
   ]
  },
  {
   "cell_type": "markdown",
   "id": "263c09b8-eea8-4cb2-acff-ff854b3c4c09",
   "metadata": {},
   "source": [
    "Q5. Create a generator function for prime numbers less than 1000. Use the next() method to print the first 20 prime numbers."
   ]
  },
  {
   "cell_type": "code",
   "execution_count": 4,
   "id": "a2466cf9-45f4-45df-af15-b49a760824f9",
   "metadata": {},
   "outputs": [
    {
     "name": "stdout",
     "output_type": "stream",
     "text": [
      "2 3 5 7 11 13 17 19 "
     ]
    }
   ],
   "source": [
    "def isPrime(n):\n",
    "    if n <= 1 :\n",
    "        return False\n",
    "    for i in range(2, n):\n",
    "        if n % i == 0:\n",
    "            return False\n",
    "    return True\n",
    "def printPrime(n):\n",
    "    n = 20\n",
    "    for i in range(2, n + 1):\n",
    "        if isPrime(i):\n",
    "            print(i, end = \" \")\n",
    "if __name__ == \"__main__\" :\n",
    "    n = 1000\n",
    "    printPrime(n)"
   ]
  },
  {
   "cell_type": "markdown",
   "id": "36ae248a-ef0c-4964-aacd-d8dbb0cf2ea5",
   "metadata": {},
   "source": [
    "Q6. Write a python program to print the first 10 Fibonacci numbers using a while loop."
   ]
  },
  {
   "cell_type": "code",
   "execution_count": 6,
   "id": "4bac0747-e254-4398-a4f8-b278e3f74d84",
   "metadata": {},
   "outputs": [
    {
     "name": "stdout",
     "output_type": "stream",
     "text": [
      "Fibonacci series is:  1 1 2 3 5 8 13 21 34 55 "
     ]
    }
   ],
   "source": [
    "num = 10\n",
    "a = 0\n",
    "b = 1\n",
    "sum = 0\n",
    "count = 1\n",
    "print(\"Fibonacci series is: \", end = \" \")\n",
    "while(count <= num):\n",
    "    count += 1\n",
    "    a = b\n",
    "    b = sum\n",
    "    sum = a + b\n",
    "    print(sum, end=\" \")"
   ]
  },
  {
   "cell_type": "markdown",
   "id": "68eb5930-8c82-497b-aa4d-b639d9f941d0",
   "metadata": {},
   "source": [
    "Q7. Write a List Comprehension to iterate through the given string: ‘pwskills’.\n",
    "\n",
    "Expected output: ['p', 'w', 's', 'k', 'i', 'l', 'l', 's']"
   ]
  },
  {
   "cell_type": "code",
   "execution_count": 9,
   "id": "6fb576c1-a198-437c-90e4-275a09318386",
   "metadata": {},
   "outputs": [
    {
     "name": "stdout",
     "output_type": "stream",
     "text": [
      "['p', 'w', 's', 'k', 'i', 'l', 'l', 's']\n"
     ]
    }
   ],
   "source": [
    "list1 = [i for i in 'pwskills']\n",
    "print(list1)"
   ]
  },
  {
   "cell_type": "markdown",
   "id": "a5b3ea43-5643-462a-86c0-3c93a62bc05f",
   "metadata": {},
   "source": [
    "Q8. Write a python program to check whether a given number is Palindrome or not using a while loop."
   ]
  },
  {
   "cell_type": "code",
   "execution_count": 26,
   "id": "6a5c2713-6548-4088-881b-42ef47869d9e",
   "metadata": {},
   "outputs": [
    {
     "name": "stdin",
     "output_type": "stream",
     "text": [
      "Enter any number: 252\n"
     ]
    },
    {
     "name": "stdout",
     "output_type": "stream",
     "text": [
      "252 is a palindrome\n"
     ]
    }
   ],
   "source": [
    "num=int(input(\"Enter any number:\"))\n",
    "temp=num\n",
    "rev=0\n",
    "while(num>0):\n",
    "    dig=num%10\n",
    "    rev=rev*10+dig\n",
    "    num=num//10\n",
    "if(temp==rev):\n",
    "    print(\"{0} is a palindrome\".format(temp))\n",
    "else:\n",
    "    print(\"{0} is not a palindrome\".format(temp))"
   ]
  },
  {
   "cell_type": "markdown",
   "id": "efa368f0-a676-417d-9d51-755a2914b63d",
   "metadata": {},
   "source": [
    "Q9. Write a code to print odd numbers from 1 to 100 using list comprehension.\n",
    "\n",
    "Note: Use a list comprehension to create a list from 1 to 100 and use another List comprehension to filter out odd numbers."
   ]
  },
  {
   "cell_type": "code",
   "execution_count": 23,
   "id": "76e59cb6-4831-41b4-bcfb-ea11c66d96cc",
   "metadata": {},
   "outputs": [
    {
     "name": "stdout",
     "output_type": "stream",
     "text": [
      "[1, 2, 3, 4, 5, 6, 7, 8, 9, 10, 11, 12, 13, 14, 15, 16, 17, 18, 19, 20, 21, 22, 23, 24, 25, 26, 27, 28, 29, 30, 31, 32, 33, 34, 35, 36, 37, 38, 39, 40, 41, 42, 43, 44, 45, 46, 47, 48, 49, 50, 51, 52, 53, 54, 55, 56, 57, 58, 59, 60, 61, 62, 63, 64, 65, 66, 67, 68, 69, 70, 71, 72, 73, 74, 75, 76, 77, 78, 79, 80, 81, 82, 83, 84, 85, 86, 87, 88, 89, 90, 91, 92, 93, 94, 95, 96, 97, 98, 99, 100]\n"
     ]
    }
   ],
   "source": [
    "n=100\n",
    "list_num = [i for i in range(1,n+1)]\n",
    "print(list_num)"
   ]
  },
  {
   "cell_type": "code",
   "execution_count": 24,
   "id": "66709a9f-ff9d-423f-9e2c-b76374e035c1",
   "metadata": {},
   "outputs": [
    {
     "name": "stdout",
     "output_type": "stream",
     "text": [
      "[1, 3, 5, 7, 9, 11, 13, 15, 17, 19, 21, 23, 25, 27, 29, 31, 33, 35, 37, 39, 41, 43, 45, 47, 49, 51, 53, 55, 57, 59, 61, 63, 65, 67, 69, 71, 73, 75, 77, 79, 81, 83, 85, 87, 89, 91, 93, 95, 97, 99]\n"
     ]
    }
   ],
   "source": [
    "odd_list = [element for element in range(1, 101) if element % 2 == 1 ]\n",
    "print(odd_list)"
   ]
  }
 ],
 "metadata": {
  "kernelspec": {
   "display_name": "Python 3 (ipykernel)",
   "language": "python",
   "name": "python3"
  },
  "language_info": {
   "codemirror_mode": {
    "name": "ipython",
    "version": 3
   },
   "file_extension": ".py",
   "mimetype": "text/x-python",
   "name": "python",
   "nbconvert_exporter": "python",
   "pygments_lexer": "ipython3",
   "version": "3.10.8"
  }
 },
 "nbformat": 4,
 "nbformat_minor": 5
}
