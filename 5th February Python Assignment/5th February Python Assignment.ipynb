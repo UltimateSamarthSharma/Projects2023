{
 "cells": [
  {
   "cell_type": "markdown",
   "id": "3b36a71a-9a2b-4c90-8f6a-85e9a187cb82",
   "metadata": {},
   "source": [
    "Q1. Explain Class and Object with respect to Object-Oriented Programming. Give a suitable example."
   ]
  },
  {
   "cell_type": "markdown",
   "id": "2418705f-91a5-4675-ad31-3e745f69ba6d",
   "metadata": {},
   "source": [
    "Classes\n",
    "\n",
    "A class is a user-defined blueprint or prototype from which objects are created. Classes provide a means of bundling data and functionality together. Creating a new class creates a new type of object, allowing new instances of that type to be made. Each class instance can have attributes attached to it for maintaining its state. Class instances can also have methods, defined by their class, for modifying their state."
   ]
  },
  {
   "cell_type": "markdown",
   "id": "e7ee3e5e-8c72-43fb-a4e3-472ef5ce8c27",
   "metadata": {},
   "source": [
    "Objects\n",
    "\n",
    "An Object is an instance of a Class, which consists of : \n",
    "\n",
    "1) State: It is represented by the attributes of an object. It also reflects the properties of an object.\n",
    "2) Behaviour: It is represented by the methods of an object. It also reflects the response of an object to other objects.\n",
    "3) Identity: It gives a unique name to an object and enables one object to interact with other objects."
   ]
  },
  {
   "cell_type": "code",
   "execution_count": 8,
   "id": "70ba24a6-719c-44dd-bf2c-5bc11e476af6",
   "metadata": {},
   "outputs": [
    {
     "name": "stdout",
     "output_type": "stream",
     "text": [
      "Samarth Sharma\n",
      "25\n"
     ]
    }
   ],
   "source": [
    "class Person:\n",
    "    def __init__(self, name, age):\n",
    "        self.name = name\n",
    "        self.age = age\n",
    "p1 = Person(\"Samarth Sharma\", 25)\n",
    "print(p1.name)\n",
    "print(p1.age)"
   ]
  },
  {
   "cell_type": "markdown",
   "id": "433021ee-1420-4b4e-908d-ed6629a9be10",
   "metadata": {},
   "source": [
    "Q2. Name the four pillars of OOPs."
   ]
  },
  {
   "cell_type": "markdown",
   "id": "a73c0669-d34d-410b-8425-6a95113bc7a3",
   "metadata": {},
   "source": [
    "Like other Object-Oriented languages, when creating objects using classes, there are four basic principles for writing clean and concise code. These principles are called the four pillars of object-oriented programming (OOP). These four pillars are Inheritance, Polymorphism, Encapsulation and Abstraction."
   ]
  },
  {
   "cell_type": "markdown",
   "id": "6b139369-2093-41c5-97e1-9c01fd9e10ae",
   "metadata": {},
   "source": [
    "Abstraction\n",
    "\n",
    "Data abstraction is the most essential function of object-oriented programming in C++. Abstraction means displaying only basic information and hiding the details. Data abstraction refers to providing only necessary information about the data to the outside world, hiding the background info or implementation."
   ]
  },
  {
   "cell_type": "markdown",
   "id": "ac8fd8d7-b1da-490c-aac5-dca4e77e5448",
   "metadata": {},
   "source": [
    "Encapsulation\n",
    "\n",
    "In common terms, Encapsulation is defined as wrapping up of data and information under a single unit. In object-oriented programming, Encapsulation is defined as binding together the data and the functions that manipulate them. Encapsulation also leads to data abstraction or hiding. Using Encapsulation also hides the data. "
   ]
  },
  {
   "cell_type": "markdown",
   "id": "dee6697c-ea4c-4608-ab3a-2c3547f7f6a1",
   "metadata": {},
   "source": [
    "Inheritance\n",
    "\n",
    "Inheritance is the process in which two classes have a relationship with each other, and objects of one class acquire properties and features of the other class. The class which inherits the features is known as the child class, and the class whose features it inherited is called the parent class."
   ]
  },
  {
   "cell_type": "markdown",
   "id": "0b5ed124-f1ae-4aae-a8bf-b4b0e983c550",
   "metadata": {},
   "source": [
    "Polymorphism\n",
    "\n",
    "The word polymorphism means having many forms. It is the ability to take more than one form. It is a feature that provides a function or an operator with more than one definition. It can be implemented using function overloading, operator overload, function overriding, virtual function. An operation may show off different behaviors at different times."
   ]
  },
  {
   "cell_type": "markdown",
   "id": "5fdaae5c-2846-46cb-b084-590c2b8f383c",
   "metadata": {},
   "source": [
    "Q3. Explain why the __ init __() function is used. Give a suitable example."
   ]
  },
  {
   "cell_type": "markdown",
   "id": "dbe5706f-bfcc-44b4-ad93-4dc608786da6",
   "metadata": {},
   "source": [
    "The __ init __ method is the Python equivalent of the C++ constructor in an object-oriented approach. The __ init __  function is called every time an object is created from a class. The __ init __ method lets the class initialize the object’s attributes and serves no other purpose. It is only used within classes."
   ]
  },
  {
   "cell_type": "code",
   "execution_count": 7,
   "id": "97f656f9-1a67-481e-8ac2-09582bc4a31a",
   "metadata": {},
   "outputs": [
    {
     "name": "stdout",
     "output_type": "stream",
     "text": [
      "Samarth Sharma\n",
      "25\n"
     ]
    }
   ],
   "source": [
    "class Person:\n",
    "    def __init__(self, name, age):\n",
    "        self.name = name\n",
    "        self.age = age\n",
    "p1 = Person(\"Samarth Sharma\", 25)\n",
    "print(p1.name)\n",
    "print(p1.age)"
   ]
  },
  {
   "cell_type": "markdown",
   "id": "725724fe-bae4-41ff-83fb-cc5f54808b90",
   "metadata": {},
   "source": [
    "Q4. Why self is used in OOPs?"
   ]
  },
  {
   "cell_type": "markdown",
   "id": "da452ed2-e8a9-482c-885f-43d3856e9b5b",
   "metadata": {},
   "source": [
    "The self parameter is a reference to the current instance of the class, and is used to access variables that belongs to the class. It does not have to be named self , you can call it whatever you like, but it has to be the first parameter of any function in the class."
   ]
  },
  {
   "cell_type": "code",
   "execution_count": 6,
   "id": "100ed2e7-2f5a-4dac-8f86-3a9d38f9b10b",
   "metadata": {},
   "outputs": [
    {
     "name": "stdout",
     "output_type": "stream",
     "text": [
      "Name: Samarth Sharma\n"
     ]
    }
   ],
   "source": [
    "class Person:\n",
    "    def __init__(self, name, age):\n",
    "        self.name = name\n",
    "        self.age = age\n",
    "    def myfunc(obj):\n",
    "        print(\"Name:\",obj.name)\n",
    "p1 = Person(\"Samarth Sharma\", 25)\n",
    "p1.myfunc()"
   ]
  },
  {
   "cell_type": "markdown",
   "id": "78953c8b-5e76-4490-a9ba-d8060b6671f5",
   "metadata": {},
   "source": [
    "Q5. What is inheritance? Give an example for each type of inheritance."
   ]
  },
  {
   "cell_type": "markdown",
   "id": "83dbd770-374a-4ab8-8aa2-119951b4c542",
   "metadata": {},
   "source": [
    "One of the core concepts in object-oriented programming (OOP) languages is inheritance. It is a mechanism that allows you to create a hierarchy of classes that share a set of properties and methods by deriving a class from another class. Inheritance is the capability of one class to derive or inherit the properties from another class."
   ]
  },
  {
   "cell_type": "markdown",
   "id": "33ca8e4f-e0da-48b7-ba43-d58ef25a9ed9",
   "metadata": {},
   "source": [
    "Different Types of Inheritance\n",
    "\n",
    "1) Single inheritance: When a child class inherits from only one parent class, it is called single inheritance. We saw an example above.\n",
    "2) Multiple inheritances: When a child class inherits from multiple parent classes, it is called multiple inheritances.\n",
    "3) Multilevel inheritance: When we have a child and grandchild relationship.\n",
    "4) Hierarchical inheritance More than one derived class are created from a single base.\n",
    "5) Hybrid inheritance: This form combines more than one form of inheritance."
   ]
  },
  {
   "cell_type": "code",
   "execution_count": 9,
   "id": "91310c64-2641-45f1-b086-357ab04484bc",
   "metadata": {},
   "outputs": [
    {
     "name": "stdout",
     "output_type": "stream",
     "text": [
      "Satyam 102\n"
     ]
    }
   ],
   "source": [
    "# A Python program to demonstrate single inheritance\n",
    " \n",
    "class Person(object):\n",
    "    def __init__(self, name, id):\n",
    "        self.name = name\n",
    "        self.id = id\n",
    "    def Display(self):\n",
    "        print(self.name, self.id)\n",
    "emp = Person(\"Satyam\", 102)\n",
    "emp.Display()"
   ]
  },
  {
   "cell_type": "code",
   "execution_count": 10,
   "id": "582eceb7-847c-49ac-ae1e-1bbf20f0e6ee",
   "metadata": {},
   "outputs": [
    {
     "name": "stdout",
     "output_type": "stream",
     "text": [
      "Base1\n",
      "Base2\n",
      "Derived\n",
      "Geek1 Geek2\n"
     ]
    }
   ],
   "source": [
    "# Python example to show the working of multiple inheritance\n",
    " \n",
    "class Base1(object):\n",
    "    def __init__(self):\n",
    "        self.str1 = \"Geek1\"\n",
    "        print(\"Base1\")\n",
    " \n",
    " \n",
    "class Base2(object):\n",
    "    def __init__(self):\n",
    "        self.str2 = \"Geek2\"\n",
    "        print(\"Base2\")\n",
    " \n",
    " \n",
    "class Derived(Base1, Base2):\n",
    "    def __init__(self):\n",
    " \n",
    "        # Calling constructors of Base1\n",
    "        # and Base2 classes\n",
    "        Base1.__init__(self)\n",
    "        Base2.__init__(self)\n",
    "        print(\"Derived\")\n",
    " \n",
    "    def printStrs(self):\n",
    "        print(self.str1, self.str2)\n",
    " \n",
    " \n",
    "ob = Derived()\n",
    "ob.printStrs()"
   ]
  },
  {
   "cell_type": "code",
   "execution_count": 12,
   "id": "75b94ccc-5eb3-4861-845b-369fa0a76a64",
   "metadata": {},
   "outputs": [
    {
     "name": "stdout",
     "output_type": "stream",
     "text": [
      "Geek1 23 Noida\n"
     ]
    }
   ],
   "source": [
    "# Python example to show the working of multilevel inheritance\n",
    "\n",
    "class Base(object):\n",
    " \n",
    "    # Constructor\n",
    "    def __init__(self, name):\n",
    "        self.name = name\n",
    " \n",
    "    # To get name\n",
    "    def getName(self):\n",
    "        return self.name\n",
    " \n",
    " \n",
    "# Inherited or Sub class (Note Person in bracket)\n",
    "class Child(Base):\n",
    " \n",
    "    # Constructor\n",
    "    def __init__(self, name, age):\n",
    "        Base.__init__(self, name)\n",
    "        self.age = age\n",
    " \n",
    "    # To get name\n",
    "    def getAge(self):\n",
    "        return self.age\n",
    "class GrandChild(Child):\n",
    " \n",
    "    # Constructor\n",
    "    def __init__(self, name, age, address):\n",
    "        Child.__init__(self, name, age)\n",
    "        self.address = address\n",
    " \n",
    "    # To get address\n",
    "    def getAddress(self):\n",
    "        return self.address\n",
    " \n",
    " \n",
    "# Driver code\n",
    "g = GrandChild(\"Geek1\", 23, \"Noida\")\n",
    "print(g.getName(), g.getAge(), g.getAddress())"
   ]
  },
  {
   "cell_type": "code",
   "execution_count": 13,
   "id": "ed39cb85-0d3c-469e-af96-c2e689eb0f26",
   "metadata": {},
   "outputs": [
    {
     "name": "stdout",
     "output_type": "stream",
     "text": [
      "This function is defined inside the parent class.\n",
      "This function is defined inside the child 1.\n",
      "This function is defined inside the parent class.\n",
      "This function is defined inside the child 2.\n"
     ]
    }
   ],
   "source": [
    "    # Python program for demonstrating Hierarchical inheritance  \n",
    "      \n",
    "    # Here, we will create the Base class   \n",
    "    class Parent1:  \n",
    "        def func_1(self):  \n",
    "            print (\"This function is defined inside the parent class.\")  \n",
    "      \n",
    "    # Derived class1  \n",
    "    class Child_1(Parent1):  \n",
    "        def func_2(self):  \n",
    "            print (\"This function is defined inside the child 1.\")  \n",
    "      \n",
    "    # Derivied class2  \n",
    "    class Child_2(Parent1):  \n",
    "        def func_3(self):  \n",
    "            print (\"This function is defined inside the child 2.\")  \n",
    "      \n",
    "    # Driver's code  \n",
    "    object1 = Child_1()  \n",
    "    object2 = Child_2()  \n",
    "    object1.func_1()  \n",
    "    object1.func_2()  \n",
    "    object2.func_1()  \n",
    "    object2.func_3()"
   ]
  }
 ],
 "metadata": {
  "kernelspec": {
   "display_name": "Python 3 (ipykernel)",
   "language": "python",
   "name": "python3"
  },
  "language_info": {
   "codemirror_mode": {
    "name": "ipython",
    "version": 3
   },
   "file_extension": ".py",
   "mimetype": "text/x-python",
   "name": "python",
   "nbconvert_exporter": "python",
   "pygments_lexer": "ipython3",
   "version": "3.10.8"
  }
 },
 "nbformat": 4,
 "nbformat_minor": 5
}
