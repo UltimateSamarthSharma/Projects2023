{
 "cells": [
  {
   "cell_type": "markdown",
   "id": "8968aa9f-d390-477b-bad9-c31ffbad3949",
   "metadata": {},
   "source": [
    "**Q1. What is the mathematical formula for a linear SVM?**"
   ]
  },
  {
   "cell_type": "markdown",
   "id": "a15613e2-6453-46dd-a78e-79aaf702fdf6",
   "metadata": {},
   "source": [
    "A **linear support vector machine (SVM)** is a type of **machine learning algorithm** used for **binary classification problems**. The objective of a **linear SVM** is to **find a hyperplane** that separates the **data points into two classes** in an easy way. The **mathematical formula for a linear SVM** can be expressed as:\n",
    "\n",
    "**𝑦(𝑖)(𝑤^𝑇𝑥(𝑖) + b) ≥ 1 − 𝜉(𝑖)**\n",
    "\n",
    "**Where**:\n",
    "1. **𝑥(𝑖)** represents the **𝑖-th input data point**.\n",
    "2. **𝑦(𝑖)** represents the **class label of the 𝑖-th input data point**, either **+1** or **-1**.\n",
    "3. **𝑤** represents the **weight vector**.\n",
    "4. **𝑏** represents the **bias term.**\n",
    "5. **𝜉(𝑖)** represents the **slack variable** that allows for **some misclassification of data points**.\n",
    "\n",
    "The **main objective** or the **main goal** of the **linear SVM** is to find the **optimal values** of **𝑤** and **𝑏** that **minimize the error** and **maximize the margin between the hyperplane and the closest data points**. It's an **optimization problem**, which can be solved using **quadratic programming** or **gradient descent**."
   ]
  },
  {
   "cell_type": "markdown",
   "id": "5da22fb0-89c2-4e7a-884e-fb5712cc2113",
   "metadata": {},
   "source": [
    "**Q2. What is the objective function of a linear SVM?**"
   ]
  },
  {
   "cell_type": "markdown",
   "id": "f6c3e889-1454-415e-b268-93ec3c3d49ee",
   "metadata": {},
   "source": [
    "The **objective function** of a **linear SVM** is to **find the hyperplane** that **maximizes the margin between the two classes in a binary classification problem**. The **margin** is defined as the **distance between the hyperplane and the closest data points from each class**. The **optimal hyperplane** is the one that has the **largest margin**, which provides **the best separation between the two classes** and leads to **better generalization performance of the SVM**. The **objective function of a linear SVM** can be expressed as:\n",
    "\n",
    "**minimize: (1/2)||w||^2**<br>\n",
    "**subject to: 𝑦(𝑖)(𝑤^𝑇𝑥(𝑖) + b) ≥ 1 for i = 1, 2, ..., n**\n",
    "\n",
    "**Where**:\n",
    "1. **𝑥(𝑖)** represents the **𝑖-th input data point**.\n",
    "2. **𝑦(𝑖)** represents the **class label of the 𝑖-th input data point**, either **+1** or **-1**.\n",
    "3. **𝑤** represents the **weight vector**.\n",
    "4. **𝑏** represents the **bias term.**\n",
    "\n",
    "The **first term**, **(1/2) ||w||^2** is the **regularization term**, which **penalizes large values** of the **weight vector w** to **prevent overfitting**. The **second term** represents the **constraint** that ensures that **each data point is classified correctly** and is **at least a distance of 1 unit** from the **hyperplane**.\n",
    "\n",
    "The **objective function** can be **solved using techniques** such as **quadratic programming** or **gradient descent**, which find the **optimal values** of the **weight vector w** and the **bias term b** that **minimizes the objective function** and **maximizes the margin between the two classes**."
   ]
  },
  {
   "cell_type": "markdown",
   "id": "192f73aa-0e7e-4ca0-8a72-aecfdb58868b",
   "metadata": {},
   "source": [
    "**Q3. What is the kernel trick in SVM?**"
   ]
  },
  {
   "cell_type": "markdown",
   "id": "96d6fca2-3a39-4021-aaec-4797f0deb0b0",
   "metadata": {},
   "source": [
    "The **kernel trick** in **support vector machines (SVMs)** is a **technique** used to **transform the input data** into a **higher-dimensional feature space** without actually **computing the coordinates of the data points** in that space. This **allows SVMs** to effectively **learn complex decision boundaries** that **cannot be easily modeled** in the **original feature space**.\n",
    "\n",
    "The **basic idea** behind the **kernel trick** is to define a **kernel function** that computes the **dot product** of **two data points** in the **higher-dimensional feature space**, without actually **computing the coordinates of the data points** in that space. The **kernel function** essentially **measures the similarity between two data points** and provides a way **to represent the data in a new feature space** that is **better suited for classification**.\n",
    "\n",
    "There are **several types** of **kernel functions** that can be **used in SVMs**, including:\n",
    "1. **Linear kernel**:<br>K(x, y) = x^T y<br><br>\n",
    "2. **Polynomial kernel**:<br>K(x, y) = (x^T y + c)^d, where **c** and **d** are hyperparameters.<br><br>\n",
    "3. **Gaussian (or radial basis function) kernel**:<br>K(x, y) = exp(-γ ||x - y||^2), where **γ** is a hyperparameter.<br><br>\n",
    "4. **Sigmoid kernel**:<br>K(x, y) = tanh(αx^T y + c), where **α** and **c** are hyperparameters.\n",
    "\n",
    "The **kernel trick** allows SVMs to efficiently **handle high-dimensional and non-linear data**, by computing the **dot products** in the **higher-dimensional feature space** using the **kernel function**. This leads to **better generalization performance** and **allows SVMs** to **outperform other classification algorithms** on many **real-world problems**."
   ]
  },
  {
   "cell_type": "markdown",
   "id": "37a578fc-bb85-4421-ad80-cc266f4c9a03",
   "metadata": {},
   "source": [
    "**Q4. What is the role of support vectors in SVM? Explain with an example.**"
   ]
  },
  {
   "cell_type": "markdown",
   "id": "113931bb-f438-4b9e-8b86-381180b4442a",
   "metadata": {},
   "source": [
    "Support vectors are the data points that lie closest to the decision boundary in a support vector machine (SVM) algorithm. These points play a crucial role in defining the decision boundary and determining the margin of the SVM.\n",
    "\n",
    "The support vectors are the data points that are closest to the decision boundary, meaning that they have the largest margin. The margin is defined as the distance between the decision boundary and the closest data points from each class. The support vectors are the data points that lie on the margin, and changing their position or removing them would affect the position of the decision boundary and the margin.\n",
    "\n",
    "For example, let's consider a binary classification problem where we want to classify data points into two classes, A and B. We have the following data points:\n",
    "\n",
    "**Class A**: (1, 1), (2, 2), (2, 0)<br>\n",
    "**Class B**: (-1, -1), (-2, -2), (0, -2)\n",
    "\n",
    "We can use a linear SVM to find the decision boundary that separates the two classes. The decision boundary is the hyperplane that has the largest margin between the two classes. In this case, the decision boundary would pass through the points (0, 0) and (1.5, 1.5), and the margin would be the distance between the decision boundary and the closest data points from each class.\n",
    "\n",
    "In this example, the support vectors are the data points (1, 1), (2, 2), (-1, -1), and (-2, -2), which lie on the margin of the SVM. The position of the support vectors determines the position of the decision boundary and the margin of the SVM. In other words, changing the position of any of the support vectors would lead to a different decision boundary and margin.\n",
    "\n",
    "Thus, support vectors play a critical role in SVMs by defining the decision boundary and determining the margin. They are the key data points that need to be identified and used to train the SVM model."
   ]
  },
  {
   "cell_type": "markdown",
   "id": "a5c58c32-2e6d-494f-86b1-dbb9781b17e5",
   "metadata": {},
   "source": [
    "**Q5. Illustrate with examples and graphs of Hyperplane, Marginal plane, Soft margin and Hard margin in SVM?**"
   ]
  },
  {
   "cell_type": "markdown",
   "id": "1e2756d3-fb63-4c7c-ac86-6471559e1b6f",
   "metadata": {},
   "source": [
    "**I) Hyperplane**: Consider a binary classification problem where we want to classify data points into two classes, A and B. The data points are shown in the graph below. The red dots represent class A, and the blue dots represent class B.\n",
    "\n",
    "We can use a linear SVM to find the hyperplane that separates the two classes. It's defined by the equation **y=(w1.x1)+(w2.x2)+b**, where w1, w2 are the weights, and b is the bias term.\n",
    "\n",
    "In this example, the hyperplane is shown in black. It separates the two classes and maximizes the margin between them.\n",
    "\n",
    "**II) Marginal plane:** Consider the same binary classification problem as above, but with an additional data point (1, -1) belonging to class B.\n",
    "\n",
    "We can use a linear SVM to find the hyperplane that separates the two classes. However, the new data point in class B is close to the decision boundary, and the hyperplane may not provide a good separation between the two classes. In such cases, we can use a soft margin SVM that allows some data points to be misclassified.\n",
    "\n",
    "To define the soft margin, we need to introduce the marginal plane that is parallel to the hyperplane and passes through the support vectors. The marginal plane provides a buffer zone between the decision boundary and the data points. The width of the buffer zone is determined by the hyperparameters C and ε, which control the trade-off between the margin and the misclassification rate.\n",
    "\n",
    "In this example, the support vectors are the data points (-1, -1) and (1, 1) and the marginal plane is shown in green. The width of the margin is determined by the distance between the hyperplane and the marginal plane, which is twice the value of ε.\n",
    "\n",
    "**III) Soft margin:** Consider the same binary classification problem as above, but with an additional data point (-2, -2) belonging to class A.\n",
    "\n",
    "We can use a soft margin SVM to find the decision boundary that separates the two classes. The decision boundary allows some data points to be misclassified to achieve a better separation between the two classes.\n",
    "\n",
    "In this example, the hyperplane is shown in black, and the support vectors are the data points (-1, -1), (1, 1), and (-2, -2). The margin is determined by the distance between the hyperplane and the marginal plane, which is twice the value of ε.\n",
    "\n",
    "**IV) Hard margin:** Consider a binary classification problem where we want to classify data points into two classes, A and B. The data points are linearly separable.\n",
    "\n",
    "We can use a hard margin SVM to find the hyperplane that separates the two classes with no misclassification. A hard margin SVM requires the data to be linearly separable, and it does not allow any data points to be misclassified.\n",
    "\n",
    "In this example, the hyperplane is shown in black, and it separates the two classes with no misclassification. The margin is maximized, and the distance between the hyperplane and the support vectors is equal on both sides."
   ]
  },
  {
   "cell_type": "markdown",
   "id": "14ab5dc7-f137-46f2-875c-9acae54f25eb",
   "metadata": {},
   "source": [
    "**Q6. SVM Implementation through Iris dataset.**\n",
    "1. **Load the iris dataset from the scikit-learn library and split it into a training set and a testing set.**\n",
    "2. **Train a linear SVM classifier on the training set and predict the labels for the testing set.**\n",
    "3. **Compute the accuracy of the model on the testing set.**\n",
    "4. **Plot the decision boundaries of the trained model using two of the features.**\n",
    "5. **Try different values of the regularisation parameter C and see how it affects the performance of the model.**\n",
    "\n",
    "**BONUS TASK**: Implement a linear SVM classifier from scratch using Python and compare its performance with the scikit-learn implementation."
   ]
  },
  {
   "cell_type": "markdown",
   "id": "e75f8ce2-1e79-4ec6-a824-c45a84b7949f",
   "metadata": {},
   "source": [
    "**Here is your Python code for the Support Vector Machine (SVM) Implementation through Iris dataset:**"
   ]
  },
  {
   "cell_type": "code",
   "execution_count": 1,
   "id": "5e3e38fe-e085-418c-8710-b17244d29802",
   "metadata": {},
   "outputs": [
    {
     "name": "stdout",
     "output_type": "stream",
     "text": [
      "Accuracy: 0.90\n"
     ]
    },
    {
     "data": {
      "image/png": "[encoded data removed]",
      "text/plain": [
       "<Figure size 640x480 with 1 Axes>"
      ]
     },
     "metadata": {},
     "output_type": "display_data"
    },
    {
     "name": "stdout",
     "output_type": "stream",
     "text": [
      "C=0.1: Accuracy=0.83\n",
      "C=1: Accuracy=0.90\n",
      "C=10: Accuracy=0.90\n"
     ]
    }
   ],
   "source": [
    "from sklearn.datasets import load_iris\n",
    "from sklearn.model_selection import train_test_split\n",
    "from sklearn.svm import SVC\n",
    "from sklearn.metrics import accuracy_score\n",
    "import matplotlib.pyplot as plt\n",
    "import numpy as np\n",
    "\n",
    "# Load the iris dataset\n",
    "iris = load_iris()\n",
    "\n",
    "# Split the dataset into training and testing sets\n",
    "X_train, X_test, y_train, y_test = train_test_split(iris.data[:, :2], iris.target, test_size=0.2, random_state=42)\n",
    "\n",
    "# Train a linear SVM classifier on the training set\n",
    "svm = SVC(kernel='linear', C=1)\n",
    "svm.fit(X_train, y_train)\n",
    "\n",
    "# Predict the labels for the testing set\n",
    "y_pred = svm.predict(X_test)\n",
    "\n",
    "# Compute the accuracy of the model on the testing set\n",
    "accuracy = accuracy_score(y_test, y_pred)\n",
    "print(f\"Accuracy: {accuracy:.2f}\")\n",
    "\n",
    "# Plot the decision boundaries of the trained model using two of the features\n",
    "x_min, x_max = X_train[:, 0].min() - 1, X_train[:, 0].max() + 1\n",
    "y_min, y_max = X_train[:, 1].min() - 1, X_train[:, 1].max() + 1\n",
    "xx, yy = np.meshgrid(np.arange(x_min, x_max, 0.1), np.arange(y_min, y_max, 0.1))\n",
    "Z = svm.predict(np.c_[xx.ravel(), yy.ravel()])\n",
    "Z = Z.reshape(xx.shape)\n",
    "plt.contourf(xx, yy, Z, alpha=0.4)\n",
    "plt.scatter(X_train[:, 0], X_train[:, 1], c=y_train, s=20, edgecolor='k')\n",
    "plt.xlabel('Sepal length')\n",
    "plt.ylabel('Sepal width')\n",
    "plt.show()\n",
    "\n",
    "# Try different values of the regularisation parameter C and see how it affects the performance of the model\n",
    "for C in [0.1, 1, 10]:\n",
    "    svm = SVC(kernel='linear', C=C)\n",
    "    svm.fit(X_train, y_train)\n",
    "    y_pred = svm.predict(X_test)\n",
    "    accuracy = accuracy_score(y_test, y_pred)\n",
    "    print(f\"C={C}: Accuracy={accuracy:.2f}\")"
   ]
  },
  {
   "cell_type": "markdown",
   "id": "de92f0f3-49f1-4fbd-8795-e1ae5bdb1e15",
   "metadata": {},
   "source": [
    "**Here is your Python code for the BONUS TASK of Support Vector Machine (SVM) Implementation through Iris dataset where we're going to implement a linear SVM classifier from scratch using Python and compare its performance with the scikit-learn implementation:**"
   ]
  },
  {
   "cell_type": "code",
   "execution_count": 3,
   "id": "09dd62c0-726e-440c-a7b5-f2e1e65b4b56",
   "metadata": {},
   "outputs": [],
   "source": [
    "import numpy as np\n",
    "\n",
    "class LinearSVM:\n",
    "    def __init__(self, lr=0.01, epochs=1000, C=1):\n",
    "        self.lr = lr # learning rate\n",
    "        self.epochs = epochs # number of epochs\n",
    "        self.C = C # regularization parameter\n",
    "        \n",
    "    def fit(self, X, y):\n",
    "        n_samples, n_features = X.shape\n",
    "        y_ = np.where(y <= 0, -1, 1)\n",
    "        \n",
    "        # initialize weights and bias\n",
    "        self.w = np.zeros(n_features)\n",
    "        self.b = 0\n",
    "        \n",
    "        # gradient descent\n",
    "        for epoch in range(self.epochs):\n",
    "            for idx, x_i in enumerate(X):\n",
    "                condition = y_[idx] * (np.dot(x_i, self.w) - self.b) >= 1\n",
    "                if condition:\n",
    "                    self.w -= self.lr * (2 * self.C * self.w)\n",
    "                else:\n",
    "                    self.w -= self.lr * (2 * self.C * self.w - np.dot(x_i, y_[idx]))\n",
    "                    self.b -= self.lr * y_[idx]\n",
    "        \n",
    "    def predict(self, X):\n",
    "        linear_output = np.dot(X, self.w) - self.b\n",
    "        return np.sign(linear_output)"
   ]
  },
  {
   "cell_type": "code",
   "execution_count": 4,
   "id": "95a02125-c3b1-4163-9656-c3a42c955c6a",
   "metadata": {},
   "outputs": [
    {
     "name": "stdout",
     "output_type": "stream",
     "text": [
      "Accuracy of scratch model: 0.30\n",
      "Accuracy of scikit-learn model: 0.90\n"
     ]
    }
   ],
   "source": [
    "from sklearn.datasets import load_iris\n",
    "from sklearn.model_selection import train_test_split\n",
    "from sklearn.svm import SVC\n",
    "from sklearn.metrics import accuracy_score\n",
    "\n",
    "# Load the iris dataset\n",
    "iris = load_iris()\n",
    "\n",
    "# Split the dataset into training and testing sets\n",
    "X_train, X_test, y_train, y_test = train_test_split(iris.data[:, :2], iris.target, test_size=0.2, random_state=42)\n",
    "\n",
    "# Train a linear SVM classifier from scratch on the training set\n",
    "svm_scratch = LinearSVM(lr=0.01, epochs=1000, C=1)\n",
    "svm_scratch.fit(X_train, y_train)\n",
    "\n",
    "# Predict the labels for the testing set using the scratch implementation\n",
    "y_pred_scratch = svm_scratch.predict(X_test)\n",
    "\n",
    "# Compute the accuracy of the scratch model on the testing set\n",
    "accuracy_scratch = accuracy_score(y_test, y_pred_scratch)\n",
    "print(f\"Accuracy of scratch model: {accuracy_scratch:.2f}\")\n",
    "\n",
    "# Train a linear SVM classifier using scikit-learn on the training set\n",
    "svm_sklearn = SVC(kernel='linear', C=1)\n",
    "svm_sklearn.fit(X_train, y_train)\n",
    "\n",
    "# Predict the labels for the testing set using the scikit-learn implementation\n",
    "y_pred_sklearn = svm_sklearn.predict(X_test)\n",
    "\n",
    "# Compute the accuracy of the scikit-learn model on the testing set\n",
    "accuracy_sklearn = accuracy_score(y_test, y_pred_sklearn)\n",
    "print(f\"Accuracy of scikit-learn model: {accuracy_sklearn:.2f}\")"
   ]
  },
  {
   "cell_type": "markdown",
   "id": "9429adc0-60e1-4eb0-bf1f-dc1cf0cd3e07",
   "metadata": {},
   "source": [
    "**Here is an alternative method for the BONUS TASK of the Python code of Support Vector Machine (SVM) Implementation through Iris dataset where we're going to implement a linear SVM classifier from scratch using Python and compare its performance with the scikit-learn implementation:**"
   ]
  },
  {
   "cell_type": "code",
   "execution_count": 5,
   "id": "2af29371-4b0d-4661-84f0-29788629014b",
   "metadata": {},
   "outputs": [
    {
     "name": "stdout",
     "output_type": "stream",
     "text": [
      "Accuracy of scratch model: 0.30\n",
      "Accuracy of scikit-learn model: 0.90\n"
     ]
    }
   ],
   "source": [
    "import numpy as np\n",
    "from sklearn.datasets import load_iris\n",
    "from sklearn.model_selection import train_test_split\n",
    "from sklearn.svm import SVC\n",
    "from sklearn.metrics import accuracy_score\n",
    "\n",
    "# Load the iris dataset\n",
    "iris = load_iris()\n",
    "\n",
    "# Split the dataset into training and testing sets\n",
    "X_train, X_test, y_train, y_test = train_test_split(iris.data[:, :2], iris.target, test_size=0.2, random_state=42)\n",
    "\n",
    "class LinearSVM:\n",
    "    def __init__(self, lr=0.01, epochs=1000, C=1):\n",
    "        self.lr = lr # learning rate\n",
    "        self.epochs = epochs # number of epochs\n",
    "        self.C = C # regularization parameter\n",
    "        \n",
    "    def fit(self, X, y):\n",
    "        n_samples, n_features = X.shape\n",
    "        y_ = np.where(y <= 0, -1, 1)\n",
    "        \n",
    "        # initialize weights and bias\n",
    "        self.w = np.zeros(n_features)\n",
    "        self.b = 0\n",
    "        \n",
    "        # gradient descent\n",
    "        for epoch in range(self.epochs):\n",
    "            for idx, x_i in enumerate(X):\n",
    "                condition = y_[idx] * (np.dot(x_i, self.w) - self.b) >= 1\n",
    "                if condition:\n",
    "                    self.w -= self.lr * (2 * self.C * self.w)\n",
    "                else:\n",
    "                    self.w -= self.lr * (2 * self.C * self.w - np.dot(x_i, y_[idx]))\n",
    "                    self.b -= self.lr * y_[idx]\n",
    "        \n",
    "    def predict(self, X):\n",
    "        linear_output = np.dot(X, self.w) - self.b\n",
    "        return np.sign(linear_output)\n",
    "\n",
    "# Train a linear SVM classifier from scratch on the training set\n",
    "svm_scratch = LinearSVM(lr=0.01, epochs=1000, C=1)\n",
    "svm_scratch.fit(X_train, y_train)\n",
    "\n",
    "# Predict the labels for the testing set using the scratch implementation\n",
    "y_pred_scratch = svm_scratch.predict(X_test)\n",
    "\n",
    "# Compute the accuracy of the scratch model on the testing set\n",
    "accuracy_scratch = accuracy_score(y_test, y_pred_scratch)\n",
    "print(f\"Accuracy of scratch model: {accuracy_scratch:.2f}\")\n",
    "\n",
    "# Train a linear SVM classifier using scikit-learn on the training set\n",
    "svm_sklearn = SVC(kernel='linear', C=1)\n",
    "svm_sklearn.fit(X_train, y_train)\n",
    "\n",
    "# Predict the labels for the testing set using the scikit-learn implementation\n",
    "y_pred_sklearn = svm_sklearn.predict(X_test)\n",
    "\n",
    "# Compute the accuracy of the scikit-learn model on the testing set\n",
    "accuracy_sklearn = accuracy_score(y_test, y_pred_sklearn)\n",
    "print(f\"Accuracy of scikit-learn model: {accuracy_sklearn:.2f}\")"
   ]
  }
 ],
 "metadata": {
  "kernelspec": {
   "display_name": "Python 3 (ipykernel)",
   "language": "python",
   "name": "python3"
  },
  "language_info": {
   "codemirror_mode": {
    "name": "ipython",
    "version": 3
   },
   "file_extension": ".py",
   "mimetype": "text/x-python",
   "name": "python",
   "nbconvert_exporter": "python",
   "pygments_lexer": "ipython3",
   "version": "3.10.8"
  }
 },
 "nbformat": 4,
 "nbformat_minor": 5
}
