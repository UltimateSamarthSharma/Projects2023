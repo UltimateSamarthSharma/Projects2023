{
 "cells": [
  {
   "cell_type": "markdown",
   "id": "8df81619-59a9-4171-998b-aac434bd1cb7",
   "metadata": {},
   "source": [
    "Q1. Create a function which will take a list as an argument and return the product of all the numbers after creating a flat list.\n",
    "\n",
    "Use the below-given list as an argument for your function.\n",
    "\n",
    "list1 = [1,2,3,4, [44,55,66, True], False, (34,56,78,89,34), {1,2,3,3,2,1}, {1:34, \"key2\": [55, 67, 78, 89], 4: (45,\n",
    "22, 61, 34)}, [56, 'data science'], 'Machine Learning']\n",
    "\n",
    "Note: you must extract numeric keys and values of the dictionary also."
   ]
  },
  {
   "cell_type": "code",
   "execution_count": 1,
   "id": "a0b33c85-e7f5-4185-b053-6bf127bf9d5e",
   "metadata": {},
   "outputs": [
    {
     "name": "stdout",
     "output_type": "stream",
     "text": [
      "Flat List: [1, 2, 3, 4, 44, 55, 66, 34, 56, 78, 89, 34, 1, 2, 3, 1, 4, 34, 55, 67, 78, 89, 45, 22, 61, 34, 56]\n",
      "Result: 4134711838987085478833841242112000\n"
     ]
    }
   ],
   "source": [
    "def flat_func(l1):\n",
    "    flat_list=[]\n",
    "    for e in l1:\n",
    "        if type(e)==int or type(e)==float:\n",
    "            flat_list.append(e)\n",
    "        elif type(e)==list or type(e)==set or type(e)==tuple:\n",
    "            flat_list.extend(flat_func(e))\n",
    "        elif type(e)==dict:\n",
    "            for ne in e.keys():\n",
    "                if type(ne)==int or type(ne)==float:\n",
    "                    flat_list.append(ne)\n",
    "            for ne in e.values():\n",
    "                if type(ne)==int or type(ne)==float:\n",
    "                    flat_list.append(ne)\n",
    "                elif type(ne)==list or type(ne)==tuple or type(ne)==set:\n",
    "                    flat_list.extend(flat_func(ne))\n",
    "    return flat_list\n",
    "list1=[1,2,3,4,[44,55,66,True],False,(34,56,78,89,34),{1,2,3,3,2,1},{1:34,\"key2\":[55,67,78,89],4:(45,22,61,34)},[56,\"data science\"],\"Machine Learning\"]\n",
    "flat_list=flat_func(list1)\n",
    "res=1\n",
    "for e in flat_list:\n",
    "    res=res*e\n",
    "print(\"Flat List:\", flat_list)\n",
    "print(\"Result:\",res)"
   ]
  },
  {
   "cell_type": "markdown",
   "id": "469a8e16-c8cc-4032-9cfc-4fa307d311ef",
   "metadata": {},
   "source": [
    "Q2. Write a python program for encrypting a message sent to you by your friend. The logic of encryption should be such that, for a the output should be z. For b, the output should be y. For c, the output should be x respectively. Also, the whitespace should be replaced with a dollar sign. Keep the punctuation marks unchanged.\n",
    "\n",
    "Input Sentence: I want to become a Data Scientist.\n",
    "\n",
    "Encrypt the above input sentence using the program you just created.\n",
    "\n",
    "Note: Convert the given input sentence into lowercase before encrypting. The final output should be lowercase."
   ]
  },
  {
   "cell_type": "code",
   "execution_count": 2,
   "id": "5c7eb052-415c-48f0-b3e5-09f184467e6c",
   "metadata": {},
   "outputs": [
    {
     "name": "stdout",
     "output_type": "stream",
     "text": [
      "r$dzmg$gl$yvxlnv$z$wzgz$hxrvmgrhg\n"
     ]
    }
   ],
   "source": [
    "def msg(string):\n",
    "    string = string.lower()\n",
    "    trans_char = str.maketrans('abcdefghijklmnopqrstuvwxyz','zyxwvutsrqponmlkjihgfedcba')\n",
    "    enc_str = string.translate(trans_char)\n",
    "    enc_str = enc_str.replace(' ', '$')\n",
    "    return enc_str\n",
    "string = 'I want to become a Data Scientist'\n",
    "print(msg(string))"
   ]
  }
 ],
 "metadata": {
  "kernelspec": {
   "display_name": "Python 3 (ipykernel)",
   "language": "python",
   "name": "python3"
  },
  "language_info": {
   "codemirror_mode": {
    "name": "ipython",
    "version": 3
   },
   "file_extension": ".py",
   "mimetype": "text/x-python",
   "name": "python",
   "nbconvert_exporter": "python",
   "pygments_lexer": "ipython3",
   "version": "3.10.8"
  }
 },
 "nbformat": 4,
 "nbformat_minor": 5
}
