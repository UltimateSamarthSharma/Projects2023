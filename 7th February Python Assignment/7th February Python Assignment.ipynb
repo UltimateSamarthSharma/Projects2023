{
 "cells": [
  {
   "cell_type": "markdown",
   "id": "4c16650a-d0a6-408e-9b5f-fbc470e6084f",
   "metadata": {},
   "source": [
    "Q1. You are writing code for a company. The requirement of the company is that you create a python function that will check whether the password entered by the user is correct or not. The function should take the password as input and return the string “Valid Password” if the entered password follows the below-given password guidelines else it should return “Invalid Password”.\n",
    "\n",
    "Note:\n",
    "1. The Password should contain at least two uppercase letters and at least two lowercase letters.\n",
    "2. The Password should contain at least a number and three special characters.\n",
    "3. The length of the password should be 10 characters long."
   ]
  },
  {
   "cell_type": "code",
   "execution_count": 1,
   "id": "6c23bcba-c12e-40de-8424-2f6dabe3a488",
   "metadata": {},
   "outputs": [
    {
     "name": "stdin",
     "output_type": "stream",
     "text": [
      "Enter Password:  Samarth@Sharma#20_23\n"
     ]
    },
    {
     "name": "stdout",
     "output_type": "stream",
     "text": [
      "Valid Password\n"
     ]
    }
   ],
   "source": [
    "import re\n",
    "\n",
    "def password_validator(password):\n",
    "    \"\"\"\n",
    "    This function checks the validity of a password\n",
    "    \"\"\"\n",
    "    special_chars ='[@_!#$%^&*()<>?/\\|}{~:]'\n",
    "    count_upper_chars=0\n",
    "    count_lower_chars=0\n",
    "    count_numerics=0\n",
    "    count_special_chars=0\n",
    "\n",
    "    for each_letter in password:\n",
    "        if each_letter.isupper()==True:\n",
    "            count_upper_chars+=1\n",
    "        if each_letter.islower()==True:\n",
    "            count_lower_chars+=1\n",
    "        if each_letter.isnumeric()==True:\n",
    "            count_numerics+=1\n",
    "        if each_letter in special_chars:\n",
    "            count_special_chars+=1\n",
    "\n",
    "    if count_upper_chars>=2 and count_lower_chars>=2 and count_numerics>=1 and count_special_chars>=3 and len(password)>=10:\n",
    "        print('Valid Password')\n",
    "    else:\n",
    "        print('Invalid Password\\n')\n",
    "        print(f\"Number of upper-case letters in password: {count_upper_chars}\")\n",
    "        print(f\"Number of lower-case letters in password: {count_lower_chars}\")\n",
    "        print(f\"Number of numeric letters in password: {count_numerics}\")\n",
    "        print(f\"Number of special characters in password: {count_special_chars}\")\n",
    "        print(f\"Length of password: {len(password)}\")\n",
    "password = input(\"Enter Password: \")\n",
    "password_validator(password)"
   ]
  },
  {
   "cell_type": "markdown",
   "id": "c540c2f4-a709-445d-9fed-a8b2f813f26a",
   "metadata": {},
   "source": [
    "Q2. Solve the below-given questions using at least one of the following:\n",
    "\n",
    "(Lambda Function, Filter Function, Map Function, List Comprehension)\n",
    "\n",
    "1. Check if the string starts with a particular letter.\n",
    "2. Check if the string is numeric.\n",
    "3. Sort a list of tuples having fruit names and their quantity. [(\"mango\",99),(\"orange\",80), (\"grapes\",1000)]\n",
    "4. Find the squares of numbers from 1 to 10\n",
    "5. Find the cube root of numbers from 1 to 10\n",
    "6. Check if a given number is even.\n",
    "7. Filter odd numbers from the given list. [1,2,3,4,5,6,7,8,9,10]\n",
    "8. Sort a list of integers into positive and negative integer lists. \n",
    "[1, 2, 3, 4, 5, 6, -1, -2, -3, -4, -5, 0]"
   ]
  },
  {
   "cell_type": "code",
   "execution_count": 13,
   "id": "94b8dcc0-0aba-457c-8ca4-3d4e8ed25634",
   "metadata": {},
   "outputs": [
    {
     "name": "stdin",
     "output_type": "stream",
     "text": [
      "Enter a string to match: #MeToo\n"
     ]
    },
    {
     "name": "stdout",
     "output_type": "stream",
     "text": [
      "String starts with particular letter: True\n"
     ]
    }
   ],
   "source": [
    "#1. Check if the string starts with a particular letter.\n",
    "\n",
    "char = '#'\n",
    "string = input(\"Enter a string to match:\")\n",
    "starts_with = True if string.startswith(char)==True else False\n",
    "print(\"String starts with particular letter:\",starts_with)"
   ]
  },
  {
   "cell_type": "code",
   "execution_count": 16,
   "id": "1021bc73-b571-40b2-a28b-f556540dd8b1",
   "metadata": {},
   "outputs": [
    {
     "name": "stdin",
     "output_type": "stream",
     "text": [
      "Enter a string: I'm over 18\n"
     ]
    },
    {
     "name": "stdout",
     "output_type": "stream",
     "text": [
      "String is numeric: True\n"
     ]
    }
   ],
   "source": [
    "#2. Check if the string is numeric.\n",
    "\n",
    "input_string = input(\"Enter a string:\")\n",
    "is_numeric = any(list(map(lambda x: x.isnumeric(), input_string)))\n",
    "print('String is numeric:',is_numeric)"
   ]
  },
  {
   "cell_type": "code",
   "execution_count": 8,
   "id": "e75a8fd3-3845-450d-a108-a64ae5bcf155",
   "metadata": {},
   "outputs": [
    {
     "data": {
      "text/plain": [
       "[('orange', 80), ('mango', 99), ('grapes', 1000)]"
      ]
     },
     "execution_count": 8,
     "metadata": {},
     "output_type": "execute_result"
    }
   ],
   "source": [
    "#3. Sort a list of tuples having fruit names and their quantity.\n",
    "\n",
    "list_of_tuples = [('mango',99),('orange',80),('grapes',1000)]\n",
    "sorted(list_of_tuples, key=lambda x: x[1])"
   ]
  },
  {
   "cell_type": "code",
   "execution_count": 9,
   "id": "6fab3d34-6a63-4a8e-84ae-6a6d26fe01d0",
   "metadata": {},
   "outputs": [
    {
     "data": {
      "text/plain": [
       "[0, 1, 4, 9, 16, 25, 36, 49, 64, 81, 100]"
      ]
     },
     "execution_count": 9,
     "metadata": {},
     "output_type": "execute_result"
    }
   ],
   "source": [
    "#4. Find the squares of numbers from 1 to 10.\n",
    "\n",
    "list_of_nums = list(range(11))\n",
    "list(map(lambda input_list: input_list**2, list_of_nums))"
   ]
  },
  {
   "cell_type": "code",
   "execution_count": 10,
   "id": "f2812247-45cd-4c2e-9015-33ebcea1ee10",
   "metadata": {},
   "outputs": [
    {
     "data": {
      "text/plain": [
       "[0.0,\n",
       " 1.0,\n",
       " 1.2599210498948734,\n",
       " 1.4422495703074083,\n",
       " 1.5874010519681996,\n",
       " 1.7099759466766968,\n",
       " 1.8171205928321394,\n",
       " 1.9129311827723894,\n",
       " 2.0,\n",
       " 2.080083823051904,\n",
       " 2.1544346900318834]"
      ]
     },
     "execution_count": 10,
     "metadata": {},
     "output_type": "execute_result"
    }
   ],
   "source": [
    "#5. Find the cube root of numbers from 1 to 10.\n",
    "\n",
    "import numpy as np\n",
    "list_of_nums = list(range(11))\n",
    "list(map(lambda input_list: np.cbrt(input_list), list_of_nums))"
   ]
  },
  {
   "cell_type": "code",
   "execution_count": 17,
   "id": "084b020a-5709-4d08-aa46-3e7e6340b295",
   "metadata": {},
   "outputs": [
    {
     "name": "stdin",
     "output_type": "stream",
     "text": [
      "Enter a number: 24\n"
     ]
    },
    {
     "name": "stdout",
     "output_type": "stream",
     "text": [
      "True\n"
     ]
    }
   ],
   "source": [
    "#6. Check if a given number is even.\n",
    "\n",
    "n = int(input(\"Enter a number:\"))\n",
    "even = lambda x: True if x%2==0 else False\n",
    "print(even(n))"
   ]
  },
  {
   "cell_type": "code",
   "execution_count": 18,
   "id": "9479f503-a373-4878-90dc-70a4d409ad06",
   "metadata": {},
   "outputs": [
    {
     "data": {
      "text/plain": [
       "[1, 3, 5, 7, 9]"
      ]
     },
     "execution_count": 18,
     "metadata": {},
     "output_type": "execute_result"
    }
   ],
   "source": [
    "#7. Filter odd numbers from the given list.\n",
    "\n",
    "list_of_nums=list(range(11))\n",
    "list(filter(lambda input_list:input_list%2!=0, list_of_nums))"
   ]
  },
  {
   "cell_type": "code",
   "execution_count": 19,
   "id": "48161c4d-8386-4231-b883-9a8180daa51a",
   "metadata": {},
   "outputs": [
    {
     "name": "stdout",
     "output_type": "stream",
     "text": [
      "[1, 2, 3, 4, 5, 6, 0] [-1, -2, -3, -4, -5]\n"
     ]
    }
   ],
   "source": [
    "#8. Sort a list of integers into positive and negative integers lists.\n",
    "\n",
    "given_list = [1,2,3,4,5,6,-1,-2,-3,-4,-5,0]\n",
    "pos_list=[each_element for each_element in given_list if each_element>=0]\n",
    "neg_list=[each_element for each_element in given_list if each_element<0]\n",
    "print(pos_list,neg_list)"
   ]
  }
 ],
 "metadata": {
  "kernelspec": {
   "display_name": "Python 3 (ipykernel)",
   "language": "python",
   "name": "python3"
  },
  "language_info": {
   "codemirror_mode": {
    "name": "ipython",
    "version": 3
   },
   "file_extension": ".py",
   "mimetype": "text/x-python",
   "name": "python",
   "nbconvert_exporter": "python",
   "pygments_lexer": "ipython3",
   "version": "3.10.8"
  }
 },
 "nbformat": 4,
 "nbformat_minor": 5
}
