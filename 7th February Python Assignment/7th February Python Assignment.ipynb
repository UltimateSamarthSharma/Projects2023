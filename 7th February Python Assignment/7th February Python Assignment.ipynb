{
 "cells": [
  {
   "cell_type": "markdown",
   "id": "4c16650a-d0a6-408e-9b5f-fbc470e6084f",
   "metadata": {},
   "source": [
    "Q1. You are writing code for a company. The requirement of the company is that you create a python function that will check whether the password entered by the user is correct or not. The function should take the password as input and return the string “Valid Password” if the entered password follows the below-given password guidelines else it should return “Invalid Password”.\n",
    "\n",
    "Note:\n",
    "1. The Password should contain at least two uppercase letters and at least two lowercase letters.\n",
    "2. The Password should contain at least a number and three special characters.\n",
    "3. The length of the password should be 10 characters long."
   ]
  },
  {
   "cell_type": "code",
   "execution_count": null,
   "id": "6c23bcba-c12e-40de-8424-2f6dabe3a488",
   "metadata": {},
   "outputs": [],
   "source": [
    "l, u, p, d = 0, 0, 0, 0\n",
    "name = input(\"Enter Name:\")\n",
    "password = input(\"Enter Password:\")\n",
    "if (len(password) >= 10):\n",
    "    for i in password:\n",
    "        if (i.islower()):\n",
    "            l+=1\n",
    "        if (i.isupper()):\n",
    "            u+=1\n",
    "        if (i.isdigit()):\n",
    "            d+=1\n",
    "        if(i=='@'or i=='#' or i=='_'):\n",
    "            p+=1          \n",
    "if (l>=2 and u>=2 and p>=1 and d>=1 and l+p+u+d==len(password)):\n",
    "    print(\"Valid Password\")\n",
    "else:\n",
    "    print(\"Invalid Password\")"
   ]
  },
  {
   "cell_type": "markdown",
   "id": "c540c2f4-a709-445d-9fed-a8b2f813f26a",
   "metadata": {},
   "source": [
    "Q2. Solve the below-given questions using at least one of the following:\n",
    "\n",
    "(Lambda Function, Filter Function, Map Function, List Comprehension)\n",
    "\n",
    "1. Check if the string starts with a particular letter.\n",
    "2. Check if the string is numeric.\n",
    "3. Sort a list of tuples having fruit names and their quantity. [(\"mango\",99),(\"orange\",80), (\"grapes\",1000)]\n",
    "4. Find the squares of numbers from 1 to 10\n",
    "5. Find the cube root of numbers from 1 to 10\n",
    "6. Check if a given number is even.\n",
    "7. Filter odd numbers from the given list. [1,2,3,4,5,6,7,8,9,10]\n",
    "8. Sort a list of integers into positive and negative integer lists. \n",
    "[1, 2, 3, 4, 5, 6, -1, -2, -3, -4, -5, 0]"
   ]
  },
  {
   "cell_type": "code",
   "execution_count": 9,
   "id": "94b8dcc0-0aba-457c-8ca4-3d4e8ed25634",
   "metadata": {},
   "outputs": [
    {
     "name": "stdin",
     "output_type": "stream",
     "text": [
      "Enter a prefix character or string: P\n",
      "Enter a string to match: Python\n"
     ]
    },
    {
     "name": "stdout",
     "output_type": "stream",
     "text": [
      "True\n"
     ]
    }
   ],
   "source": [
    "#1. Check if the string starts with a particular letter.\n",
    "\n",
    "char = input(\"Enter a prefix character or string:\")\n",
    "string = input(\"Enter a string to match:\")\n",
    "starts_with = lambda x: True if x.startswith(char) else False\n",
    "print(starts_with(string))"
   ]
  },
  {
   "cell_type": "code",
   "execution_count": 11,
   "id": "1021bc73-b571-40b2-a28b-f556540dd8b1",
   "metadata": {},
   "outputs": [
    {
     "name": "stdin",
     "output_type": "stream",
     "text": [
      "Enter a string: I'm 25 years old.\n"
     ]
    },
    {
     "name": "stdout",
     "output_type": "stream",
     "text": [
      "True\n"
     ]
    }
   ],
   "source": [
    "#2. Check if the string is numeric.\n",
    "\n",
    "input_string = input(\"Enter a string:\")\n",
    "is_numeric = any(list(map(lambda x: x.isnumeric(), input_string)))\n",
    "print(is_numeric)"
   ]
  },
  {
   "cell_type": "code",
   "execution_count": 12,
   "id": "e75a8fd3-3845-450d-a108-a64ae5bcf155",
   "metadata": {},
   "outputs": [
    {
     "name": "stdout",
     "output_type": "stream",
     "text": [
      "List Before Sort:\n",
      "[('mango', 99), ('orange', 80), ('grapes', 1000)]\n",
      " \n",
      "List After Sort:\n",
      "[('orange', 80), ('mango', 99), ('grapes', 1000)]\n"
     ]
    }
   ],
   "source": [
    "#3. Sort a list of tuples having fruit names and their quantity.\n",
    "\n",
    "data = [(\"mango\",99),(\"orange\",80), (\"grapes\", 1000)]\n",
    "print(\"List Before Sort:\")\n",
    "print(data)\n",
    "print(\" \")\n",
    "data.sort(key = lambda x: x[1])\n",
    "print(\"List After Sort:\")\n",
    "print(data)"
   ]
  },
  {
   "cell_type": "code",
   "execution_count": 13,
   "id": "6fab3d34-6a63-4a8e-84ae-6a6d26fe01d0",
   "metadata": {},
   "outputs": [
    {
     "name": "stdout",
     "output_type": "stream",
     "text": [
      "Original list of integers:\n",
      "[1, 2, 3, 4, 5, 6, 7, 8, 9, 10]\n",
      "\n",
      "Square every number of the said list:\n",
      "[1, 4, 9, 16, 25, 36, 49, 64, 81, 100]\n"
     ]
    }
   ],
   "source": [
    "#4. Find the squares of numbers from 1 to 10.\n",
    "\n",
    "nums = [1, 2, 3, 4, 5, 6, 7, 8, 9, 10]\n",
    "print(\"Original list of integers:\")\n",
    "print(nums)\n",
    "print(\"\\nSquare every number of the said list:\")\n",
    "square_nums = list(map(lambda x: x ** 2, nums))\n",
    "print(square_nums)"
   ]
  },
  {
   "cell_type": "code",
   "execution_count": 14,
   "id": "f2812247-45cd-4c2e-9015-33ebcea1ee10",
   "metadata": {},
   "outputs": [
    {
     "name": "stdout",
     "output_type": "stream",
     "text": [
      "Original list of integers:\n",
      "[1, 8, 27, 64, 125, 216, 343, 512, 729, 1000]\n",
      "\n",
      "Cube Roots:\n",
      "[1.0, 2.0, 3.0, 4.0, 5.0, 6.0, 7.0, 8.0, 9.0, 10.0]\n"
     ]
    }
   ],
   "source": [
    "#5. Find the cube root of numbers from 1 to 10.\n",
    "\n",
    "num = [1, 8, 27, 64, 125, 216, 343, 512, 729, 1000]\n",
    "print(\"Original list of integers:\")\n",
    "print(num)\n",
    "print(\"\\nCube Roots:\")\n",
    "cube_root = list(map(lambda x: round(x ** (1/3), 0), num))\n",
    "print(cube_root)"
   ]
  },
  {
   "cell_type": "code",
   "execution_count": 15,
   "id": "084b020a-5709-4d08-aa46-3e7e6340b295",
   "metadata": {},
   "outputs": [
    {
     "name": "stdin",
     "output_type": "stream",
     "text": [
      "Enter a number: 24\n"
     ]
    },
    {
     "name": "stdout",
     "output_type": "stream",
     "text": [
      "True\n"
     ]
    }
   ],
   "source": [
    "#6. Check if a given number is even.\n",
    "\n",
    "n = int(input(\"Enter a number:\"))\n",
    "even = lambda x: True if x%2==0 else False\n",
    "print(even(n))"
   ]
  },
  {
   "cell_type": "code",
   "execution_count": 16,
   "id": "9479f503-a373-4878-90dc-70a4d409ad06",
   "metadata": {},
   "outputs": [
    {
     "name": "stdout",
     "output_type": "stream",
     "text": [
      "[1, 3, 5, 7, 9]\n"
     ]
    }
   ],
   "source": [
    "#7. Filter odd numbers from the given list.\n",
    "\n",
    "list1 = [1, 2, 3, 4, 5, 6, 7, 8, 9, 10]\n",
    "def is_odd(x): return x % 2 != 0\n",
    "odd_list = list(filter(is_odd, list1))\n",
    "print(odd_list)"
   ]
  },
  {
   "cell_type": "code",
   "execution_count": 17,
   "id": "48161c4d-8386-4231-b883-9a8180daa51a",
   "metadata": {},
   "outputs": [
    {
     "name": "stdout",
     "output_type": "stream",
     "text": [
      "The original list is : [1, 2, 3, 4, 5, 6, -1, -2, -3, -4, -5, 0]\n",
      "Result after performing sort operation : [0, 1, 2, 3, 4, 5, 6, -5, -4, -3, -2, -1]\n"
     ]
    }
   ],
   "source": [
    "#8a. Sort a list of integers into positive and negative integers lists using list comprehension.\n",
    "\n",
    "test_list = [1, 2, 3, 4, 5, 6, -1, -2, -3, -4, -5, 0]\n",
    "print(\"The original list is : \" + str(test_list))\n",
    "positive_nums = [x for x in test_list if x >= 0]\n",
    "negative_nums = [x for x in test_list if x < 0]\n",
    "positive_nums.sort()\n",
    "negative_nums.sort()\n",
    "res = positive_nums + negative_nums\n",
    "print(\"Result after performing sort operation : \" + str(res))"
   ]
  },
  {
   "cell_type": "code",
   "execution_count": 18,
   "id": "6061de51-5b00-4015-9a1f-1042182a09f2",
   "metadata": {},
   "outputs": [
    {
     "name": "stdout",
     "output_type": "stream",
     "text": [
      "The original list is : [1, 2, 3, 4, 5, 6, -1, -2, -3, -4, -5, 0]\n",
      "Result after performing sort operation : [1, 2, 3, 4, 5, 6, -5, -4, -3, -2, -1]\n"
     ]
    }
   ],
   "source": [
    "#8b. Sort a list of integers into positive and negative integers lists using lambda & filter functions.\n",
    "\n",
    "test_list = [1, 2, 3, 4, 5, 6, -1, -2, -3, -4, -5, 0]\n",
    "print(\"The original list is : \" + str(test_list))\n",
    "res = sorted(filter(lambda x: x > 0, test_list)) + sorted(filter(lambda x: x < 0, test_list))\n",
    "print(\"Result after performing sort operation : \" + str(res))"
   ]
  }
 ],
 "metadata": {
  "kernelspec": {
   "display_name": "Python 3 (ipykernel)",
   "language": "python",
   "name": "python3"
  },
  "language_info": {
   "codemirror_mode": {
    "name": "ipython",
    "version": 3
   },
   "file_extension": ".py",
   "mimetype": "text/x-python",
   "name": "python",
   "nbconvert_exporter": "python",
   "pygments_lexer": "ipython3",
   "version": "3.10.8"
  }
 },
 "nbformat": 4,
 "nbformat_minor": 5
}
