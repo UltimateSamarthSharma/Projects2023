{
 "cells": [
  {
   "cell_type": "markdown",
   "id": "c3822d03-aea9-48bc-896d-07d3ff2f2abb",
   "metadata": {},
   "source": [
    "Q1. What is Abstraction in OOPS? Explain with an example."
   ]
  },
  {
   "cell_type": "markdown",
   "id": "3e6a48e9-5a5c-4270-96ed-a9a7dc35eab0",
   "metadata": {},
   "source": [
    "Data abstraction is one of the most significant and crucial features of object-oriented programming. Abstraction refers to revealing only the most essential information while hiding the details. Data abstraction refers to exposing only the most essential aspects of the data to the outside world while hiding the implementation details.\n",
    "\n",
    "Consider an example of a man driving a car. The man only knows that pressing the accelerators will increase the car's speed and that applying the brakes will stop it. Still, he has no idea how the speed is increased by pressing the accelerators, nor does he understand the car's inner mechanism or how the accelerator, brakes, and other controls are implemented. This is precisely what Abstraction is."
   ]
  },
  {
   "cell_type": "markdown",
   "id": "5573199b-df4a-4bdf-b4d6-24ef730b104f",
   "metadata": {},
   "source": [
    "Q2. Differentiate between Abstraction and Encapsulation. Explain with an example."
   ]
  },
  {
   "cell_type": "markdown",
   "id": "d2e9c8fb-1698-42e3-849f-471cf7452e34",
   "metadata": {},
   "source": [
    "Abstraction in Object-Oriented Programming\n",
    "\n",
    "The literal meaning of the word abstract is things that summarize or concentrate the essentials of a bigger thing or several things. In the Abstraction process, we try and obtain an abstract view, model, or structure of a true-life problem and reduce its unnecessary details. With definition of properties of problems, including the info which are affected and therefore the operations which are identified, the model abstracted from problems may be a customary solution to the present kind of problems. It's an efficient way since there are nebulous real-life problems that have similar properties. In simple terms, it's hiding the unnecessary details & showing only the essential parts/functionalities to the user.\n",
    "\n",
    "For example, you have all the info of citizens of a country like their name, age, gender, favorite movie, favorite food, etc. You're asked to arrange a chart mentioning the total number of females, males, age, and full name. During this case, you merely need three data, and the rest all the information doesn't seem to be of any use. So, this process of choosing useful data and hiding unwanted data is abstraction."
   ]
  },
  {
   "cell_type": "markdown",
   "id": "97464108-805b-4105-8961-dd984a7bd8fa",
   "metadata": {},
   "source": [
    "Encapsulation in Object-Oriented Programming\n",
    "\n",
    "Encapsulation is a method of making a complex system easier to handle for end users. Encapsulation is the process of mixing data and functions into one single unit called class. In Encapsulation, one cannot access the information directly; it can only be accessed using the functions present within the class. In simple words, attributes of the class are kept private, and public getter and setter methods are provided to govern these attributes. Encapsulation makes the concept of knowledge hiding possible. In simple terms, encapsulation offers a protective shield around the data, and therefore, the code which doesn't allow random access of code outside the shield.\n",
    "\n",
    "For example, a bag encapsulates your book, pen, etc, and you'll be able to only access any stuff inside it. Also, a capsule encapsulates several combinations of medicine, which represents their variables and methods, and the entire capsule will act as a class."
   ]
  },
  {
   "cell_type": "markdown",
   "id": "6e813b55-214d-4d6b-9dec-55fc70715314",
   "metadata": {},
   "source": [
    "Q3. What is abc module in python? Why is it used?"
   ]
  },
  {
   "cell_type": "markdown",
   "id": "3747a37b-eb54-4b3e-bd0c-b136ab2c760a",
   "metadata": {},
   "source": [
    "In Python, abstract base classes (abc module) provide a blueprint for concrete classes. They don’t contain implementation. Instead, they provide an interface and make sure that derived concrete classes are properly implemented. Abstract base classes cannot be instantiated. Instead, they are inherited and extended by the concrete subclasses. Also, their subclasses are derived from a specific abstract base class must implement the methods and properties provided in that abstract base class. The main goal of the abstract base class is to provide a standardized way to test whether an object adheres to a given specification. It can also prevent any attempt to instantiate a subclass that doesn’t override a particular method in the superclass. And finally, using an abstract class, a class can derive identity from another class without any object inheritance."
   ]
  },
  {
   "cell_type": "markdown",
   "id": "61df9805-a1bc-4bd4-865e-6aab312e8a48",
   "metadata": {},
   "source": [
    "Q4. How can we achieve data abstraction?"
   ]
  },
  {
   "cell_type": "markdown",
   "id": "288d6358-e69e-4661-935b-3128962f26d6",
   "metadata": {},
   "source": [
    "Data Abstraction in Python can be achieved through creating abstract classes, interfaces and inheriting them later. Before discussing what abstract classes are, let us have a brief introduction of inheritance. Inheritance is a technique, mainly used in Object-Oriented Programming (OOPS), in which one class inherits the attributes and methods of another class.\n",
    "\n",
    "A class that consists of one or more abstract method is called the abstract class. Abstract methods do not contain their implementation, but, it can be inherited by the subclass and abstract method gets its definition in the subclass. Abstract classes are meant to be the blueprint of the other class. An abstract class can be useful when we are designing large functions. Also, it provides the standard interface for the different implementations of components."
   ]
  },
  {
   "cell_type": "markdown",
   "id": "26bcd963-68de-4f2b-a4c0-1955e5dc56fd",
   "metadata": {},
   "source": [
    "Q5. Can we create an instance of an abstract class? Explain your answer."
   ]
  },
  {
   "cell_type": "markdown",
   "id": "2a210f80-1127-482d-ae9d-7abfc73a4ae6",
   "metadata": {},
   "source": [
    "No, we can't create an instance of an abstract class. However, an abstract class must be subclassed. When an abstract class is subclassed, the subclass usually provides implementations for all of the abstract methods in its parent class. However, if it does not, then the subclass must also be declared abstract, which includes some abstract methods. Also, we can't create an object of an abstract class. But we can create a reference variable of an abstract class. The reference variable is used to refer to the objects of derived classes, that is, subclasses of an abstract class."
   ]
  }
 ],
 "metadata": {
  "kernelspec": {
   "display_name": "Python 3 (ipykernel)",
   "language": "python",
   "name": "python3"
  },
  "language_info": {
   "codemirror_mode": {
    "name": "ipython",
    "version": 3
   },
   "file_extension": ".py",
   "mimetype": "text/x-python",
   "name": "python",
   "nbconvert_exporter": "python",
   "pygments_lexer": "ipython3",
   "version": "3.10.8"
  }
 },
 "nbformat": 4,
 "nbformat_minor": 5
}
