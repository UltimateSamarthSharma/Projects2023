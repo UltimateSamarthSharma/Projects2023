{
 "cells": [
  {
   "cell_type": "markdown",
   "id": "0f42f493-7b21-4b2f-8634-a0728eaee0a0",
   "metadata": {},
   "source": [
    "Q1, Create a vehicle class with an init method having instance variables as name_of_vehicle, max_speed and average_of_vehicle."
   ]
  },
  {
   "cell_type": "code",
   "execution_count": 1,
   "id": "d7223d72-d1a0-4593-8f9f-a52db17be8df",
   "metadata": {},
   "outputs": [],
   "source": [
    "class vehicle:\n",
    "    def __init__(self, name_of_vehicle, max_speed, average_of_vehicle):\n",
    "        self.name_of_vehicle = name_of_vehicle\n",
    "        self.max_speed = max_speed\n",
    "        self.average_of = average_of_vehicle"
   ]
  },
  {
   "cell_type": "markdown",
   "id": "4468ba9b-ef9c-48a1-b62b-f3b0ac0b28a1",
   "metadata": {},
   "source": [
    "Q2. Create a child class car from the vehicle class created in Q1, which will inherit the vehicle class. Create a method named seating_capacity which takes capacity as an argument and returns the name of the vehicle and its seating capacity."
   ]
  },
  {
   "cell_type": "code",
   "execution_count": 2,
   "id": "42c59a35-af6c-471d-acd4-c932019582d7",
   "metadata": {},
   "outputs": [
    {
     "data": {
      "text/plain": [
       "('Toyota', 6)"
      ]
     },
     "execution_count": 2,
     "metadata": {},
     "output_type": "execute_result"
    }
   ],
   "source": [
    "class car(vehicle):\n",
    "    def seating_capacity(self, capacity):\n",
    "        return self.name_of_vehicle, capacity\n",
    "child_obj = car('Toyota', 120, 70)\n",
    "child_obj.seating_capacity(6)"
   ]
  },
  {
   "cell_type": "markdown",
   "id": "d21ba4ad-0885-476c-a116-27d5dbea0130",
   "metadata": {},
   "source": [
    "Q3. What is multiple inheritance? Write a python code to demonstrate multiple inheritance."
   ]
  },
  {
   "cell_type": "markdown",
   "id": "0e7b7ede-95bb-42d3-af60-7a749deb80f6",
   "metadata": {},
   "source": [
    "A class can be derived from more than one superclass in Python. This is called multiple inheritance. For example:"
   ]
  },
  {
   "cell_type": "code",
   "execution_count": 4,
   "id": "9980fd1d-0bbe-4ff2-9684-e08a3900d9e9",
   "metadata": {},
   "outputs": [],
   "source": [
    "class super_class1:\n",
    "    def class1_func(self):\n",
    "        return 'this is method of class 1'\n",
    "class super_class2:\n",
    "    def class2_func(self):\n",
    "        return 'this is method of class 2'\n",
    "class sub_class(super_class1, super_class2):\n",
    "    pass\n",
    "subclass_obj = sub_class()"
   ]
  },
  {
   "cell_type": "code",
   "execution_count": 6,
   "id": "fe0bfb4d-70dc-4063-8172-a635996050e5",
   "metadata": {},
   "outputs": [
    {
     "data": {
      "text/plain": [
       "'this is method of class 1'"
      ]
     },
     "execution_count": 6,
     "metadata": {},
     "output_type": "execute_result"
    }
   ],
   "source": [
    "subclass_obj.class1_func()"
   ]
  },
  {
   "cell_type": "code",
   "execution_count": 7,
   "id": "c1d41f24-5216-4513-844d-1704e3958d1c",
   "metadata": {},
   "outputs": [
    {
     "data": {
      "text/plain": [
       "'this is method of class 2'"
      ]
     },
     "execution_count": 7,
     "metadata": {},
     "output_type": "execute_result"
    }
   ],
   "source": [
    "subclass_obj.class2_func()"
   ]
  },
  {
   "cell_type": "markdown",
   "id": "f04c0675-6de5-422c-b6e7-b92c13d94da6",
   "metadata": {},
   "source": [
    "Q4. What are getter and setter in python? Create a class and create a getter and a setter method in this class."
   ]
  },
  {
   "cell_type": "markdown",
   "id": "afd044ac-912d-41b8-9a33-86019d8b7fd4",
   "metadata": {},
   "source": [
    "We use getters and setters in Python to restrict or to hide an attribute or attirbutes to make it private and define methods such as getters and setters to manipulate these variables. For example:"
   ]
  },
  {
   "cell_type": "code",
   "execution_count": 11,
   "id": "10329c72-a2da-4032-8f4b-375b4a6060a5",
   "metadata": {},
   "outputs": [],
   "source": [
    "class ExampleClass:\n",
    "    def __init__ (self, some_value):\n",
    "        self.__some_value = some_value\n",
    "    #getter method\n",
    "    def get_value(self):\n",
    "        return self.__some_value\n",
    "    #setter method\n",
    "    def set_value(self,some_value):\n",
    "        self.__some_value = 0 if some_value<0 else some_value"
   ]
  },
  {
   "cell_type": "code",
   "execution_count": 12,
   "id": "5b83d429-69b4-467e-b8ea-00c68814e7e0",
   "metadata": {},
   "outputs": [
    {
     "data": {
      "text/plain": [
       "22"
      ]
     },
     "execution_count": 12,
     "metadata": {},
     "output_type": "execute_result"
    }
   ],
   "source": [
    "obj = ExampleClass(22)\n",
    "obj.get_value()"
   ]
  },
  {
   "cell_type": "code",
   "execution_count": 13,
   "id": "1ed4c755-3600-4fec-9b8a-cb76d67eccf2",
   "metadata": {},
   "outputs": [
    {
     "data": {
      "text/plain": [
       "95"
      ]
     },
     "execution_count": 13,
     "metadata": {},
     "output_type": "execute_result"
    }
   ],
   "source": [
    "obj.set_value(95)\n",
    "obj.get_value()"
   ]
  },
  {
   "cell_type": "markdown",
   "id": "33b49b63-70ee-49c9-b2c2-2e66d70919cc",
   "metadata": {},
   "source": [
    "Q5. What is method overriding in python? Write a python code to demonstrate method overriding."
   ]
  },
  {
   "cell_type": "markdown",
   "id": "ac1f2d39-43ac-4010-83fa-a9a2d96e1f5a",
   "metadata": {},
   "source": [
    "Method overriding is a feature of object-oriented programming languages where the subclass or child class can provide the program with specific characteristics or a specific implementation process of data provided that are already defined in the parent class or superclass. For example:"
   ]
  },
  {
   "cell_type": "code",
   "execution_count": 14,
   "id": "5b2f0ace-3da4-4d75-811c-22e429b55ce0",
   "metadata": {},
   "outputs": [],
   "source": [
    "class superclass:\n",
    "    def some_method(self):\n",
    "        return 'this is some_method from superclass'   \n",
    "class subclass(superclass):\n",
    "    def some_method(self):\n",
    "        return 'this is some_method from subclass'\n",
    "super_obj = superclass()\n",
    "sub_obj = subclass()"
   ]
  },
  {
   "cell_type": "code",
   "execution_count": 15,
   "id": "a050805e-9cda-4412-95d1-1150a1d7bb36",
   "metadata": {},
   "outputs": [
    {
     "data": {
      "text/plain": [
       "'this is some_method from superclass'"
      ]
     },
     "execution_count": 15,
     "metadata": {},
     "output_type": "execute_result"
    }
   ],
   "source": [
    "super_obj.some_method()"
   ]
  },
  {
   "cell_type": "code",
   "execution_count": 16,
   "id": "085252d2-bbbc-4925-bb24-888c3647138f",
   "metadata": {},
   "outputs": [
    {
     "data": {
      "text/plain": [
       "'this is some_method from subclass'"
      ]
     },
     "execution_count": 16,
     "metadata": {},
     "output_type": "execute_result"
    }
   ],
   "source": [
    "sub_obj.some_method()"
   ]
  },
  {
   "cell_type": "code",
   "execution_count": null,
   "id": "5fc2b066-54a0-4399-b568-7c0fde7950db",
   "metadata": {},
   "outputs": [],
   "source": []
  }
 ],
 "metadata": {
  "kernelspec": {
   "display_name": "Python 3 (ipykernel)",
   "language": "python",
   "name": "python3"
  },
  "language_info": {
   "codemirror_mode": {
    "name": "ipython",
    "version": 3
   },
   "file_extension": ".py",
   "mimetype": "text/x-python",
   "name": "python",
   "nbconvert_exporter": "python",
   "pygments_lexer": "ipython3",
   "version": "3.10.8"
  }
 },
 "nbformat": 4,
 "nbformat_minor": 5
}
