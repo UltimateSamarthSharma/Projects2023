{
 "cells": [
  {
   "cell_type": "code",
   "execution_count": 1,
   "id": "f4096034-1578-4567-ad7d-c73232503cf1",
   "metadata": {},
   "outputs": [
    {
     "name": "stdout",
     "output_type": "stream",
     "text": [
      "Example 1: [1, 3, 12, 0, 0]\n",
      "Example 2: [0]\n"
     ]
    }
   ],
   "source": [
    "def moveZeroes(nums):\n",
    "    # Initialize a variable to keep track of the current index\n",
    "    curr = 0\n",
    "\n",
    "    # Iterate over the array\n",
    "    for i in range(len(nums)):\n",
    "        # If the current element is not zero, swap it with the element at the current index\n",
    "        if nums[i] != 0:\n",
    "            nums[curr], nums[i] = nums[i], nums[curr]\n",
    "            curr += 1\n",
    "\n",
    "    return nums\n",
    "\n",
    "# Test cases\n",
    "nums1 = [0, 1, 0, 3, 12]\n",
    "print(\"Example 1:\",moveZeroes(nums1))  # Output: [1, 3, 12, 0, 0]\n",
    "\n",
    "nums2 = [0]\n",
    "print(\"Example 2:\",moveZeroes(nums2))  # Output: [0]"
   ]
  }
 ],
 "metadata": {
  "kernelspec": {
   "display_name": "Python 3 (ipykernel)",
   "language": "python",
   "name": "python3"
  },
  "language_info": {
   "codemirror_mode": {
    "name": "ipython",
    "version": 3
   },
   "file_extension": ".py",
   "mimetype": "text/x-python",
   "name": "python",
   "nbconvert_exporter": "python",
   "pygments_lexer": "ipython3",
   "version": "3.10.8"
  }
 },
 "nbformat": 4,
 "nbformat_minor": 5
}
