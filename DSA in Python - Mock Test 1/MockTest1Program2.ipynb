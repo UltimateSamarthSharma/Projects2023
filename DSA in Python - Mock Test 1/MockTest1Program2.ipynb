{
 "cells": [
  {
   "cell_type": "code",
   "execution_count": 1,
   "id": "fd8583bd-d19d-4d2d-9c56-45d3e29bcf53",
   "metadata": {},
   "outputs": [
    {
     "name": "stdout",
     "output_type": "stream",
     "text": [
      "Example 1: 0\n",
      "Example 2: 2\n",
      "Example 3: -1\n"
     ]
    }
   ],
   "source": [
    "def firstUniqChar(s):\n",
    "    # Create a frequency dictionary to count the occurrences of each character\n",
    "    freq = {}\n",
    "\n",
    "    # Traverse the string and count the occurrences of each character\n",
    "    for char in s:\n",
    "        freq[char] = freq.get(char, 0) + 1\n",
    "\n",
    "    # Find the index of the first non-repeating character\n",
    "    for i, char in enumerate(s):\n",
    "        if freq[char] == 1:\n",
    "            return i\n",
    "\n",
    "    # If no non-repeating character found, return -1\n",
    "    return -1\n",
    "\n",
    "# Test cases\n",
    "s1 = \"leetcode\"\n",
    "print(\"Example 1:\",firstUniqChar(s1))  # Output: 0\n",
    "\n",
    "s2 = \"loveleetcode\"\n",
    "print(\"Example 2:\",firstUniqChar(s2))  # Output: 2\n",
    "\n",
    "s3 = \"aabb\"\n",
    "print(\"Example 3:\",firstUniqChar(s3))  # Output: -1"
   ]
  }
 ],
 "metadata": {
  "kernelspec": {
   "display_name": "Python 3 (ipykernel)",
   "language": "python",
   "name": "python3"
  },
  "language_info": {
   "codemirror_mode": {
    "name": "ipython",
    "version": 3
   },
   "file_extension": ".py",
   "mimetype": "text/x-python",
   "name": "python",
   "nbconvert_exporter": "python",
   "pygments_lexer": "ipython3",
   "version": "3.10.8"
  }
 },
 "nbformat": 4,
 "nbformat_minor": 5
}
