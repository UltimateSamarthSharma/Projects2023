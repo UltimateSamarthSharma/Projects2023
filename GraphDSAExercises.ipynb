{
  "metadata": {
    "language_info": {
      "codemirror_mode": {
        "name": "python",
        "version": 3
      },
      "file_extension": ".py",
      "mimetype": "text/x-python",
      "name": "python",
      "nbconvert_exporter": "python",
      "pygments_lexer": "ipython3",
      "version": "3.8"
    },
    "kernelspec": {
      "name": "python",
      "display_name": "Python (Pyodide)",
      "language": "python"
    }
  },
  "nbformat_minor": 4,
  "nbformat": 4,
  "cells": [
    {
      "cell_type": "markdown",
      "source": "**Q1. Write a program in Python to implement Depth First Search (DFS) as well as Breadth First Search (BFS).**",
      "metadata": {}
    },
    {
      "cell_type": "code",
      "source": "from collections import defaultdict, deque\nclass Graph:\n    def __init__(self):\n        self.graph = defaultdict(list)\n    def add_edge(self, u, v):\n        self.graph[u].append(v)\n    def dfs_util(self, v, visited):\n        visited[v] = True\n        print(v, end=' ')\n        for neighbor in self.graph[v]:\n            if not visited[neighbor]:\n                self.dfs_util(neighbor, visited)\n    def depth_first_search(self, start_vertex):\n        visited = [False] * (max(self.graph) + 1)\n        self.dfs_util(start_vertex, visited)\n        print()\n    def breadth_first_search(self, start_vertex):\n        visited = [False] * (max(self.graph) + 1)\n        queue = deque()\n        queue.append(start_vertex)\n        visited[start_vertex] = True\n        while queue:\n            v = queue.popleft()\n            print(v, end=' ')\n            for neighbor in self.graph[v]:\n                if not visited[neighbor]:\n                    queue.append(neighbor)\n                    visited[neighbor] = True\n        print()\nif __name__ == \"__main__\":\n    graph = Graph()\n    graph.add_edge(0, 1)\n    graph.add_edge(0, 2)\n    graph.add_edge(1, 2)\n    graph.add_edge(2, 0)\n    graph.add_edge(2, 3)\n    graph.add_edge(3, 3)\n    print(\"Depth First Search (DFS) traversal:\")\n    graph.depth_first_search(2)\n    print()\n    print(\"Breadth First Search (BFS) traversal:\")\n    graph.breadth_first_search(2)",
      "metadata": {
        "trusted": true
      },
      "execution_count": 1,
      "outputs": [
        {
          "name": "stdout",
          "text": "Depth First Search (DFS) traversal:\n2 0 1 3 \n\nBreadth First Search (BFS) traversal:\n2 0 3 1 \n",
          "output_type": "stream"
        }
      ]
    },
    {
      "cell_type": "markdown",
      "source": "**Q2. Write a program in Python to implement Dijkstra's Algorithm.**",
      "metadata": {}
    },
    {
      "cell_type": "code",
      "source": "import heapq\ndef calculate_distances(graph, starting_vertex):\n    distances = {vertex: float('infinity') for vertex in graph}\n    distances[starting_vertex] = 0\n    pq = [(0, starting_vertex)]\n    while len(pq) > 0:\n        current_distance, current_vertex = heapq.heappop(pq)\n        if current_distance > distances[current_vertex]:\n            continue\n        for neighbor, weight in graph[current_vertex].items():\n            distance = current_distance + weight\n            if distance < distances[neighbor]:\n                distances[neighbor] = distance\n                heapq.heappush(pq, (distance, neighbor))\n    return distances\ndistances = {\n    'A': {'B': 2, 'C': 5, 'D': 2, 'E': 7, 'F': 50},\n    'B': {'C': 2, 'D': 1, 'E': 2, 'F':60},\n    'C': {'B': 3, 'E': 2, 'F': 90},\n    'D': {'E': 1, 'F': 3},\n    'E': {'D': 4, 'F': 4},\n    'F': {}}\nprint(calculate_distances(distances, 'A'))",
      "metadata": {
        "trusted": true
      },
      "execution_count": 2,
      "outputs": [
        {
          "name": "stdout",
          "text": "{'A': 0, 'B': 2, 'C': 4, 'D': 2, 'E': 3, 'F': 5}\n",
          "output_type": "stream"
        }
      ]
    },
    {
      "cell_type": "markdown",
      "source": "**Q3. Write a program in Python to implement Huffman Coding Algorithm.**",
      "metadata": {}
    },
    {
      "cell_type": "code",
      "source": "import heapq\nclass node:\n    def __init__(self, freq, symbol, left=None, right=None):\n        self.freq = freq\n        self.symbol = symbol\n        self.left = left\n        self.right = right\n        self.huff = ''\n    def __lt__(self, nxt):\n        return self.freq < nxt.freq\ndef printNodes(node, val=''):\n    newVal = val + str(node.huff)\n    if(node.left):\n        printNodes(node.left, newVal)\n    if(node.right):\n        printNodes(node.right, newVal)\n    if(not node.left and not node.right):\n        print(f\"{node.symbol} -> {newVal}\")\nchars = ['a', 'b', 'c', 'd', 'e', 'f']\nfreq = [5, 9, 12, 13, 16, 45]\nnodes = []\nfor x in range(len(chars)):\n    heapq.heappush(nodes, node(freq[x], chars[x]))\nwhile len(nodes) > 1:\n    left = heapq.heappop(nodes)\n    right = heapq.heappop(nodes)\n    left.huff = 0\n    right.huff = 1\n    newNode = node(left.freq+right.freq, left.symbol+right.symbol, left, right)\n    heapq.heappush(nodes, newNode)\nprintNodes(nodes[0])",
      "metadata": {
        "trusted": true
      },
      "execution_count": 3,
      "outputs": [
        {
          "name": "stdout",
          "text": "f -> 0\nc -> 100\nd -> 101\na -> 1100\nb -> 1101\ne -> 111\n",
          "output_type": "stream"
        }
      ]
    },
    {
      "cell_type": "markdown",
      "source": "**Q4. Write a program in Python to implement the Fractional Knapsack Problem.**",
      "metadata": {}
    },
    {
      "cell_type": "code",
      "source": "class Item:\n    def __init__(self, profit, weight):\n        self.profit = profit\n        self.weight = weight\ndef fractionalKnapsack(arr, M):\n    arr.sort(key = lambda x:(x.profit/x.weight), reverse=True)\n    print(\"Profit\",\"\\t\\t Weight\",\"\\t Relative Values\")\n    for item in arr:\n        print(item.profit,\"\\t\\t\",item.weight,\"\\t\\t\",item.profit/item.weight)\n    maxProfit = 0.0\n    for item in arr:\n        if item.weight <= M:\n            M -= item.weight\n            maxProfit += item.profit\n        else:\n            maxProfit += item.profit * M/item.weight\n            break\n    return maxProfit\nM = 37\narr = [Item(25, 5), Item(75, 10), Item(100, 12), Item(50, 4), Item(45, 7), Item(90, 9), Item(30, 3)]\nmaxProfit = fractionalKnapsack(arr, M)\nprint(\"\\nMaximum Profit using greedy algorithm is\", maxProfit)",
      "metadata": {
        "trusted": true
      },
      "execution_count": 4,
      "outputs": [
        {
          "name": "stdout",
          "text": "Profit \t\t Weight \t Relative Values\n50 \t\t 4 \t\t 12.5\n90 \t\t 9 \t\t 10.0\n30 \t\t 3 \t\t 10.0\n100 \t\t 12 \t\t 8.333333333333334\n75 \t\t 10 \t\t 7.5\n45 \t\t 7 \t\t 6.428571428571429\n25 \t\t 5 \t\t 5.0\n\nMaximum Profit using greedy algorithm is 337.5\n",
          "output_type": "stream"
        }
      ]
    }
  ]
}