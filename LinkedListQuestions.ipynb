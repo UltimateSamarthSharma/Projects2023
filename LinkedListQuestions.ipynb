{
 "cells": [
  {
   "cell_type": "markdown",
   "id": "9fc6befc-0dd1-4950-acd6-458bd9daef44",
   "metadata": {},
   "source": [
    "**Q1. Write a program in Python using the concept of Linked List, where a node is inserted:**<br><br>\n",
    "**1) At the front (or the start/beginning) of a Linked List**<br>\n",
    "**2) After a given node of a Linked List**<br>\n",
    "**3) At the end of a Linked List**"
   ]
  },
  {
   "cell_type": "code",
   "execution_count": 1,
   "id": "b2fb7275-1487-48cd-bcaa-4ec527b08850",
   "metadata": {},
   "outputs": [
    {
     "name": "stdout",
     "output_type": "stream",
     "text": [
      "10  9  8  12  "
     ]
    }
   ],
   "source": [
    "## At the front (or the start/beginning) of a Linked List\n",
    "class Node:\n",
    "    def __init__(self, data):\n",
    "        self.data = data\n",
    "        self.next = None\n",
    "class LinkedList:\n",
    "    def __init__(self):\n",
    "        self.head = None\n",
    "    def insertAtBeginning(self, new_data):\n",
    "        new_node = Node(new_data)\n",
    "        new_node.next = self.head\n",
    "        self.head = new_node\n",
    "    def printList(self):\n",
    "        temp = self.head\n",
    "        while temp:\n",
    "            print(str(temp.data)+\" \",end=\" \")\n",
    "            temp = temp.next\n",
    "llist = LinkedList()\n",
    "llist.insertAtBeginning(12)\n",
    "llist.insertAtBeginning(8)\n",
    "llist.insertAtBeginning(9)\n",
    "llist.insertAtBeginning(10)\n",
    "llist.printList()"
   ]
  },
  {
   "cell_type": "code",
   "execution_count": 2,
   "id": "f773ebfc-5be1-4a95-ab0e-c2bac388b035",
   "metadata": {},
   "outputs": [
    {
     "name": "stdout",
     "output_type": "stream",
     "text": [
      "Original Linked List\n",
      "12  8  9  10  16  14  \n",
      "Insertion after any node\n",
      "12  8  23  9  10  16  14  "
     ]
    }
   ],
   "source": [
    "## After a given node of a Linked List\n",
    "class Node:\n",
    "    def __init__(self, data):\n",
    "        self.data = data\n",
    "        self.next = None\n",
    "class LinkedList:\n",
    "    def __init__(self):\n",
    "        self.head = None\n",
    "    def insertAtEnd(self, new_data):\n",
    "        new_node = Node(new_data)\n",
    "        if self.head is None:\n",
    "            self.head = new_node\n",
    "            return\n",
    "        temp = self.head\n",
    "        while temp.next:\n",
    "            temp = temp.next\n",
    "        temp.next = new_node\n",
    "    def insertAfterNode(self, prev_node, new_data):\n",
    "        if prev_node is None:\n",
    "            print(\"Given node must be available inside the linked list\")\n",
    "            return\n",
    "        new_node = Node(new_data)\n",
    "        new_node.next = prev_node.next\n",
    "        prev_node.next = new_node\n",
    "    def printList(self):\n",
    "        temp = self.head\n",
    "        while temp:\n",
    "            print(str(temp.data)+\" \",end=\" \")\n",
    "            temp = temp.next\n",
    "llist = LinkedList()\n",
    "llist.insertAtEnd(12)\n",
    "llist.insertAtEnd(8)\n",
    "llist.insertAtEnd(9)\n",
    "llist.insertAtEnd(10)\n",
    "llist.insertAtEnd(16)\n",
    "llist.insertAtEnd(14)\n",
    "print(\"Original Linked List\")\n",
    "llist.printList()\n",
    "print()\n",
    "llist.insertAfterNode(llist.head.next, 23)\n",
    "print(\"Insertion after any node\")\n",
    "llist.printList()"
   ]
  },
  {
   "cell_type": "code",
   "execution_count": 3,
   "id": "e50630de-9378-47ac-a7c0-b673366f17a5",
   "metadata": {},
   "outputs": [
    {
     "name": "stdout",
     "output_type": "stream",
     "text": [
      "12  8  9  10  "
     ]
    }
   ],
   "source": [
    "## At the end of a Linked List\n",
    "class Node:\n",
    "    def __init__(self, data):\n",
    "        self.data = data\n",
    "        self.next = None\n",
    "class LinkedList:\n",
    "    def __init__(self):\n",
    "        self.head = None\n",
    "    def insertAtEnd(self, new_data):\n",
    "        new_node = Node(new_data)\n",
    "        if self.head is None:\n",
    "            self.head = new_node\n",
    "            return\n",
    "        temp = self.head\n",
    "        while temp.next:\n",
    "            temp = temp.next\n",
    "        temp.next = new_node\n",
    "    def printList(self):\n",
    "        temp = self.head\n",
    "        while temp:\n",
    "            print(str(temp.data)+\" \",end=\" \")\n",
    "            temp = temp.next\n",
    "llist = LinkedList()\n",
    "llist.insertAtEnd(12)\n",
    "llist.insertAtEnd(8)\n",
    "llist.insertAtEnd(9)\n",
    "llist.insertAtEnd(10)\n",
    "llist.printList()"
   ]
  },
  {
   "cell_type": "markdown",
   "id": "5fcfbb14-ba50-4df8-bba9-ac854af9127e",
   "metadata": {},
   "source": [
    "**Q2. Write a program in Python using the concept of Linked List, to implement searching of a node in a Linked List.**"
   ]
  },
  {
   "cell_type": "code",
   "execution_count": 4,
   "id": "358d1d1d-15f4-4b98-ad48-529ac600df96",
   "metadata": {},
   "outputs": [
    {
     "name": "stdout",
     "output_type": "stream",
     "text": [
      "12  8  9  10  13  18  20  \n",
      "22 is not found\n"
     ]
    }
   ],
   "source": [
    "## Time complexity for searching: O(n)\n",
    "class Node:\n",
    "    def __init__(self, data):\n",
    "        self.data = data\n",
    "        self.next = None\n",
    "class LinkedList:\n",
    "    def __init__(self):\n",
    "        self.head = None\n",
    "    def insertAtEnd(self, new_data):\n",
    "        ## creation of the new node\n",
    "        new_node = Node(new_data)\n",
    "        if self.head is None:\n",
    "            self.head = new_node\n",
    "            return\n",
    "        temp = self.head\n",
    "        while temp.next:\n",
    "            temp = temp.next\n",
    "        temp.next = new_node\n",
    "    def searchData(self, key):\n",
    "        temp = self.head\n",
    "        while temp:\n",
    "            if temp.data == key:\n",
    "                return True\n",
    "            temp = temp.next\n",
    "        return False\n",
    "    def printList(self):\n",
    "        temp = self.head\n",
    "        while temp:\n",
    "            print(str(temp.data)+\" \",end=\" \")\n",
    "            temp = temp.next\n",
    "llist = LinkedList()\n",
    "llist.insertAtEnd(12)\n",
    "llist.insertAtEnd(8)\n",
    "llist.insertAtEnd(9)\n",
    "llist.insertAtEnd(10)\n",
    "llist.insertAtEnd(13)\n",
    "llist.insertAtEnd(18)\n",
    "llist.insertAtEnd(20)\n",
    "llist.printList()\n",
    "print()\n",
    "key = 22\n",
    "if(llist.searchData(key)):\n",
    "    print(str(key)+\" is found\")\n",
    "else:\n",
    "    print(str(key)+\" is not found\")"
   ]
  },
  {
   "cell_type": "markdown",
   "id": "c9939879-c0e7-4540-86f5-97deeaeeb402",
   "metadata": {},
   "source": [
    "**Q3. Write a program in Python using the concept of Linked List, to implement deletion of a node in a Linked List.**"
   ]
  },
  {
   "cell_type": "code",
   "execution_count": 5,
   "id": "3b3ab72f-742e-41f7-9246-a5f136f26b63",
   "metadata": {},
   "outputs": [
    {
     "name": "stdout",
     "output_type": "stream",
     "text": [
      "Original Linked List\n",
      "12  8  9  10  14  16  \n",
      "Linked List after deletion\n",
      "12  8  9  10  16  "
     ]
    }
   ],
   "source": [
    "class Node:\n",
    "    def __init__(self, data):\n",
    "        self.data = data\n",
    "        self.next = None\n",
    "class LinkedList:\n",
    "    def __init__(self):\n",
    "        self.head = None\n",
    "    def insertAtEnd(self, new_data):\n",
    "        new_node = Node(new_data)\n",
    "        if self.head is None:\n",
    "            self.head = new_node\n",
    "            return\n",
    "        temp = self.head\n",
    "        while temp.next:\n",
    "            temp = temp.next\n",
    "        temp.next = new_node\n",
    "    def deleteNode(self, pos):\n",
    "        if self.head is None:\n",
    "            return\n",
    "        temp = self.head\n",
    "        for i in range(pos-1):\n",
    "            temp = temp.next\n",
    "            if temp is None:\n",
    "                return\n",
    "        next_ptr = temp.next.next\n",
    "        temp.next = None\n",
    "        temp.next = next_ptr\n",
    "    def printList(self):\n",
    "        temp = self.head\n",
    "        while temp:\n",
    "            print(str(temp.data)+\" \",end=\" \")\n",
    "            temp = temp.next\n",
    "llist = LinkedList()\n",
    "llist.insertAtEnd(12)\n",
    "llist.insertAtEnd(8)\n",
    "llist.insertAtEnd(9)\n",
    "llist.insertAtEnd(10)\n",
    "llist.insertAtEnd(14)\n",
    "llist.insertAtEnd(16)\n",
    "print(\"Original Linked List\")\n",
    "llist.printList()\n",
    "print()\n",
    "llist.deleteNode(4)\n",
    "print(\"Linked List after deletion\")\n",
    "llist.printList()"
   ]
  },
  {
   "cell_type": "markdown",
   "id": "50c39840-298c-4da4-bfac-e72f9ce82c0d",
   "metadata": {},
   "source": [
    "**Q4. Write a program in Python using the concept of Linked List, to implement the counting of all nodes in a Linked List.**"
   ]
  },
  {
   "cell_type": "code",
   "execution_count": 6,
   "id": "9679e85e-57c3-4848-8389-94be5c55e2ec",
   "metadata": {
    "tags": []
   },
   "outputs": [
    {
     "name": "stdout",
     "output_type": "stream",
     "text": [
      "12  8  9  10  13  16  19  22  29  \n",
      "Total number of nodes inside the linked list is: 9\n"
     ]
    }
   ],
   "source": [
    "class Node:\n",
    "    def __init__(self, data):\n",
    "        self.data = data\n",
    "        self.next = None\n",
    "class LinkedList:\n",
    "    def __init__(self):\n",
    "        self.head = None\n",
    "    def insertAtEnd(self, new_data):\n",
    "        new_node = Node(new_data)\n",
    "        if self.head is None:\n",
    "            self.head = new_node\n",
    "            return\n",
    "        temp = self.head\n",
    "        while temp.next:\n",
    "            temp = temp.next\n",
    "        temp.next = new_node\n",
    "    def findNumbernodes(self):\n",
    "        temp = self.head\n",
    "        count = 0\n",
    "        while temp:\n",
    "            count += 1\n",
    "            temp = temp.next\n",
    "        return count\n",
    "    def printList(self):\n",
    "        temp = self.head\n",
    "        while temp:\n",
    "            print(str(temp.data)+\" \",end=\" \")\n",
    "            temp = temp.next\n",
    "llist = LinkedList()\n",
    "llist.insertAtEnd(12)\n",
    "llist.insertAtEnd(8)\n",
    "llist.insertAtEnd(9)\n",
    "llist.insertAtEnd(10)\n",
    "llist.insertAtEnd(13)\n",
    "llist.insertAtEnd(16)\n",
    "llist.insertAtEnd(19)\n",
    "llist.insertAtEnd(22)\n",
    "llist.insertAtEnd(29)\n",
    "llist.printList()\n",
    "print()\n",
    "count = llist.findNumbernodes()\n",
    "print(\"Total number of nodes inside the linked list is:\", count)"
   ]
  },
  {
   "cell_type": "markdown",
   "id": "d09ceb9c-8b99-4e82-a935-c46132916cf0",
   "metadata": {},
   "source": [
    "**Q5. Write a program in Python to implement Floyd's Cycle Detection Algorithm.**"
   ]
  },
  {
   "cell_type": "code",
   "execution_count": 7,
   "id": "6553c39d-6d7a-4a08-b8b5-25087a03cef5",
   "metadata": {},
   "outputs": [
    {
     "name": "stdout",
     "output_type": "stream",
     "text": [
      "12  8  9  10  \n",
      "Detected the Loop inside the linked list\n"
     ]
    }
   ],
   "source": [
    "class Node:\n",
    "    def __init__(self, data):\n",
    "        self.data = data\n",
    "        self.next = None\n",
    "class LinkedList:\n",
    "    def __init__(self):\n",
    "        self.head = None\n",
    "    def insertAtEnd(self, new_data):\n",
    "        new_node = Node(new_data)\n",
    "        if self.head is None:\n",
    "            self.head = new_node\n",
    "            return\n",
    "        temp = self.head\n",
    "        while temp.next:\n",
    "            temp = temp.next\n",
    "        temp.next = new_node\n",
    "    def detectLoop(self):\n",
    "        hare = self.head\n",
    "        tortoise = self.head\n",
    "        while tortoise and hare and hare.next:\n",
    "            hare = hare.next.next\n",
    "            tortoise = tortoise.next\n",
    "            if tortoise == hare:\n",
    "                return True\n",
    "        return False\n",
    "    def printList(self):\n",
    "        temp = self.head\n",
    "        while temp:\n",
    "            print(str(temp.data)+\" \",end=\" \")\n",
    "            temp = temp.next\n",
    "llist = LinkedList()\n",
    "llist.insertAtEnd(12)\n",
    "llist.insertAtEnd(8)\n",
    "llist.insertAtEnd(9)\n",
    "llist.insertAtEnd(10)\n",
    "llist.printList()\n",
    "llist.head.next.next.next = llist.head\n",
    "print()\n",
    "if llist.detectLoop():\n",
    "    print(\"Detected the Loop inside the linked list\")\n",
    "else:\n",
    "    print(\"No Loop\")"
   ]
  },
  {
   "cell_type": "markdown",
   "id": "9a59dbb0-f7de-4c2c-861e-1e21f5656113",
   "metadata": {},
   "source": [
    "**Q6. Write a program in Python using the concept of Linked List, to implement the merging or joining (combination or concatenation) of two SORTED Linked Lists.**"
   ]
  },
  {
   "cell_type": "code",
   "execution_count": 8,
   "id": "36599d37-a387-4aaf-a57b-c5151067685c",
   "metadata": {},
   "outputs": [
    {
     "name": "stdout",
     "output_type": "stream",
     "text": [
      "First Linked List\n",
      "8  9  10  12  14  16  \n",
      "Second Linked List\n",
      "1  5  7  15  90  \n",
      "Merge Lists\n",
      "1  5  7  8  9  10  12  14  15  16  90  "
     ]
    }
   ],
   "source": [
    "## Given the user, two sorted linked list the expected output is to\n",
    "## give a fully sorted linked list in a merged order.\n",
    "class Node:\n",
    "    def __init__(self, data):\n",
    "        self.data = data\n",
    "        self.next = None\n",
    "class LinkedList:\n",
    "    def __init__(self):\n",
    "        self.head = None\n",
    "    def insertAtEnd(self, new_data):\n",
    "        new_node = Node(new_data)\n",
    "        if self.head is None:\n",
    "            self.head = new_node\n",
    "            return\n",
    "        temp = self.head\n",
    "        while temp.next:\n",
    "            temp = temp.next\n",
    "        temp.next = new_node\n",
    "    def printList(self):\n",
    "        temp = self.head\n",
    "        while temp:\n",
    "            print(str(temp.data)+\" \",end=\" \")\n",
    "            temp = temp.next\n",
    "llist1 = LinkedList()\n",
    "llist1.insertAtEnd(8)\n",
    "llist1.insertAtEnd(9)\n",
    "llist1.insertAtEnd(10)\n",
    "llist1.insertAtEnd(12)\n",
    "llist1.insertAtEnd(14)\n",
    "class Node:\n",
    "    def __init__(self, data):\n",
    "        self.data = data\n",
    "        self.next = None\n",
    "class LinkedList:\n",
    "    def __init__(self):\n",
    "        self.head = None\n",
    "    def insertAtEnd(self, new_data):\n",
    "        new_node = Node(new_data)\n",
    "        if self.head is None:\n",
    "            self.head = new_node\n",
    "            return\n",
    "        temp = self.head\n",
    "        while temp.next:\n",
    "            temp = temp.next\n",
    "        temp.next = new_node\n",
    "    def printList(self):\n",
    "        temp = self.head\n",
    "        while temp:\n",
    "            print(str(temp.data)+\" \",end=\" \")\n",
    "            temp = temp.next\n",
    "def mergeLists(head1, head2):\n",
    "    temp = None\n",
    "    if head1 is None:\n",
    "        return head2\n",
    "    if head2 is None:\n",
    "        return head1\n",
    "    if head1.data <= head2.data:\n",
    "        temp = head1\n",
    "        temp.next = mergeLists(head1.next, head2)\n",
    "    else:\n",
    "        temp = head2\n",
    "        temp.next = mergeLists(head1, head2.next)\n",
    "    return temp\n",
    "llist1 = LinkedList()\n",
    "llist1.insertAtEnd(8)\n",
    "llist1.insertAtEnd(9)\n",
    "llist1.insertAtEnd(10)\n",
    "llist1.insertAtEnd(12)\n",
    "llist1.insertAtEnd(14)\n",
    "llist1.insertAtEnd(16)\n",
    "print(\"First Linked List\")\n",
    "llist1.printList()\n",
    "print()\n",
    "llist2 = LinkedList()\n",
    "llist2.insertAtEnd(1)\n",
    "llist2.insertAtEnd(5)\n",
    "llist2.insertAtEnd(7)\n",
    "llist2.insertAtEnd(15)\n",
    "llist2.insertAtEnd(90)\n",
    "print(\"Second Linked List\")\n",
    "llist2.printList()\n",
    "print()\n",
    "llist3 = LinkedList()\n",
    "llist3.head = mergeLists(llist1.head, llist2.head)\n",
    "print(\"Merge Lists\")\n",
    "llist3.printList()"
   ]
  },
  {
   "cell_type": "markdown",
   "id": "4b4194cb-004b-493c-a12f-1cfe2f714078",
   "metadata": {},
   "source": [
    "**Q7. Write a program in Python using the concept of Linked List, to implement reversal of a node in a Linked List.**"
   ]
  },
  {
   "cell_type": "code",
   "execution_count": 9,
   "id": "683d1ed5-387f-4afe-9f60-44ad89639932",
   "metadata": {},
   "outputs": [
    {
     "name": "stdout",
     "output_type": "stream",
     "text": [
      "Original Linked List\n",
      "12  8  9  10  12  14  \n",
      "Reversal Linked List\n",
      "14  12  10  9  8  12  "
     ]
    }
   ],
   "source": [
    "class Node:\n",
    "    def __init__(self, data):\n",
    "        self.data = data\n",
    "        self.next = None\n",
    "class LinkedList:\n",
    "    def __init__(self):\n",
    "        self.head = None\n",
    "    def insertAtEnd(self, new_data):\n",
    "        new_node = Node(new_data)\n",
    "        if self.head is None:\n",
    "            self.head = new_node\n",
    "            return\n",
    "        temp = self.head\n",
    "        while temp.next:\n",
    "            temp = temp.next\n",
    "        temp.next = new_node\n",
    "    def reverseList(self):\n",
    "        prev = None\n",
    "        next_ptr = None\n",
    "        curr = self.head\n",
    "        while curr:\n",
    "            next_ptr = curr.next\n",
    "            curr.next = prev\n",
    "            prev = curr\n",
    "            curr = next_ptr\n",
    "        self.head = prev\n",
    "    def printList(self):\n",
    "        temp = self.head\n",
    "        while temp:\n",
    "            print(str(temp.data)+\" \",end=\" \")\n",
    "            temp = temp.next\n",
    "llist = LinkedList()\n",
    "llist.insertAtEnd(12)\n",
    "llist.insertAtEnd(8)\n",
    "llist.insertAtEnd(9)\n",
    "llist.insertAtEnd(10)\n",
    "llist.insertAtEnd(12)\n",
    "llist.insertAtEnd(14)\n",
    "print(\"Original Linked List\")\n",
    "llist.printList()\n",
    "print()\n",
    "print(\"Reversal Linked List\")\n",
    "llist.reverseList()\n",
    "llist.printList()"
   ]
  }
 ],
 "metadata": {
  "kernelspec": {
   "display_name": "Python 3 (ipykernel)",
   "language": "python",
   "name": "python3"
  },
  "language_info": {
   "codemirror_mode": {
    "name": "ipython",
    "version": 3
   },
   "file_extension": ".py",
   "mimetype": "text/x-python",
   "name": "python",
   "nbconvert_exporter": "python",
   "pygments_lexer": "ipython3",
   "version": "3.10.8"
  }
 },
 "nbformat": 4,
 "nbformat_minor": 5
}
