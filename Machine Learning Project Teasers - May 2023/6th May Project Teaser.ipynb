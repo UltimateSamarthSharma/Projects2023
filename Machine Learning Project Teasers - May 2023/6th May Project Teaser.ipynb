{
 "cells": [
  {
   "cell_type": "markdown",
   "id": "c9be874a-1f4e-4843-bd41-ae5bef9d03d3",
   "metadata": {},
   "source": [
    "### Fault detection in wafers based on sensor data"
   ]
  },
  {
   "cell_type": "code",
   "execution_count": 1,
   "id": "aa4d2b75-a47b-4b3a-9487-2fe1fa9622b3",
   "metadata": {},
   "outputs": [],
   "source": [
    "import pandas as pd\n",
    "import numpy as np\n",
    "\n",
    "# Set the number of samples and features in the dataset\n",
    "n_samples = 1000\n",
    "n_features = 10\n",
    "\n",
    "# Create random data for the features\n",
    "X = np.random.rand(n_samples, n_features)\n",
    "\n",
    "# Add noise to the data to simulate sensor readings\n",
    "X = X + np.random.normal(loc=0, scale=0.1, size=X.shape)\n",
    "\n",
    "# Create a target variable with randomly generated faults\n",
    "y = np.random.choice(['Yes', 'No'], size=n_samples)\n",
    "\n",
    "# Combine the features and target variable into a dataframe\n",
    "df = pd.DataFrame(X, columns=[f'Feature {i+1}' for i in range(n_features)])\n",
    "df['fault'] = y\n",
    "\n",
    "# Save the dataframe to a CSV file\n",
    "df.to_csv('wafer_faults.csv', index=False)"
   ]
  },
  {
   "cell_type": "code",
   "execution_count": 3,
   "id": "272377fb-f966-4d81-9197-f526ebc75edc",
   "metadata": {},
   "outputs": [
    {
     "name": "stdout",
     "output_type": "stream",
     "text": [
      "[[68 44]\n",
      " [50 38]]\n",
      "              precision    recall  f1-score   support\n",
      "\n",
      "           0       0.58      0.61      0.59       112\n",
      "           1       0.46      0.43      0.45        88\n",
      "\n",
      "    accuracy                           0.53       200\n",
      "   macro avg       0.52      0.52      0.52       200\n",
      "weighted avg       0.53      0.53      0.53       200\n",
      "\n",
      "      Feature  Coefficients\n",
      "4   Feature 5      0.093043\n",
      "7   Feature 8      0.038150\n",
      "9  Feature 10      0.016867\n",
      "0   Feature 1     -0.018882\n",
      "1   Feature 2     -0.019477\n",
      "3   Feature 4     -0.072333\n",
      "8   Feature 9     -0.077264\n",
      "2   Feature 3     -0.090872\n",
      "6   Feature 7     -0.099076\n",
      "5   Feature 6     -0.149594\n"
     ]
    }
   ],
   "source": [
    "import pandas as pd\n",
    "import numpy as np\n",
    "from sklearn.preprocessing import StandardScaler\n",
    "from sklearn.model_selection import train_test_split\n",
    "from sklearn.linear_model import LogisticRegression\n",
    "from sklearn.metrics import classification_report, confusion_matrix\n",
    "\n",
    "# Read in the dataset\n",
    "df = pd.read_csv('wafer_faults.csv')\n",
    "\n",
    "# Drop any missing values\n",
    "df = df.dropna()\n",
    "\n",
    "# Convert the target variable to binary values\n",
    "df['fault'] = np.where(df['fault'] == 'Yes', 1, 0)\n",
    "\n",
    "# Split the dataset into features and target variable\n",
    "X = df.drop('fault', axis=1)\n",
    "y = df['fault']\n",
    "\n",
    "# Scale the features\n",
    "scaler = StandardScaler()\n",
    "X = scaler.fit_transform(X)\n",
    "\n",
    "# Split the dataset into training and testing sets\n",
    "X_train, X_test, y_train, y_test = train_test_split(X, y, test_size=0.2, random_state=42)\n",
    "\n",
    "# Train a logistic regression model on the training data\n",
    "model = LogisticRegression()\n",
    "model.fit(X_train, y_train)\n",
    "\n",
    "# Generate predictions on the testing data\n",
    "y_pred = model.predict(X_test)\n",
    "\n",
    "# Output the confusion matrix and classification report\n",
    "print(confusion_matrix(y_test, y_pred))\n",
    "print(classification_report(y_test, y_pred))\n",
    "\n",
    "# Output the coefficients for the logistic regression model\n",
    "coefficients = pd.DataFrame({'Feature': df.columns[:-1], 'Coefficients': model.coef_[0]})\n",
    "coefficients = coefficients.sort_values(by='Coefficients', ascending=False)\n",
    "print(coefficients)\n",
    "\n",
    "# Save the results to a CSV file\n",
    "results = pd.DataFrame({'Actual': y_test, 'Predicted': y_pred})\n",
    "results.to_csv('result_6may.csv', index=False)"
   ]
  }
 ],
 "metadata": {
  "kernelspec": {
   "display_name": "Python 3 (ipykernel)",
   "language": "python",
   "name": "python3"
  },
  "language_info": {
   "codemirror_mode": {
    "name": "ipython",
    "version": 3
   },
   "file_extension": ".py",
   "mimetype": "text/x-python",
   "name": "python",
   "nbconvert_exporter": "python",
   "pygments_lexer": "ipython3",
   "version": "3.10.8"
  }
 },
 "nbformat": 4,
 "nbformat_minor": 5
}
