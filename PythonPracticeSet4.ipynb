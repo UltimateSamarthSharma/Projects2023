{
 "cells": [
  {
   "cell_type": "markdown",
   "id": "6044a010-ba58-4cae-9a49-5218a29cab09",
   "metadata": {},
   "source": [
    "**Q1. Create a class called \"Person\" with properties for \"name\", \"age\", and \"gender\". Create an object of this class and print out its properties.**"
   ]
  },
  {
   "cell_type": "code",
   "execution_count": 1,
   "id": "428ebd36-5b5c-4425-b095-f1ba141e3c3c",
   "metadata": {},
   "outputs": [
    {
     "name": "stdout",
     "output_type": "stream",
     "text": [
      "Name: John Doe\n",
      "Age: 25\n",
      "Gender: Male\n"
     ]
    }
   ],
   "source": [
    "class Person:\n",
    "    def __init__(self, name, age, gender):\n",
    "        self.name = name\n",
    "        self.age = age\n",
    "        self.gender = gender\n",
    "person = Person(\"John Doe\", 25, \"Male\")\n",
    "print(\"Name:\", person.name)\n",
    "print(\"Age:\", person.age)\n",
    "print(\"Gender:\", person.gender)"
   ]
  },
  {
   "cell_type": "markdown",
   "id": "0a2adbc8-cdbf-49ed-acb2-15c526a8fd87",
   "metadata": {},
   "source": [
    "**Q2. Write a Python class called \"Rectangle\" with attributes for \"width\" and \"height\". Implement methods to calculate the area and perimeter of the rectangle. Create an instance of this class and use it to print out the rectangle's area and perimeter.**"
   ]
  },
  {
   "cell_type": "code",
   "execution_count": 2,
   "id": "c223661e-77de-4b89-9a5b-6271333902ca",
   "metadata": {},
   "outputs": [
    {
     "name": "stdout",
     "output_type": "stream",
     "text": [
      "Area: 24\n",
      "Perimeter: 20\n"
     ]
    }
   ],
   "source": [
    "class Rectangle:\n",
    "    def __init__(self, width, height):\n",
    "        self.width = width\n",
    "        self.height = height\n",
    "    def calculate_area(self):\n",
    "        return self.width * self.height\n",
    "    def calculate_perimeter(self):\n",
    "        return 2 * (self.width + self.height)\n",
    "rectangle = Rectangle(4, 6)\n",
    "print(\"Area:\", rectangle.calculate_area())\n",
    "print(\"Perimeter:\", rectangle.calculate_perimeter())"
   ]
  },
  {
   "cell_type": "markdown",
   "id": "9624582d-109b-44d7-8991-34e0e4b2a045",
   "metadata": {},
   "source": [
    "**Q3. Write a Python class called \"BankAccount\" with attributes for \"balance\" and \"interest_rate\". Implement methods to deposit and withdraw money from the account, as well as to calculate the interest earned on the balance based on the interest rate. Create an instance of this class and use it to test out the implemented methods for deposit, withdrawal, and interest calculation.**"
   ]
  },
  {
   "cell_type": "code",
   "execution_count": 3,
   "id": "63156008-f39c-44c0-82a0-e988ab7d24fa",
   "metadata": {},
   "outputs": [
    {
     "name": "stdout",
     "output_type": "stream",
     "text": [
      "Deposited $500. New balance: $1500\n",
      "Withdrew $200. New balance: $1300\n",
      "Interest earned: $65.0. New balance: $1365.0\n"
     ]
    }
   ],
   "source": [
    "class BankAccount:\n",
    "    def __init__(self, balance, interest_rate):\n",
    "        self.balance = balance\n",
    "        self.interest_rate = interest_rate\n",
    "    def deposit(self, amount):\n",
    "        self.balance += amount\n",
    "        print(f\"Deposited ${amount}. New balance: ${self.balance}\")\n",
    "    def withdraw(self, amount):\n",
    "        if amount <= self.balance:\n",
    "            self.balance -= amount\n",
    "            print(f\"Withdrew ${amount}. New balance: ${self.balance}\")\n",
    "        else:\n",
    "            print(\"Insufficient funds. Withdrawal canceled.\")\n",
    "    def calculate_interest(self):\n",
    "        interest_earned = self.balance * self.interest_rate\n",
    "        self.balance += interest_earned\n",
    "        print(f\"Interest earned: ${interest_earned}. New balance: ${self.balance}\")\n",
    "account = BankAccount(1000, 0.05)\n",
    "account.deposit(500)\n",
    "account.withdraw(200)\n",
    "account.calculate_interest()"
   ]
  },
  {
   "cell_type": "markdown",
   "id": "7cc55f9e-3110-487a-b13a-23505e38d1df",
   "metadata": {},
   "source": [
    "**Q4. Write a Python class called \"Animal\" with attributes for \"name\" and \"species\". Create a subclass of \"Animal\" called \"Dog\" with additional attributes for \"breed\" and \"owner\". Implement both classes with appropriate methods and constructors to initialise their properties. Create instances of both classes and use them to print out the various properties of the animals and dogs, such as their names, species, breeds, and owners.**"
   ]
  },
  {
   "cell_type": "code",
   "execution_count": 4,
   "id": "662e7a3f-561e-45e4-951f-d98c7ddf30b8",
   "metadata": {},
   "outputs": [
    {
     "name": "stdout",
     "output_type": "stream",
     "text": [
      "Animal Name: Simba\n",
      "Animal Species: Lion\n",
      "Dog Name: Max\n",
      "Dog Species: Canine\n",
      "Dog Breed: Golden Retriever\n",
      "Dog Owner: John\n"
     ]
    }
   ],
   "source": [
    "class Animal:\n",
    "    def __init__(self, name, species):\n",
    "        self.name = name\n",
    "        self.species = species\n",
    "    def get_name(self):\n",
    "        return self.name\n",
    "    def get_species(self):\n",
    "        return self.species\n",
    "class Dog(Animal):\n",
    "    def __init__(self, name, species, breed, owner):\n",
    "        super().__init__(name, species)\n",
    "        self.breed = breed\n",
    "        self.owner = owner\n",
    "    def get_breed(self):\n",
    "        return self.breed\n",
    "    def get_owner(self):\n",
    "        return self.owner\n",
    "animal = Animal(\"Simba\", \"Lion\")\n",
    "print(\"Animal Name:\", animal.get_name())\n",
    "print(\"Animal Species:\", animal.get_species())\n",
    "dog = Dog(\"Max\", \"Canine\", \"Golden Retriever\", \"John\")\n",
    "print(\"Dog Name:\", dog.get_name())\n",
    "print(\"Dog Species:\", dog.get_species())\n",
    "print(\"Dog Breed:\", dog.get_breed())\n",
    "print(\"Dog Owner:\", dog.get_owner())"
   ]
  },
  {
   "cell_type": "markdown",
   "id": "e51bcfb6-461f-42ee-a1b1-3b6ed82cc7e0",
   "metadata": {},
   "source": [
    "**Q5. Create a class called \"Car\" with properties for \"make\", \"model\", and \"year\". Create a subclass of \"Car\" called \"ElectricCar\" with additional properties for \"battery_size\" and \"range\". Create objects of both classes and print out their properties.**"
   ]
  },
  {
   "cell_type": "code",
   "execution_count": 5,
   "id": "b00abe4e-8dac-4459-94dd-88c42ac131ab",
   "metadata": {},
   "outputs": [
    {
     "name": "stdout",
     "output_type": "stream",
     "text": [
      "Car Make: Toyota\n",
      "Car Model: Corolla\n",
      "Car Year: 2022\n",
      "Electric Car Make: Tesla\n",
      "Electric Car Model: Model S\n",
      "Electric Car Year: 2022\n",
      "Electric Car Battery Size: 100 kWh\n",
      "Electric Car Range: 370 miles\n"
     ]
    }
   ],
   "source": [
    "class Car:\n",
    "    def __init__(self, make, model, year):\n",
    "        self.make = make\n",
    "        self.model = model\n",
    "        self.year = year\n",
    "    def get_make(self):\n",
    "        return self.make\n",
    "    def get_model(self):\n",
    "        return self.model\n",
    "    def get_year(self):\n",
    "        return self.year\n",
    "class ElectricCar(Car):\n",
    "    def __init__(self, make, model, year, battery_size, range):\n",
    "        super().__init__(make, model, year)\n",
    "        self.battery_size = battery_size\n",
    "        self.range = range\n",
    "    def get_battery_size(self):\n",
    "        return self.battery_size\n",
    "    def get_range(self):\n",
    "        return self.range\n",
    "car = Car(\"Toyota\", \"Corolla\", 2022)\n",
    "print(\"Car Make:\", car.get_make())\n",
    "print(\"Car Model:\", car.get_model())\n",
    "print(\"Car Year:\", car.get_year())\n",
    "electric_car = ElectricCar(\"Tesla\", \"Model S\", 2022, \"100 kWh\", \"370 miles\")\n",
    "print(\"Electric Car Make:\", electric_car.get_make())\n",
    "print(\"Electric Car Model:\", electric_car.get_model())\n",
    "print(\"Electric Car Year:\", electric_car.get_year())\n",
    "print(\"Electric Car Battery Size:\", electric_car.get_battery_size())\n",
    "print(\"Electric Car Range:\", electric_car.get_range())"
   ]
  },
  {
   "cell_type": "markdown",
   "id": "e6962f4e-f974-4e05-94cc-ed59a23b0fde",
   "metadata": {},
   "source": [
    "**Q6. Create a class called \"Student\" with properties for \"name\" and \"id\". Create a subclass of \"Student\" called \"GraduateStudent\" with additional properties for \"advisor\" and \"research_area\". Create objects of both classes and print out their properties.**"
   ]
  },
  {
   "cell_type": "code",
   "execution_count": 6,
   "id": "9a3c4691-5f7b-42af-b844-ef7510999d12",
   "metadata": {},
   "outputs": [
    {
     "name": "stdout",
     "output_type": "stream",
     "text": [
      "Student Name: John Doe\n",
      "Student ID: 12345\n",
      "Graduate Student Name: Jane Smith\n",
      "Graduate Student ID: 98765\n",
      "Graduate Student Advisor: Dr. Johnson\n",
      "Graduate Student Research Area: Computer Science\n"
     ]
    }
   ],
   "source": [
    "class Student:\n",
    "    def __init__(self, name, id):\n",
    "        self.name = name\n",
    "        self.id = id\n",
    "    def get_name(self):\n",
    "        return self.name\n",
    "    def get_id(self):\n",
    "        return self.id\n",
    "class GraduateStudent(Student):\n",
    "    def __init__(self, name, id, advisor, research_area):\n",
    "        super().__init__(name, id)\n",
    "        self.advisor = advisor\n",
    "        self.research_area = research_area\n",
    "    def get_advisor(self):\n",
    "        return self.advisor\n",
    "    def get_research_area(self):\n",
    "        return self.research_area\n",
    "student = Student(\"John Doe\", \"12345\")\n",
    "print(\"Student Name:\", student.get_name())\n",
    "print(\"Student ID:\", student.get_id())\n",
    "graduate_student = GraduateStudent(\"Jane Smith\", \"98765\", \"Dr. Johnson\", \"Computer Science\")\n",
    "print(\"Graduate Student Name:\", graduate_student.get_name())\n",
    "print(\"Graduate Student ID:\", graduate_student.get_id())\n",
    "print(\"Graduate Student Advisor:\", graduate_student.get_advisor())\n",
    "print(\"Graduate Student Research Area:\", graduate_student.get_research_area())"
   ]
  },
  {
   "cell_type": "markdown",
   "id": "e1241119-4d60-4c43-956c-0fedc3511c4e",
   "metadata": {},
   "source": [
    "**Q7. Create a class called \"Shape\" with methods to calculate the area and perimeter of the shape. Create subclasses of \"Shape\" for \"Rectangle\", \"Circle\", and \"Triangle\" with their own methods for calculating area and perimeter. Create objects of each class and print out their area and perimeter.**"
   ]
  },
  {
   "cell_type": "code",
   "execution_count": 7,
   "id": "1268752a-d459-4a73-a2be-abd4cdf8fff1",
   "metadata": {},
   "outputs": [
    {
     "name": "stdout",
     "output_type": "stream",
     "text": [
      "Rectangle Area: 20\n",
      "Rectangle Perimeter: 18\n",
      "Circle Area: 28.274333882308138\n",
      "Circle Circumference: 18.84955592153876\n",
      "Triangle Area: 6.0\n",
      "Triangle Perimeter: 12\n"
     ]
    }
   ],
   "source": [
    "import math\n",
    "class Shape:\n",
    "    def calculate_area(self):\n",
    "        pass\n",
    "    def calculate_perimeter(self):\n",
    "        pass\n",
    "class Rectangle(Shape):\n",
    "    def __init__(self, width, height):\n",
    "        self.width = width\n",
    "        self.height = height\n",
    "    def calculate_area(self):\n",
    "        return self.width * self.height\n",
    "    def calculate_perimeter(self):\n",
    "        return 2 * (self.width + self.height)\n",
    "class Circle(Shape):\n",
    "    def __init__(self, radius):\n",
    "        self.radius = radius\n",
    "    def calculate_area(self):\n",
    "        return math.pi * self.radius ** 2\n",
    "    def calculate_perimeter(self):\n",
    "        return 2 * math.pi * self.radius\n",
    "class Triangle(Shape):\n",
    "    def __init__(self, side1, side2, side3):\n",
    "        self.side1 = side1\n",
    "        self.side2 = side2\n",
    "        self.side3 = side3\n",
    "    def calculate_area(self):\n",
    "        s = (self.side1 + self.side2 + self.side3) / 2\n",
    "        return math.sqrt(s * (s - self.side1) * (s - self.side2) * (s - self.side3))\n",
    "    def calculate_perimeter(self):\n",
    "        return self.side1 + self.side2 + self.side3\n",
    "rectangle = Rectangle(4, 5)\n",
    "print(\"Rectangle Area:\", rectangle.calculate_area())\n",
    "print(\"Rectangle Perimeter:\", rectangle.calculate_perimeter())\n",
    "circle = Circle(3)\n",
    "print(\"Circle Area:\", circle.calculate_area())\n",
    "print(\"Circle Circumference:\", circle.calculate_perimeter())\n",
    "triangle = Triangle(3, 4, 5)\n",
    "print(\"Triangle Area:\", triangle.calculate_area())\n",
    "print(\"Triangle Perimeter:\", triangle.calculate_perimeter())"
   ]
  },
  {
   "cell_type": "markdown",
   "id": "d27a02bf-0770-4482-b2bb-a9ac68369227",
   "metadata": {},
   "source": [
    "**Q8. Create a class called \"Employee\" with properties for \"name\", \"id\", and \"salary\". Add methods to give the employee a raise and to calculate their annual salary. Create objects of this class and test out the methods.**"
   ]
  },
  {
   "cell_type": "code",
   "execution_count": 8,
   "id": "d2e6997e-f115-4b9c-acfe-fcecb7105cc2",
   "metadata": {},
   "outputs": [
    {
     "name": "stdout",
     "output_type": "stream",
     "text": [
      "Employee Name: John Doe\n",
      "Employee ID: E001\n",
      "Employee Salary: 5000\n",
      "Employee Updated Salary: 6000\n",
      "Employee Annual Salary: 72000\n"
     ]
    }
   ],
   "source": [
    "class Employee:\n",
    "    def __init__(self, name, id, salary):\n",
    "        self.name = name\n",
    "        self.id = id\n",
    "        self.salary = salary\n",
    "    def give_raise(self, amount):\n",
    "        self.salary += amount\n",
    "    def calculate_annual_salary(self):\n",
    "        return self.salary * 12\n",
    "employee = Employee(\"John Doe\", \"E001\", 5000)\n",
    "print(\"Employee Name:\", employee.name)\n",
    "print(\"Employee ID:\", employee.id)\n",
    "print(\"Employee Salary:\", employee.salary)\n",
    "employee.give_raise(1000)\n",
    "print(\"Employee Updated Salary:\", employee.salary)\n",
    "annual_salary = employee.calculate_annual_salary()\n",
    "print(\"Employee Annual Salary:\", annual_salary)"
   ]
  },
  {
   "cell_type": "markdown",
   "id": "4b15524b-a1c4-45b9-9d66-50c0aeda4ff7",
   "metadata": {},
   "source": [
    "**Q9. Create a class called \"Book\" with properties for \"title\", \"author\", and \"publisher\". Create a subclass of \"Book\" called \"Ebook\" with additional properties for \"file_format\" and \"file_size\". Create objects of both classes and print out their properties.**"
   ]
  },
  {
   "cell_type": "code",
   "execution_count": 9,
   "id": "531af99f-21d7-4025-b7c7-0f8b05d0c955",
   "metadata": {},
   "outputs": [
    {
     "name": "stdout",
     "output_type": "stream",
     "text": [
      "Book Title: The Great Gatsby\n",
      "Book Author: F. Scott Fitzgerald\n",
      "Book Publisher: Charles Scribner's Sons\n",
      "Ebook Title: The Catcher in the Rye\n",
      "Ebook Author: J.D. Salinger\n",
      "Ebook Publisher: Little, Brown and Company\n",
      "Ebook File Format: PDF\n",
      "Ebook File Size: 2.5 MB\n"
     ]
    }
   ],
   "source": [
    "class Book:\n",
    "    def __init__(self, title, author, publisher):\n",
    "        self.title = title\n",
    "        self.author = author\n",
    "        self.publisher = publisher\n",
    "    def get_title(self):\n",
    "        return self.title\n",
    "    def get_author(self):\n",
    "        return self.author\n",
    "    def get_publisher(self):\n",
    "        return self.publisher\n",
    "class Ebook(Book):\n",
    "    def __init__(self, title, author, publisher, file_format, file_size):\n",
    "        super().__init__(title, author, publisher)\n",
    "        self.file_format = file_format\n",
    "        self.file_size = file_size\n",
    "    def get_file_format(self):\n",
    "        return self.file_format\n",
    "    def get_file_size(self):\n",
    "        return self.file_size\n",
    "book = Book(\"The Great Gatsby\", \"F. Scott Fitzgerald\", \"Charles Scribner's Sons\")\n",
    "print(\"Book Title:\", book.get_title())\n",
    "print(\"Book Author:\", book.get_author())\n",
    "print(\"Book Publisher:\", book.get_publisher())\n",
    "ebook = Ebook(\"The Catcher in the Rye\", \"J.D. Salinger\", \"Little, Brown and Company\", \"PDF\", \"2.5 MB\")\n",
    "print(\"Ebook Title:\", ebook.get_title())\n",
    "print(\"Ebook Author:\", ebook.get_author())\n",
    "print(\"Ebook Publisher:\", ebook.get_publisher())\n",
    "print(\"Ebook File Format:\", ebook.get_file_format())\n",
    "print(\"Ebook File Size:\", ebook.get_file_size())"
   ]
  },
  {
   "cell_type": "markdown",
   "id": "97a2a8cc-2865-4435-a9b2-7db2b2d169ee",
   "metadata": {},
   "source": [
    "**Q10. Create a class called \"Bank\" with properties for \"name\" and \"accounts\". Add methods to create new accounts, deposit and withdraw money from accounts, and to calculate the total balance of all accounts. Create an object of this class and test out the methods.**"
   ]
  },
  {
   "cell_type": "code",
   "execution_count": 10,
   "id": "f92f0ddc-5b50-4d7e-915f-7e3ddcc8e419",
   "metadata": {},
   "outputs": [
    {
     "name": "stdout",
     "output_type": "stream",
     "text": [
      "Total Balance: 1300\n",
      "Total Balance: 4300\n"
     ]
    }
   ],
   "source": [
    "class Bank:\n",
    "    def __init__(self, name):\n",
    "        self.name = name\n",
    "        self.accounts = []\n",
    "    def create_account(self, account_number, initial_balance=0):\n",
    "        account = {'account_number': account_number,'balance': initial_balance}\n",
    "        self.accounts.append(account)\n",
    "    def deposit(self, account_number, amount):\n",
    "        for account in self.accounts:\n",
    "            if account['account_number'] == account_number:\n",
    "                account['balance'] += amount\n",
    "                break\n",
    "    def withdraw(self, account_number, amount):\n",
    "        for account in self.accounts:\n",
    "            if account['account_number'] == account_number:\n",
    "                if account['balance'] >= amount:\n",
    "                    account['balance'] -= amount\n",
    "                    break\n",
    "                else:\n",
    "                    print(\"Insufficient funds\")\n",
    "                    break\n",
    "    def calculate_total_balance(self):\n",
    "        total_balance = 0\n",
    "        for account in self.accounts:\n",
    "            total_balance += account['balance']\n",
    "        return total_balance\n",
    "bank = Bank(\"MyBank\")\n",
    "bank.create_account(\"A001\", 1000)\n",
    "bank.deposit(\"A001\", 500)\n",
    "bank.withdraw(\"A001\", 200)\n",
    "total_balance = bank.calculate_total_balance()\n",
    "print(\"Total Balance:\", total_balance)\n",
    "bank.create_account(\"A002\", 2000)\n",
    "bank.deposit(\"A002\", 1000)\n",
    "total_balance = bank.calculate_total_balance()\n",
    "print(\"Total Balance:\", total_balance)"
   ]
  }
 ],
 "metadata": {
  "kernelspec": {
   "display_name": "Python 3 (ipykernel)",
   "language": "python",
   "name": "python3"
  },
  "language_info": {
   "codemirror_mode": {
    "name": "ipython",
    "version": 3
   },
   "file_extension": ".py",
   "mimetype": "text/x-python",
   "name": "python",
   "nbconvert_exporter": "python",
   "pygments_lexer": "ipython3",
   "version": "3.10.8"
  }
 },
 "nbformat": 4,
 "nbformat_minor": 5
}
