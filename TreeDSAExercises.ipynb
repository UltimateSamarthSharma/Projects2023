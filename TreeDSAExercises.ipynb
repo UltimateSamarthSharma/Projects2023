{
  "metadata": {
    "language_info": {
      "codemirror_mode": {
        "name": "python",
        "version": 3
      },
      "file_extension": ".py",
      "mimetype": "text/x-python",
      "name": "python",
      "nbconvert_exporter": "python",
      "pygments_lexer": "ipython3",
      "version": "3.8"
    },
    "kernelspec": {
      "name": "python",
      "display_name": "Python (Pyodide)",
      "language": "python"
    }
  },
  "nbformat_minor": 4,
  "nbformat": 4,
  "cells": [
    {
      "cell_type": "markdown",
      "source": "**Q1. Write a program in Python to show that a given string contains valid parenthesis or not.**",
      "metadata": {}
    },
    {
      "cell_type": "code",
      "source": "## Time complexity: O(n)\ndef isValidParen(string):\n    open_param = set([\"(\", \"[\", \"{\"])\n    dictionary = {\"(\":\")\", \"[\":\"]\", \"{\":\"}\"}\n    stack = []\n    for char in string:\n        if char in open_param:\n            stack.append(char)\n        elif stack and char == dictionary[stack[-1]]:\n            stack.pop()\n        else:\n            return False\n    return stack == []\nstring1 = \"{[]}\"\nstring2 = \"{[[]}\"\nif isValidParen(string2):\n    print('String contains a valid parenthesis')\nelse:\n    print('String contains an invalild parenthesis')",
      "metadata": {
        "trusted": true
      },
      "execution_count": 1,
      "outputs": [
        {
          "name": "stdout",
          "text": "String contains an invalild parenthesis\n",
          "output_type": "stream"
        }
      ]
    },
    {
      "cell_type": "markdown",
      "source": "**Q2. Write a program in Python to find the unique number of possible BSTs, or Binary Search Trees.**",
      "metadata": {}
    },
    {
      "cell_type": "code",
      "source": "def finduniqueBST(n):\n    n1, n2, sum_Val = 0, 0, 0\n    if n == 0 or n == 1:\n        return 1\n    for i in range(1,n+1):\n        n1 = finduniqueBST(i-1)\n        n2 = finduniqueBST(n-i)\n        sum_Val += n1*n2\n    return sum_Val\n## n indicates the number of nodes in the BST(unique)\nn = 8\nresult = finduniqueBST(n)\nprint(\"Unique number of possible BSTs are:\", result)",
      "metadata": {
        "trusted": true
      },
      "execution_count": 2,
      "outputs": [
        {
          "name": "stdout",
          "text": "Unique number of possible BSTs are: 1430\n",
          "output_type": "stream"
        }
      ]
    },
    {
      "cell_type": "markdown",
      "source": "**Q3. Write a program in Python to implement the InOrder, PreOrder & PostOrder traversals of a Binary Search Tree (BST).**",
      "metadata": {}
    },
    {
      "cell_type": "code",
      "source": "## Tree Traversal Algorithms Implementation:\n## Inorder, Preorder and Postorder\n## For every case, the overall time complexity will be: O(n)\nclass Node:\n    def __init__(self, data):\n        self.left = None\n        self.right = None\n        self.data = data\n## function definition of inOrder Traversal\ndef inOrder(root):\n    if root:\n        ## recursive call for the left subtree\n        inOrder(root.left)\n        ## recursive call for the DATA subtree\n        print(str(root.data)+ \" \", end=' ')\n        ## recursive call for the right subtree\n        inOrder(root.right)\n## function definition of preOrder Traversal\ndef preOrder(root):\n    if root:\n        ## recursive call for the DATA subtree\n        print(str(root.data)+\" \", end=' ')\n        ## recursive call for the left subtree\n        preOrder(root.left)\n        ## recursive call for the right subtree\n        preOrder(root.right)\n## function definition of postOrder Traversal\ndef postOrder(root):\n    if root:\n        ## recursive call for the left subtree\n        postOrder(root.left)\n        ## recursive call for the right subtree\n        postOrder(root.right)\n        ## recursive call for the DATA subtree\n        print(str(root.data)+\" \", end=' ')\nroot = Node(1)\nroot.left = Node(2)\nroot.right = Node(3)\nroot.left.left = Node(4)\nroot.left.right = Node(5)\nprint(\"Inorder Traversal:\")\ninOrder(root)\nprint(\"\\n\\nPreorder Traversal:\")\npreOrder(root)\nprint(\"\\n\\nPostOrder Traversal:\")\npostOrder(root)",
      "metadata": {
        "trusted": true
      },
      "execution_count": 3,
      "outputs": [
        {
          "name": "stdout",
          "text": "Inorder Traversal:\n4  2  5  1  3  \n\nPreorder Traversal:\n1  2  4  5  3  \n\nPostOrder Traversal:\n4  5  2  3  1  ",
          "output_type": "stream"
        }
      ]
    },
    {
      "cell_type": "markdown",
      "source": "**Q4. Write a program in Python to implement the Searching of a node in Binary Search Tree (BST).**",
      "metadata": {}
    },
    {
      "cell_type": "code",
      "source": "## class of nodes in a BST\n## Time complexity for the insertion:\n## Time complexity for the inOrder Traversal: O(n)\n## Time complexity for the minimum value finding in BST:\nclass Node:\n    def __init__(self, data):\n        self.left = None\n        self.right = None\n        self.data = data\n## insertion in BST\ndef insertBST(root, key):\n    if root is None:\n        return Node(key)\n    else:\n        if root.data == key:\n            return root\n        elif root.data < key:\n            root.right = insertBST(root.right, key)\n        else:\n            root.left = insertBST(root.left, key)\n    return root\n## function definition of inOrder Traversal\ndef inOrder(root):\n    if root:\n        ## recursive call for the left subtree\n        inOrder(root.left)\n        ## recursive call for the DATA subtree\n        print(str(root.data)+ \" \", end=' ')\n        ## recursive call for the right subtree\n        inOrder(root.right)\n## function definition of preOrder Traversal\ndef preOrder(root):\n    if root:\n        ## recursive call for the DATA subtree\n        print(str(root.data)+\" \", end=' ')\n        ## recursive call for the left subtree\n        preOrder(root.left)\n        ## recursive call for the right subtree\n        preOrder(root.right)\n## function definition of postOrder Traversal\ndef postOrder(root):\n    if root:\n        ## recursive call for the left subtree\n        postOrder(root.left)\n        ## recursive call for the right subtree\n        postOrder(root.right)\n        ## recursive call for the DATA subtree\n        print(str(root.data)+\" \", end=' ')\n## search the node in BST\n## Balanced BST: O(logn)\n## Unbalanced BST: O(n) -> Skewed Dataaaaaa\ndef searchBST(root, key):\n    if root is None or root.data == key:\n        return root\n    elif key < root.data:\n        ## recursion towards left side of the tree\n        return searchBST(root.left, key)\n    else:\n        ## recursion towards right side of the tree\n        return searchBST(root.right, key)\nroot = Node(100)\nroot = insertBST(root, 80)\nroot = insertBST(root, 110)\nroot = insertBST(root, 50)\nroot = insertBST(root, 20)\nroot = insertBST(root, 90)\nprint(\"Inorder Traversal:\")\ninOrder(root)\nprint(\"\\n\\nPreorder Traversal:\")\npreOrder(root)\nprint(\"\\n\\nPostOrder Traversal:\")\npostOrder(root)\nkey = 100 ## Searching the target value of a node using key variable. \nresult = searchBST(root, key)\nif result:\n    print(\"\\n\\nData is present in BST\")\nelse:\n    print(\"\\n\\nData is not present in BST\")",
      "metadata": {
        "trusted": true
      },
      "execution_count": 4,
      "outputs": [
        {
          "name": "stdout",
          "text": "Inorder Traversal:\n20  50  80  90  100  110  \n\nPreorder Traversal:\n100  80  50  20  90  110  \n\nPostOrder Traversal:\n20  50  90  80  110  100  \n\nData is present in BST\n",
          "output_type": "stream"
        }
      ]
    },
    {
      "cell_type": "markdown",
      "source": "**Q5. Write a program in Python to implement the Insertion of a node in Binary Search Tree (BST).**",
      "metadata": {}
    },
    {
      "cell_type": "code",
      "source": "## class of nodes in a BST\nclass Node:\n    def __init__(self, data):\n        self.left = None\n        self.right = None\n        self.data = data\n## insertion in BST\ndef insertBST(root, key):\n    if root is None:\n        return Node(key)\n    else:\n        if root.data == key:\n            return root\n        elif root.data < key:\n            root.right = insertBST(root.right, key)\n        else:\n            root.left = insertBST(root.left, key)\n    return root\n## function definition of inOrder Traversal\ndef inOrder(root):\n    if root:\n        ## recursive call for the left subtree\n        inOrder(root.left)\n        ## recursive call for the DATA subtree\n        print(str(root.data)+ \" \", end=' ')\n        ## recursive call for the right subtree\n        inOrder(root.right)\n## function definition of preOrder Traversal\ndef preOrder(root):\n    if root:\n        ## recursive call for the DATA subtree\n        print(str(root.data)+\" \", end=' ')\n        ## recursive call for the left subtree\n        preOrder(root.left)\n        ## recursive call for the right subtree\n        preOrder(root.right)\n## function definition of postOrder Traversal\ndef postOrder(root):\n    if root:\n        ## recursive call for the left subtree\n        postOrder(root.left)\n        ## recursive call for the right subtree\n        postOrder(root.right)\n        ## recursive call for the DATA subtree\n        print(str(root.data)+\" \", end=' ')\nroot = Node(100)\nroot = insertBST(root, 80)\nroot = insertBST(root, 110)\nroot = insertBST(root, 50)\nroot = insertBST(root, 90)\nprint(\"Inorder Traversal:\")\ninOrder(root)\nprint(\"\\n\\nPreorder Traversal:\")\npreOrder(root)\nprint(\"\\n\\nPostOrder Traversal:\")\npostOrder(root)",
      "metadata": {
        "trusted": true
      },
      "execution_count": 5,
      "outputs": [
        {
          "name": "stdout",
          "text": "Inorder Traversal:\n50  80  90  100  110  \n\nPreorder Traversal:\n100  80  50  90  110  \n\nPostOrder Traversal:\n50  90  80  110  100  ",
          "output_type": "stream"
        }
      ]
    },
    {
      "cell_type": "markdown",
      "source": "**Q6. Write a program in Python to implement the Deletion of a node in Binary Search Tree (BST) using Inorder Traversal.**",
      "metadata": {}
    },
    {
      "cell_type": "code",
      "source": "## class of nodes in a BST\n## Time complexity for the insertion:\n## Time complexity for the inOrder Traversal: O(n)\n## Time complexity for the minimum value finding in BST:\nclass Node:\n    def __init__(self, data):\n        self.left = None\n        self.right = None\n        self.data = data\n## insertion in BST\ndef insertBST(root, key):\n    if root is None:\n        return Node(key)\n    else:\n        if root.data == key:\n            return root\n        elif root.data < key:\n            root.right = insertBST(root.right, key)\n        else:\n            root.left = insertBST(root.left, key)\n    return root\n## minimum value in BST\ndef minValBST(node):\n    temp = node\n    while temp.left is not None:\n        temp = temp.left\n    return temp.data\n## deletion of node in BST\ndef deleteNode(root, key):\n    ## base case condition\n    if root is None:\n        return root\n    ## searching of the node to be deleted\n    if key < root.data:\n        ## recursive call towards the left side\n        root.left = deleteNode(root.left, key)\n    elif key > root.data:\n        ## recursive call towards the right side\n        root.right = deleteNode(root.right, key) \n    else:\n        ## deletion part happen\n        ## case 1\n        if root.left is None:\n            temp = root.right\n            root = None\n            return temp\n        ## case 2\n        elif root.right is None:\n            temp = root.left\n            root = None\n            return temp\n        ## case 3\n        ## inorder successor\n        ## minimum value in the right subtree\n        temp = minValBST(root.right)\n        root.data = temp\n        ## Delete the inorder successor\n        root.right = deleteNode(root.right, temp)\n    return root\n## function definition of inOrder Traversal\ndef inOrder(root):\n    if root:\n        ## recursive call for the left subtree\n        inOrder(root.left)\n        ## recursive call for the DATA subtree\n        print(str(root.data)+ \" \", end=' ')\n        ## recursive call for the right subtree\n        inOrder(root.right)\n## Main code\nroot = Node(100)\nroot = insertBST(root, 80)\nroot = insertBST(root, 110)\nroot = insertBST(root, 50)\nroot = insertBST(root, 20)\nroot = insertBST(root, 90)\nresult = minValBST(root)\nprint(\"Minimum value in Binary Search Tree:\", result)\nprint()\nprint(\"***INORDER TRAVERSAL***\")\ninOrder(root)\nprint()\n## no child\ndeleteNode(root, 90)\nprint()\nprint('Inorder Traversal of the modified tree')\ninOrder(root)\n## single child\ndeleteNode(root, 50)\nprint()\nprint('Inorder Traversal of the modified tree')\ninOrder(root)\n## two child\ndeleteNode(root, 100)\nprint()\nprint('Inorder Traversal of the modified tree')\ninOrder(root)",
      "metadata": {
        "trusted": true
      },
      "execution_count": 6,
      "outputs": [
        {
          "name": "stdout",
          "text": "Minimum value in Binary Search Tree: 20\n\n***INORDER TRAVERSAL***\n20  50  80  90  100  110  \n\nInorder Traversal of the modified tree\n20  50  80  100  110  \nInorder Traversal of the modified tree\n20  80  100  110  \nInorder Traversal of the modified tree\n20  80  110  ",
          "output_type": "stream"
        }
      ]
    },
    {
      "cell_type": "markdown",
      "source": "**Q7. Write a program in Python to implement the Deletion of a node in Binary Search Tree (BST) using Preorder Traversal.**",
      "metadata": {}
    },
    {
      "cell_type": "code",
      "source": "## class of nodes in a BST\n## Time complexity for the insertion:\n## Time complexity for the inOrder Traversal: O(n)\n## Time complexity for the minimum value finding in BST:\nclass Node:\n    def __init__(self, data):\n        self.left = None\n        self.right = None\n        self.data = data\n## insertion in BST\ndef insertBST(root, key):\n    if root is None:\n        return Node(key)\n    else:\n        if root.data == key:\n            return root\n        elif root.data < key:\n            root.right = insertBST(root.right, key)\n        else:\n            root.left = insertBST(root.left, key)\n    return root\n## minimum value in BST\ndef minValBST(node):\n    temp = node\n    while temp.left is not None:\n        temp = temp.left\n    return temp.data\n## deletion of node in BST\ndef deleteNode(root, key):\n    ## base case condition\n    if root is None:\n        return root\n    ## searching of the node to be deleted\n    if key < root.data:\n        ## recursive call towards the left side\n        root.left = deleteNode(root.left, key)\n    elif key > root.data:\n        ## recursive call towards the right side\n        root.right = deleteNode(root.right, key) \n    else:\n        ## deletion part happen\n        ## case 1\n        if root.left is None:\n            temp = root.right\n            root = None\n            return temp\n        ## case 2\n        elif root.right is None:\n            temp = root.left\n            root = None\n            return temp\n        ## case 3\n        ## inorder successor\n        ## minimum value in the right subtree\n        temp = minValBST(root.right)\n        root.data = temp\n        ## Delete the inorder successor\n        root.right = deleteNode(root.right, temp)\n    return root\n## function definition of preOrder Traversal\ndef preOrder(root):\n    if root:\n        ## recursive call for the DATA subtree\n        print(str(root.data)+\" \", end=' ')\n        ## recursive call for the left subtree\n        preOrder(root.left)\n        ## recursive call for the right subtree\n        preOrder(root.right)\n## Main code\nroot = Node(100)\nroot = insertBST(root, 80)\nroot = insertBST(root, 110)\nroot = insertBST(root, 50)\nroot = insertBST(root, 20)\nroot = insertBST(root, 90)\nresult = minValBST(root)\nprint(\"Minimum value in Binary Search Tree:\", result)\nprint()\nprint(\"***PREORDER TRAVERSAL***\")\npreOrder(root)\nprint()\n## no child\ndeleteNode(root, 90)\nprint()\nprint('Preorder Traversal of the modified tree')\npreOrder(root)\n## single child\ndeleteNode(root, 50)\nprint()\nprint('Preorder Traversal of the modified tree')\npreOrder(root)\n## two child\ndeleteNode(root, 100)\nprint()\nprint('Preorder Traversal of the modified tree')\npreOrder(root)",
      "metadata": {
        "trusted": true
      },
      "execution_count": 7,
      "outputs": [
        {
          "name": "stdout",
          "text": "Minimum value in Binary Search Tree: 20\n\n***PREORDER TRAVERSAL***\n100  80  50  20  90  110  \n\nPreorder Traversal of the modified tree\n100  80  50  20  110  \nPreorder Traversal of the modified tree\n100  80  20  110  \nPreorder Traversal of the modified tree\n110  80  20  ",
          "output_type": "stream"
        }
      ]
    },
    {
      "cell_type": "markdown",
      "source": "**Q8. Write a program in Python to implement the Deletion of a node in Binary Search Tree (BST) using Postorder Traversal.**",
      "metadata": {}
    },
    {
      "cell_type": "code",
      "source": "## class of nodes in a BST\n## Time complexity for the insertion:\n## Time complexity for the inOrder Traversal: O(n)\n## Time complexity for the minimum value finding in BST:\nclass Node:\n    def __init__(self, data):\n        self.left = None\n        self.right = None\n        self.data = data\n## insertion in BST\ndef insertBST(root, key):\n    if root is None:\n        return Node(key)\n    else:\n        if root.data == key:\n            return root\n        elif root.data < key:\n            root.right = insertBST(root.right, key)\n        else:\n            root.left = insertBST(root.left, key)\n    return root\n## minimum value in BST\ndef minValBST(node):\n    temp = node\n    while temp.left is not None:\n        temp = temp.left\n    return temp.data\n## deletion of node in BST\ndef deleteNode(root, key):\n    ## base case condition\n    if root is None:\n        return root\n    ## searching of the node to be deleted\n    if key < root.data:\n        ## recursive call towards the left side\n        root.left = deleteNode(root.left, key)\n    elif key > root.data:\n        ## recursive call towards the right side\n        root.right = deleteNode(root.right, key) \n    else:\n        ## deletion part happen\n        ## case 1\n        if root.left is None:\n            temp = root.right\n            root = None\n            return temp\n        ## case 2\n        elif root.right is None:\n            temp = root.left\n            root = None\n            return temp\n        ## case 3\n        ## inorder successor\n        ## minimum value in the right subtree\n        temp = minValBST(root.right)\n        root.data = temp\n        ## Delete the inorder successor\n        root.right = deleteNode(root.right, temp)\n    return root\n## function definition of postOrder Traversal\ndef postOrder(root):\n    if root:\n        ## recursive call for the left subtree\n        postOrder(root.left)\n        ## recursive call for the right subtree\n        postOrder(root.right)\n        ## recursive call for the DATA subtree\n        print(str(root.data)+\" \", end=' ')\n## Main code\nroot = Node(100)\nroot = insertBST(root, 80)\nroot = insertBST(root, 110)\nroot = insertBST(root, 50)\nroot = insertBST(root, 20)\nroot = insertBST(root, 90)\nresult = minValBST(root)\nprint(\"Minimum value in Binary Search Tree:\", result)\nprint()\nprint(\"***POSTORDER TRAVERSAL***\")\npostOrder(root)\nprint()\n## no child\ndeleteNode(root, 90)\nprint()\nprint('Postorder Traversal of the modified tree')\npostOrder(root)\n## single child\ndeleteNode(root, 50)\nprint()\nprint('Postorder Traversal of the modified tree')\npostOrder(root)\n## two child\ndeleteNode(root, 100)\nprint()\nprint('Postorder Traversal of the modified tree')\npostOrder(root)",
      "metadata": {
        "trusted": true
      },
      "execution_count": 8,
      "outputs": [
        {
          "name": "stdout",
          "text": "Minimum value in Binary Search Tree: 20\n\n***POSTORDER TRAVERSAL***\n20  50  90  80  110  100  \n\nPostorder Traversal of the modified tree\n20  50  80  110  100  \nPostorder Traversal of the modified tree\n20  80  110  100  \nPostorder Traversal of the modified tree\n20  80  110  ",
          "output_type": "stream"
        }
      ]
    }
  ]
}